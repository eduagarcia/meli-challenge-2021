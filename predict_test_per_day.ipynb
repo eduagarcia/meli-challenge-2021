{
 "cells": [
  {
   "cell_type": "code",
   "execution_count": 1,
   "id": "44f23597-5825-42bb-a659-276f75c81feb",
   "metadata": {},
   "outputs": [],
   "source": [
    "import os\n",
    "import sys\n",
    "import time\n",
    "import json\n",
    "from datetime import datetime\n",
    "\n",
    "import numpy as np\n",
    "import pandas as pd\n",
    "\n",
    "#from models import models\n",
    "from utils import read_df, read_numpy, write_df\n",
    "import logging\n",
    "\n",
    "from evaluate import rps"
   ]
  },
  {
   "cell_type": "code",
   "execution_count": 2,
   "id": "567c0430-f42f-4172-aa1b-95b9844b4c54",
   "metadata": {},
   "outputs": [
    {
     "name": "stdout",
     "output_type": "stream",
     "text": [
      "INFO: Pandarallel will run on 50 workers.\n",
      "INFO: Pandarallel will use Memory file system to transfer data between the main process and workers.\n"
     ]
    }
   ],
   "source": [
    "#Model imports\n",
    "import numpy as np\n",
    "import json\n",
    "import os\n",
    "import pandas as pd\n",
    "\n",
    "from tqdm.auto import tqdm\n",
    "from multiprocessing import Pool\n",
    "from iteround import saferound\n",
    "import scipy.stats as st\n",
    "import tweedie\n",
    "from category_encoders import OrdinalEncoder\n",
    "from pandarallel import pandarallel\n",
    "pandarallel.initialize(nb_workers=50)\n",
    "\n",
    "from xgboost import XGBRegressor\n",
    "from sklearn.multioutput import MultiOutputRegressor\n",
    "from sklearn.metrics import mean_squared_error\n",
    "\n",
    "from model import Model\n",
    "from utils import read_df"
   ]
  },
  {
   "cell_type": "code",
   "execution_count": 3,
   "id": "bf4f4aee-d9b6-41e0-aa6b-0f52fb5c7cbf",
   "metadata": {},
   "outputs": [],
   "source": [
    "DATASET_PATH = './dataset/processed/train_v1'\n",
    "TEST_DATA_FILENAME = 'test_data.csv'\n",
    "GROUND_TRUTH_FILENAME = 'test_ground_truth.npy'\n",
    "TRAIN_DATA_FILENAME = 'train_data.parquet'\n",
    "TRAIN_DATA_PROCESSED_FILENAME = 'train_data_features.parquet'\n",
    "ITEM_DATA_FILEPATH = './dataset/items_static_metadata_full.jl'\n",
    "\n",
    "TRAIN_DATA_X_FILENAME = 'train_data_x.parquet'\n",
    "TRAIN_DATA_Y_FILENAME = 'train_data_y.parquet'\n",
    "TRAIN_DATA_X_PROCESSED_FILENAME = 'train_data_x_features.parquet'\n",
    "TRAIN_DATA_Y_PROCESSED_FILENAME = 'train_data_y_features.parquet'\n",
    "\n",
    "TEST_FROMTRAIN_DATA_LAST29_FILENAME = 'test_fromtrain_data_last29.parquet'\n",
    "TEST_FROMTRAIN_DATA_LAST29_PROCESSED_FILENAME = 'test_fromtrain_data_last29_features.parquet'\n",
    "\n",
    "TRAIN_DATA_X_PROCESSED_TSFRESH_FILENAME = 'train_data_x_features_tsfresh.parquet'\n",
    "TEST_FROMTRAIN_DATA_LAST29_PROCESSED_TSFRESH_FILENAME = 'test_fromtrain_data_last29_features_tsfresh.parquet'\n",
    "\n",
    "TRAIN_DATA_PROCESSEDV2_FILENAME = 'train_data_featuresv2.parquet'\n",
    "TRAIN_DATA_X_PROCESSEDV2_FILENAME = 'train_data_x_featuresv2.parquet'\n",
    "TEST_FROMTRAIN_DATA_LAST29V2_FILENAME = 'test_fromtrain_data_last29_featuresv2.parquet'"
   ]
  },
  {
   "cell_type": "code",
   "execution_count": 4,
   "id": "0096aa19-d5d3-44cf-a864-8bd155caa98b",
   "metadata": {},
   "outputs": [],
   "source": [
    "dateset_indexes = [0]\n",
    "model_name = 'simple_first_30_days_fixed_spike'"
   ]
  },
  {
   "cell_type": "code",
   "execution_count": 5,
   "id": "73c79cd0-b59f-4382-823b-22a1f40e1263",
   "metadata": {},
   "outputs": [],
   "source": [
    "dataset_index = dateset_indexes[0]\n",
    "dataset_current_path = os.path.join(DATASET_PATH, str(dataset_index))\n",
    "\n",
    "test_data_filepath = os.path.join(dataset_current_path, TEST_DATA_FILENAME)\n",
    "ground_truth_filepath = os.path.join(dataset_current_path, GROUND_TRUTH_FILENAME)\n",
    "train_data_filepath = os.path.join(dataset_current_path, TRAIN_DATA_FILENAME)\n",
    "train_data_processed_filepath = os.path.join(dataset_current_path, TRAIN_DATA_PROCESSED_FILENAME)\n",
    "\n",
    "train_data_x_filepath = os.path.join(dataset_current_path, TRAIN_DATA_X_FILENAME)\n",
    "train_data_y_filepath = os.path.join(dataset_current_path, TRAIN_DATA_Y_FILENAME)\n",
    "train_data_x_processed_filepath = os.path.join(dataset_current_path, TRAIN_DATA_X_PROCESSED_FILENAME)\n",
    "train_data_y_processed_filepath = os.path.join(dataset_current_path, TRAIN_DATA_Y_PROCESSED_FILENAME)\n",
    "\n",
    "test_fromtrain_data_last29_filepath = os.path.join(dataset_current_path, TEST_FROMTRAIN_DATA_LAST29_FILENAME)\n",
    "test_fromtrain_data_last29_processed_filepath = os.path.join(dataset_current_path, TEST_FROMTRAIN_DATA_LAST29_PROCESSED_FILENAME)\n",
    "\n",
    "train_data_x_processed_tsfresh_filepath = os.path.join(dataset_current_path, TRAIN_DATA_X_PROCESSED_TSFRESH_FILENAME)\n",
    "test_fromtrain_data_last29_processed_tsfresh_filepath = os.path.join(dataset_current_path, TEST_FROMTRAIN_DATA_LAST29_PROCESSED_TSFRESH_FILENAME)\n",
    "\n",
    "train_data_processedv2_filepath = os.path.join(dataset_current_path, TRAIN_DATA_PROCESSEDV2_FILENAME)\n",
    "train_data_x_processedv2_filepath = os.path.join(dataset_current_path, TRAIN_DATA_X_PROCESSEDV2_FILENAME)\n",
    "test_fromtrain_data_last29_processedv2_filepath = os.path.join(dataset_current_path, TEST_FROMTRAIN_DATA_LAST29V2_FILENAME)"
   ]
  },
  {
   "cell_type": "code",
   "execution_count": 6,
   "id": "ac3b6b21-3f10-4ead-81a1-5bdf1d9c91f8",
   "metadata": {},
   "outputs": [],
   "source": [
    "#model = models['xgboost_v1']('./dataset')\n",
    "#model.prepare_data()\n",
    "#model.train()\n",
    "#model.predict('./dataset/test_data.csv')"
   ]
  },
  {
   "cell_type": "code",
   "execution_count": 7,
   "id": "66396109-4efe-4427-9ec2-9fafa2af54cd",
   "metadata": {
    "tags": []
   },
   "outputs": [],
   "source": [
    "#df_train = read_df(train_data_filepath)\n",
    "#df_item = read_df(ITEM_DATA_FILEPATH)"
   ]
  },
  {
   "cell_type": "code",
   "execution_count": 8,
   "id": "19110026-8ba0-481d-aada-b23beceada42",
   "metadata": {},
   "outputs": [],
   "source": [
    "df_test = read_df(test_data_filepath)\n",
    "ground_truth = read_numpy(ground_truth_filepath)\n",
    "\n",
    "#df_train_processed = read_df(train_data_processed_filepath)"
   ]
  },
  {
   "cell_type": "code",
   "execution_count": 9,
   "id": "2b2ff6e8-c943-4e94-a6ff-dbe651a59674",
   "metadata": {},
   "outputs": [],
   "source": [
    "#df_train_x = read_df(train_data_x_filepath)\n",
    "#df_train_x = read_df(train_data_y_filepath)\n",
    "\n",
    "#df_test_fromtrain_x_features = read_df(test_fromtrain_data_last29_processed_filepath)\n",
    "#df_train_x_features = read_df(train_data_x_processed_filepath)\n",
    "df_train_y_features = read_df(train_data_y_processed_filepath)"
   ]
  },
  {
   "cell_type": "code",
   "execution_count": 10,
   "id": "2891a37e-285d-4f38-b4d3-25ea9d1b0aa2",
   "metadata": {},
   "outputs": [],
   "source": [
    "#df_train_x_features_tsfresh = read_df(train_data_x_processed_tsfresh_filepath)\n",
    "#df_test_fromtrain_x_features_tsfresh = read_df(test_fromtrain_data_last29_processed_tsfresh_filepath)\n",
    "\n",
    "df_train_featuresv2 = read_df(train_data_processedv2_filepath)\n",
    "df_train_x_featuresv2 = read_df(train_data_x_processedv2_filepath)\n",
    "df_test_fromtrain_x_featuresv2 = read_df(test_fromtrain_data_last29_processedv2_filepath)"
   ]
  },
  {
   "cell_type": "code",
   "execution_count": 11,
   "id": "f4c53e32-7a11-4e08-8207-577774362f98",
   "metadata": {},
   "outputs": [
    {
     "data": {
      "text/plain": [
       "Index(['184358', '150336', '288936', '502053', '200460', '268926', '388726',\n",
       "       '197622', '345164', '122043',\n",
       "       ...\n",
       "       '349358', '158690', '432635', '94776', '485451', '80319', '340085',\n",
       "       '37558', '394663', '254647'],\n",
       "      dtype='object', length=517896)"
      ]
     },
     "execution_count": 11,
     "metadata": {},
     "output_type": "execute_result"
    }
   ],
   "source": [
    "df_train_featuresv2['item_id'].cat.categories"
   ]
  },
  {
   "cell_type": "code",
   "execution_count": 12,
   "id": "38366f0f-1c16-4901-9e4f-39b76251a23e",
   "metadata": {},
   "outputs": [
    {
     "data": {
      "text/plain": [
       "Index(['184358', '150336', '288936', '502053', '200460', '268926', '388726',\n",
       "       '197622', '345164', '122043',\n",
       "       ...\n",
       "       '349358', '158690', '432635', '94776', '485451', '80319', '340085',\n",
       "       '37558', '394663', '254647'],\n",
       "      dtype='object', length=517896)"
      ]
     },
     "execution_count": 12,
     "metadata": {},
     "output_type": "execute_result"
    }
   ],
   "source": [
    "df_test_fromtrain_x_featuresv2['item_id'].cat.categories"
   ]
  },
  {
   "cell_type": "code",
   "execution_count": 13,
   "id": "87b84a4e-4efd-487d-8bea-f0bb8fe2a5c9",
   "metadata": {},
   "outputs": [],
   "source": [
    "id_column =  'sku'\n",
    "date_column = 'date'\n",
    "\n",
    "item_string_columns = ['item_title']\n",
    "item_categorical_columns = ['item_domain_id', 'item_id', 'site_id', 'product_id', 'product_family_id']\n",
    "item_columns = item_string_columns + item_categorical_columns\n",
    "\n",
    "sku_numeric_columns = ['sold_quantity', 'current_price', 'minutes_active']\n",
    "sku_categorical_columns = ['currency', 'listing_type', 'shipping_logistic_type', 'shipping_payment']\n",
    "sku_columns = sku_numeric_columns + sku_categorical_columns\n",
    "\n",
    "string_columns = item_string_columns\n",
    "categorical_columns = sku_categorical_columns + item_categorical_columns\n",
    "numeric_columns = sku_numeric_columns"
   ]
  },
  {
   "cell_type": "code",
   "execution_count": 14,
   "id": "da0fa98c-42e7-407b-83ff-08385bc6c2d4",
   "metadata": {
    "tags": []
   },
   "outputs": [
    {
     "data": {
      "text/html": [
       "<div>\n",
       "<style scoped>\n",
       "    .dataframe tbody tr th:only-of-type {\n",
       "        vertical-align: middle;\n",
       "    }\n",
       "\n",
       "    .dataframe tbody tr th {\n",
       "        vertical-align: top;\n",
       "    }\n",
       "\n",
       "    .dataframe thead th {\n",
       "        text-align: right;\n",
       "    }\n",
       "</style>\n",
       "<table border=\"1\" class=\"dataframe\">\n",
       "  <thead>\n",
       "    <tr style=\"text-align: right;\">\n",
       "      <th></th>\n",
       "      <th>item_title</th>\n",
       "      <th>item_domain_id</th>\n",
       "      <th>item_id</th>\n",
       "      <th>site_id</th>\n",
       "      <th>product_id</th>\n",
       "      <th>product_family_id</th>\n",
       "      <th>sku</th>\n",
       "      <th>count</th>\n",
       "      <th>date__first</th>\n",
       "      <th>date__last</th>\n",
       "      <th>...</th>\n",
       "      <th>minutes_active__by_item_domain_id__by_dayofthemonth__with_smaller_sum</th>\n",
       "      <th>minutes_active__by_item_domain_id__by_dayofthemonth__with_smaller_mean</th>\n",
       "      <th>minutes_active__by_item_domain_id__by_dayofthemonth__bigger_std</th>\n",
       "      <th>minutes_active__by_item_domain_id__by_dayofthemonth__bigger_var</th>\n",
       "      <th>minutes_active__by_item_domain_id__by_dayofthemonth__smaller_std</th>\n",
       "      <th>minutes_active__by_item_domain_id__by_dayofthemonth__smaller_var</th>\n",
       "      <th>minutes_active__by_item_domain_id__by_dayofthemonth__with_bigger_std</th>\n",
       "      <th>minutes_active__by_item_domain_id__by_dayofthemonth__with_bigger_var</th>\n",
       "      <th>minutes_active__by_item_domain_id__by_dayofthemonth__with_smaller_std</th>\n",
       "      <th>minutes_active__by_item_domain_id__by_dayofthemonth__with_smaller_var</th>\n",
       "    </tr>\n",
       "    <tr>\n",
       "      <th>index</th>\n",
       "      <th></th>\n",
       "      <th></th>\n",
       "      <th></th>\n",
       "      <th></th>\n",
       "      <th></th>\n",
       "      <th></th>\n",
       "      <th></th>\n",
       "      <th></th>\n",
       "      <th></th>\n",
       "      <th></th>\n",
       "      <th></th>\n",
       "      <th></th>\n",
       "      <th></th>\n",
       "      <th></th>\n",
       "      <th></th>\n",
       "      <th></th>\n",
       "      <th></th>\n",
       "      <th></th>\n",
       "      <th></th>\n",
       "      <th></th>\n",
       "      <th></th>\n",
       "    </tr>\n",
       "  </thead>\n",
       "  <tbody>\n",
       "    <tr>\n",
       "      <th>0</th>\n",
       "      <td>Suporte Rack Prancha Parede C/ Regulagem Horiz...</td>\n",
       "      <td>MLB-SURFBOARD_RACKS</td>\n",
       "      <td>300279</td>\n",
       "      <td>MLB</td>\n",
       "      <td>nan</td>\n",
       "      <td>nan</td>\n",
       "      <td>1</td>\n",
       "      <td>29</td>\n",
       "      <td>2021-02-01</td>\n",
       "      <td>2021-03-01</td>\n",
       "      <td>...</td>\n",
       "      <td>19</td>\n",
       "      <td>19</td>\n",
       "      <td>747.179311</td>\n",
       "      <td>558276.923077</td>\n",
       "      <td>399.384141</td>\n",
       "      <td>159507.692308</td>\n",
       "      <td>3</td>\n",
       "      <td>3</td>\n",
       "      <td>27</td>\n",
       "      <td>27</td>\n",
       "    </tr>\n",
       "    <tr>\n",
       "      <th>1</th>\n",
       "      <td>Suporte Rack Prancha Parede C/ Regulagem Horiz...</td>\n",
       "      <td>MLB-SURFBOARD_RACKS</td>\n",
       "      <td>300279</td>\n",
       "      <td>MLB</td>\n",
       "      <td>nan</td>\n",
       "      <td>nan</td>\n",
       "      <td>109871</td>\n",
       "      <td>29</td>\n",
       "      <td>2021-02-01</td>\n",
       "      <td>2021-03-01</td>\n",
       "      <td>...</td>\n",
       "      <td>19</td>\n",
       "      <td>19</td>\n",
       "      <td>747.179311</td>\n",
       "      <td>558276.923077</td>\n",
       "      <td>399.384141</td>\n",
       "      <td>159507.692308</td>\n",
       "      <td>3</td>\n",
       "      <td>3</td>\n",
       "      <td>27</td>\n",
       "      <td>27</td>\n",
       "    </tr>\n",
       "    <tr>\n",
       "      <th>2</th>\n",
       "      <td>Suporte Rack De Parede Prancha De Surf Modelo ...</td>\n",
       "      <td>MLB-SURFBOARD_RACKS</td>\n",
       "      <td>447787</td>\n",
       "      <td>MLB</td>\n",
       "      <td>nan</td>\n",
       "      <td>nan</td>\n",
       "      <td>119816</td>\n",
       "      <td>29</td>\n",
       "      <td>2021-02-01</td>\n",
       "      <td>2021-03-01</td>\n",
       "      <td>...</td>\n",
       "      <td>19</td>\n",
       "      <td>19</td>\n",
       "      <td>747.179311</td>\n",
       "      <td>558276.923077</td>\n",
       "      <td>399.384141</td>\n",
       "      <td>159507.692308</td>\n",
       "      <td>3</td>\n",
       "      <td>3</td>\n",
       "      <td>27</td>\n",
       "      <td>27</td>\n",
       "    </tr>\n",
       "    <tr>\n",
       "      <th>3</th>\n",
       "      <td>Rack Parede Prancha Surf Longboard Fun Suporte...</td>\n",
       "      <td>MLB-SURFBOARD_RACKS</td>\n",
       "      <td>258668</td>\n",
       "      <td>MLB</td>\n",
       "      <td>nan</td>\n",
       "      <td>nan</td>\n",
       "      <td>270493</td>\n",
       "      <td>29</td>\n",
       "      <td>2021-02-01</td>\n",
       "      <td>2021-03-01</td>\n",
       "      <td>...</td>\n",
       "      <td>19</td>\n",
       "      <td>19</td>\n",
       "      <td>747.179311</td>\n",
       "      <td>558276.923077</td>\n",
       "      <td>399.384141</td>\n",
       "      <td>159507.692308</td>\n",
       "      <td>3</td>\n",
       "      <td>3</td>\n",
       "      <td>27</td>\n",
       "      <td>27</td>\n",
       "    </tr>\n",
       "    <tr>\n",
       "      <th>4</th>\n",
       "      <td>Suporte Rack Parede Prancha Surf Stand Up Long...</td>\n",
       "      <td>MLB-SURFBOARD_RACKS</td>\n",
       "      <td>224549</td>\n",
       "      <td>MLB</td>\n",
       "      <td>nan</td>\n",
       "      <td>nan</td>\n",
       "      <td>351784</td>\n",
       "      <td>29</td>\n",
       "      <td>2021-02-01</td>\n",
       "      <td>2021-03-01</td>\n",
       "      <td>...</td>\n",
       "      <td>19</td>\n",
       "      <td>19</td>\n",
       "      <td>747.179311</td>\n",
       "      <td>558276.923077</td>\n",
       "      <td>399.384141</td>\n",
       "      <td>159507.692308</td>\n",
       "      <td>3</td>\n",
       "      <td>3</td>\n",
       "      <td>27</td>\n",
       "      <td>27</td>\n",
       "    </tr>\n",
       "    <tr>\n",
       "      <th>...</th>\n",
       "      <td>...</td>\n",
       "      <td>...</td>\n",
       "      <td>...</td>\n",
       "      <td>...</td>\n",
       "      <td>...</td>\n",
       "      <td>...</td>\n",
       "      <td>...</td>\n",
       "      <td>...</td>\n",
       "      <td>...</td>\n",
       "      <td>...</td>\n",
       "      <td>...</td>\n",
       "      <td>...</td>\n",
       "      <td>...</td>\n",
       "      <td>...</td>\n",
       "      <td>...</td>\n",
       "      <td>...</td>\n",
       "      <td>...</td>\n",
       "      <td>...</td>\n",
       "      <td>...</td>\n",
       "      <td>...</td>\n",
       "      <td>...</td>\n",
       "    </tr>\n",
       "    <tr>\n",
       "      <th>495542</th>\n",
       "      <td>Nozzle Original Creality 3d Ender 3 Y Pro - Pi...</td>\n",
       "      <td>MLA-3D_PRINTER_NOZZLES</td>\n",
       "      <td>470915</td>\n",
       "      <td>MLA</td>\n",
       "      <td>nan</td>\n",
       "      <td>nan</td>\n",
       "      <td>655637</td>\n",
       "      <td>29</td>\n",
       "      <td>2021-02-01</td>\n",
       "      <td>2021-03-01</td>\n",
       "      <td>...</td>\n",
       "      <td>1</td>\n",
       "      <td>1</td>\n",
       "      <td>0.000000</td>\n",
       "      <td>0.000000</td>\n",
       "      <td>0.000000</td>\n",
       "      <td>0.000000</td>\n",
       "      <td>1</td>\n",
       "      <td>1</td>\n",
       "      <td>1</td>\n",
       "      <td>1</td>\n",
       "    </tr>\n",
       "    <tr>\n",
       "      <th>495543</th>\n",
       "      <td>Trailer Maletín Transportador De Autos Carrito...</td>\n",
       "      <td>MLM-COLLECTION_DISPLAYS</td>\n",
       "      <td>137413</td>\n",
       "      <td>MLM</td>\n",
       "      <td>nan</td>\n",
       "      <td>nan</td>\n",
       "      <td>655681</td>\n",
       "      <td>29</td>\n",
       "      <td>2021-02-01</td>\n",
       "      <td>2021-03-01</td>\n",
       "      <td>...</td>\n",
       "      <td>26</td>\n",
       "      <td>26</td>\n",
       "      <td>0.000000</td>\n",
       "      <td>0.000000</td>\n",
       "      <td>0.000000</td>\n",
       "      <td>0.000000</td>\n",
       "      <td>1</td>\n",
       "      <td>1</td>\n",
       "      <td>1</td>\n",
       "      <td>1</td>\n",
       "    </tr>\n",
       "    <tr>\n",
       "      <th>495544</th>\n",
       "      <td>Moedor De Cafe Eletrico Ceramica Portatil Rec...</td>\n",
       "      <td>MLB-ELECTRIC_GRAIN_MILLS</td>\n",
       "      <td>169122</td>\n",
       "      <td>MLB</td>\n",
       "      <td>nan</td>\n",
       "      <td>nan</td>\n",
       "      <td>656129</td>\n",
       "      <td>29</td>\n",
       "      <td>2021-02-01</td>\n",
       "      <td>2021-03-01</td>\n",
       "      <td>...</td>\n",
       "      <td>8</td>\n",
       "      <td>8</td>\n",
       "      <td>0.000000</td>\n",
       "      <td>0.000000</td>\n",
       "      <td>0.000000</td>\n",
       "      <td>0.000000</td>\n",
       "      <td>1</td>\n",
       "      <td>1</td>\n",
       "      <td>1</td>\n",
       "      <td>1</td>\n",
       "    </tr>\n",
       "    <tr>\n",
       "      <th>495545</th>\n",
       "      <td>Cortador Nivelador De Cuchilla Para Biscochuel...</td>\n",
       "      <td>MLA-CAKE_LEVELERS</td>\n",
       "      <td>238245</td>\n",
       "      <td>MLA</td>\n",
       "      <td>nan</td>\n",
       "      <td>nan</td>\n",
       "      <td>657340</td>\n",
       "      <td>29</td>\n",
       "      <td>2021-02-01</td>\n",
       "      <td>2021-03-01</td>\n",
       "      <td>...</td>\n",
       "      <td>1</td>\n",
       "      <td>1</td>\n",
       "      <td>0.000000</td>\n",
       "      <td>0.000000</td>\n",
       "      <td>0.000000</td>\n",
       "      <td>0.000000</td>\n",
       "      <td>1</td>\n",
       "      <td>1</td>\n",
       "      <td>1</td>\n",
       "      <td>1</td>\n",
       "    </tr>\n",
       "    <tr>\n",
       "      <th>495546</th>\n",
       "      <td>Tapas Silicona Reutilizables Ajustables P/refr...</td>\n",
       "      <td>MLM-REFRIGERATOR_CRISPER_DRAWER_COVERS</td>\n",
       "      <td>471509</td>\n",
       "      <td>MLM</td>\n",
       "      <td>nan</td>\n",
       "      <td>nan</td>\n",
       "      <td>658447</td>\n",
       "      <td>29</td>\n",
       "      <td>2021-02-01</td>\n",
       "      <td>2021-03-01</td>\n",
       "      <td>...</td>\n",
       "      <td>1</td>\n",
       "      <td>1</td>\n",
       "      <td>0.000000</td>\n",
       "      <td>0.000000</td>\n",
       "      <td>0.000000</td>\n",
       "      <td>0.000000</td>\n",
       "      <td>1</td>\n",
       "      <td>1</td>\n",
       "      <td>1</td>\n",
       "      <td>1</td>\n",
       "    </tr>\n",
       "  </tbody>\n",
       "</table>\n",
       "<p>495547 rows × 1183 columns</p>\n",
       "</div>"
      ],
      "text/plain": [
       "                                               item_title  \\\n",
       "index                                                       \n",
       "0       Suporte Rack Prancha Parede C/ Regulagem Horiz...   \n",
       "1       Suporte Rack Prancha Parede C/ Regulagem Horiz...   \n",
       "2       Suporte Rack De Parede Prancha De Surf Modelo ...   \n",
       "3       Rack Parede Prancha Surf Longboard Fun Suporte...   \n",
       "4       Suporte Rack Parede Prancha Surf Stand Up Long...   \n",
       "...                                                   ...   \n",
       "495542  Nozzle Original Creality 3d Ender 3 Y Pro - Pi...   \n",
       "495543  Trailer Maletín Transportador De Autos Carrito...   \n",
       "495544   Moedor De Cafe Eletrico Ceramica Portatil Rec...   \n",
       "495545  Cortador Nivelador De Cuchilla Para Biscochuel...   \n",
       "495546  Tapas Silicona Reutilizables Ajustables P/refr...   \n",
       "\n",
       "                                item_domain_id item_id site_id product_id  \\\n",
       "index                                                                       \n",
       "0                          MLB-SURFBOARD_RACKS  300279     MLB        nan   \n",
       "1                          MLB-SURFBOARD_RACKS  300279     MLB        nan   \n",
       "2                          MLB-SURFBOARD_RACKS  447787     MLB        nan   \n",
       "3                          MLB-SURFBOARD_RACKS  258668     MLB        nan   \n",
       "4                          MLB-SURFBOARD_RACKS  224549     MLB        nan   \n",
       "...                                        ...     ...     ...        ...   \n",
       "495542                  MLA-3D_PRINTER_NOZZLES  470915     MLA        nan   \n",
       "495543                 MLM-COLLECTION_DISPLAYS  137413     MLM        nan   \n",
       "495544                MLB-ELECTRIC_GRAIN_MILLS  169122     MLB        nan   \n",
       "495545                       MLA-CAKE_LEVELERS  238245     MLA        nan   \n",
       "495546  MLM-REFRIGERATOR_CRISPER_DRAWER_COVERS  471509     MLM        nan   \n",
       "\n",
       "       product_family_id     sku  count date__first date__last  ...  \\\n",
       "index                                                           ...   \n",
       "0                    nan       1     29  2021-02-01 2021-03-01  ...   \n",
       "1                    nan  109871     29  2021-02-01 2021-03-01  ...   \n",
       "2                    nan  119816     29  2021-02-01 2021-03-01  ...   \n",
       "3                    nan  270493     29  2021-02-01 2021-03-01  ...   \n",
       "4                    nan  351784     29  2021-02-01 2021-03-01  ...   \n",
       "...                  ...     ...    ...         ...        ...  ...   \n",
       "495542               nan  655637     29  2021-02-01 2021-03-01  ...   \n",
       "495543               nan  655681     29  2021-02-01 2021-03-01  ...   \n",
       "495544               nan  656129     29  2021-02-01 2021-03-01  ...   \n",
       "495545               nan  657340     29  2021-02-01 2021-03-01  ...   \n",
       "495546               nan  658447     29  2021-02-01 2021-03-01  ...   \n",
       "\n",
       "        minutes_active__by_item_domain_id__by_dayofthemonth__with_smaller_sum  \\\n",
       "index                                                                           \n",
       "0                                                      19                       \n",
       "1                                                      19                       \n",
       "2                                                      19                       \n",
       "3                                                      19                       \n",
       "4                                                      19                       \n",
       "...                                                   ...                       \n",
       "495542                                                  1                       \n",
       "495543                                                 26                       \n",
       "495544                                                  8                       \n",
       "495545                                                  1                       \n",
       "495546                                                  1                       \n",
       "\n",
       "        minutes_active__by_item_domain_id__by_dayofthemonth__with_smaller_mean  \\\n",
       "index                                                                            \n",
       "0                                                      19                        \n",
       "1                                                      19                        \n",
       "2                                                      19                        \n",
       "3                                                      19                        \n",
       "4                                                      19                        \n",
       "...                                                   ...                        \n",
       "495542                                                  1                        \n",
       "495543                                                 26                        \n",
       "495544                                                  8                        \n",
       "495545                                                  1                        \n",
       "495546                                                  1                        \n",
       "\n",
       "        minutes_active__by_item_domain_id__by_dayofthemonth__bigger_std  \\\n",
       "index                                                                     \n",
       "0                                              747.179311                 \n",
       "1                                              747.179311                 \n",
       "2                                              747.179311                 \n",
       "3                                              747.179311                 \n",
       "4                                              747.179311                 \n",
       "...                                                   ...                 \n",
       "495542                                           0.000000                 \n",
       "495543                                           0.000000                 \n",
       "495544                                           0.000000                 \n",
       "495545                                           0.000000                 \n",
       "495546                                           0.000000                 \n",
       "\n",
       "        minutes_active__by_item_domain_id__by_dayofthemonth__bigger_var  \\\n",
       "index                                                                     \n",
       "0                                           558276.923077                 \n",
       "1                                           558276.923077                 \n",
       "2                                           558276.923077                 \n",
       "3                                           558276.923077                 \n",
       "4                                           558276.923077                 \n",
       "...                                                   ...                 \n",
       "495542                                           0.000000                 \n",
       "495543                                           0.000000                 \n",
       "495544                                           0.000000                 \n",
       "495545                                           0.000000                 \n",
       "495546                                           0.000000                 \n",
       "\n",
       "        minutes_active__by_item_domain_id__by_dayofthemonth__smaller_std  \\\n",
       "index                                                                      \n",
       "0                                              399.384141                  \n",
       "1                                              399.384141                  \n",
       "2                                              399.384141                  \n",
       "3                                              399.384141                  \n",
       "4                                              399.384141                  \n",
       "...                                                   ...                  \n",
       "495542                                           0.000000                  \n",
       "495543                                           0.000000                  \n",
       "495544                                           0.000000                  \n",
       "495545                                           0.000000                  \n",
       "495546                                           0.000000                  \n",
       "\n",
       "        minutes_active__by_item_domain_id__by_dayofthemonth__smaller_var  \\\n",
       "index                                                                      \n",
       "0                                           159507.692308                  \n",
       "1                                           159507.692308                  \n",
       "2                                           159507.692308                  \n",
       "3                                           159507.692308                  \n",
       "4                                           159507.692308                  \n",
       "...                                                   ...                  \n",
       "495542                                           0.000000                  \n",
       "495543                                           0.000000                  \n",
       "495544                                           0.000000                  \n",
       "495545                                           0.000000                  \n",
       "495546                                           0.000000                  \n",
       "\n",
       "        minutes_active__by_item_domain_id__by_dayofthemonth__with_bigger_std  \\\n",
       "index                                                                          \n",
       "0                                                       3                      \n",
       "1                                                       3                      \n",
       "2                                                       3                      \n",
       "3                                                       3                      \n",
       "4                                                       3                      \n",
       "...                                                   ...                      \n",
       "495542                                                  1                      \n",
       "495543                                                  1                      \n",
       "495544                                                  1                      \n",
       "495545                                                  1                      \n",
       "495546                                                  1                      \n",
       "\n",
       "        minutes_active__by_item_domain_id__by_dayofthemonth__with_bigger_var  \\\n",
       "index                                                                          \n",
       "0                                                       3                      \n",
       "1                                                       3                      \n",
       "2                                                       3                      \n",
       "3                                                       3                      \n",
       "4                                                       3                      \n",
       "...                                                   ...                      \n",
       "495542                                                  1                      \n",
       "495543                                                  1                      \n",
       "495544                                                  1                      \n",
       "495545                                                  1                      \n",
       "495546                                                  1                      \n",
       "\n",
       "        minutes_active__by_item_domain_id__by_dayofthemonth__with_smaller_std  \\\n",
       "index                                                                           \n",
       "0                                                      27                       \n",
       "1                                                      27                       \n",
       "2                                                      27                       \n",
       "3                                                      27                       \n",
       "4                                                      27                       \n",
       "...                                                   ...                       \n",
       "495542                                                  1                       \n",
       "495543                                                  1                       \n",
       "495544                                                  1                       \n",
       "495545                                                  1                       \n",
       "495546                                                  1                       \n",
       "\n",
       "        minutes_active__by_item_domain_id__by_dayofthemonth__with_smaller_var  \n",
       "index                                                                          \n",
       "0                                                      27                      \n",
       "1                                                      27                      \n",
       "2                                                      27                      \n",
       "3                                                      27                      \n",
       "4                                                      27                      \n",
       "...                                                   ...                      \n",
       "495542                                                  1                      \n",
       "495543                                                  1                      \n",
       "495544                                                  1                      \n",
       "495545                                                  1                      \n",
       "495546                                                  1                      \n",
       "\n",
       "[495547 rows x 1183 columns]"
      ]
     },
     "execution_count": 14,
     "metadata": {},
     "output_type": "execute_result"
    }
   ],
   "source": [
    "df_train_x_featuresv2"
   ]
  },
  {
   "cell_type": "code",
   "execution_count": 15,
   "id": "1dd7f68b-f58d-4582-9811-67f6cc8798f8",
   "metadata": {},
   "outputs": [
    {
     "data": {
      "text/plain": [
       "Series([], dtype: int64)"
      ]
     },
     "execution_count": 15,
     "metadata": {},
     "output_type": "execute_result"
    }
   ],
   "source": [
    "isna = df_train_x_featuresv2.isna().sum()\n",
    "isna[isna > 0]"
   ]
  },
  {
   "cell_type": "code",
   "execution_count": 16,
   "id": "55bcf01d-c7bf-486a-bf1d-5059e75d4195",
   "metadata": {},
   "outputs": [],
   "source": [
    "x_df = df_train_x_featuresv2.set_index('sku').sample(frac=1, random_state=42).copy()\n",
    "#x_df = df_test_fromtrain_x_features_tsfresh.sample(frac=1, random_state=42).reset_index(drop=True).copy()"
   ]
  },
  {
   "cell_type": "code",
   "execution_count": 17,
   "id": "a779d07c-d01e-4a86-bcfa-66e80da7a4f7",
   "metadata": {},
   "outputs": [],
   "source": [
    "y_df = df_train_y_features.set_index('sku').loc[x_df.index].copy()\n",
    "#y_df = df_train_y_features.set_index('sku').loc[x_df['sku']].reset_index().copy()"
   ]
  },
  {
   "cell_type": "code",
   "execution_count": 18,
   "id": "48514d93-b688-453f-8adf-7cd717092aea",
   "metadata": {},
   "outputs": [],
   "source": [
    "features = []\n",
    "for feature in x_df.columns:\n",
    "    if 'by_item_domain_id' in feature:\n",
    "        continue\n",
    "    if 'by_dayofthemonth' in feature or 'by_dayoftheweek' in feature or 'by_weekofthemonth' in feature:\n",
    "        continue\n",
    "    else:\n",
    "        features.append(feature)"
   ]
  },
  {
   "cell_type": "code",
   "execution_count": 19,
   "id": "dd7d562f-931e-455e-be12-e1fdc64b1e7a",
   "metadata": {},
   "outputs": [],
   "source": [
    "from tsfresh.utilities.dataframe_functions import impute"
   ]
  },
  {
   "cell_type": "code",
   "execution_count": 20,
   "id": "52024e52-eda5-45e1-b8d4-d0864f62c07f",
   "metadata": {},
   "outputs": [],
   "source": [
    "def target_stock_features(df):\n",
    "    df['target_stock__target_day_by_mean'] = df['target_stock']/df['sold_quantity__mean']\n",
    "    df['target_stock__target_day_by_mean__std'] = df['sold_quantity__std']*df['target_stock__target_day_by_mean']/df['sold_quantity__mean']\n",
    "    df['target_stock__last_5__target_day_by_mean'] = df['target_stock']/df['sold_quantity__last_5__mean']\n",
    "    df['target_stock__last_5__target_day_by_mean__std'] = df['sold_quantity__last_5__std']*df['target_stock__last_5__target_day_by_mean']/df['sold_quantity__last_5__mean']\n",
    "    \n",
    "    #df['target_stock__by_item_domain_id__target_day_by_mean'] = df['target_stock']/df['sold_quantity__by_item_domain_id__mean']\n",
    "    #df['target_stock__by_item_domain_id__target_day_by_mean__std'] = df['sold_quantity__by_item_domain_id__std']*df['target_stock__by_item_domain_id__target_day_by_mean']/df['sold_quantity__by_item_domain_id__mean']\n",
    "    \n",
    "    #df.replace([np.inf, -np.inf], np.nan, inplace=True)\n",
    "    for feature in df.columns:\n",
    "        if feature.startswith('target_stock__'):\n",
    "            df[feature] = impute(df[[feature]].copy())[feature]/30"
   ]
  },
  {
   "cell_type": "code",
   "execution_count": 21,
   "id": "c53cb94b-22d2-41af-bc6e-92390c10e361",
   "metadata": {},
   "outputs": [],
   "source": [
    "def weak_normalize(df, normalize_positional=True, one_hot_categorical=False, one_hot_positional=False):\n",
    "    categories_to_eliminate = ['item_domain_id', 'item_id', 'product_id', 'product_family_id']\n",
    "    counting_to_eliminate = ['count']\n",
    "    positional_to_eliminate = ['date__last_month', 'date__first_month', 'date__diff', 'date__last_weekofmonth', 'date__last_day', 'date__last_dayofweek']\n",
    "    #numerical_to_eliminate = ['__sum', '']\n",
    "    \n",
    "    numeric_features = []\n",
    "    categorical_features = []\n",
    "    positional_features = []\n",
    "    counting_features = []\n",
    "    date_features = []\n",
    "    string_features = []\n",
    "    series_features = []\n",
    "    id_features = []\n",
    "    for feature in df.columns:\n",
    "        feature_components = feature.split('__')\n",
    "        if ('with' in feature_components[-1]) or ('location' in feature_components[-1]):\n",
    "            positional_features.append(feature)\n",
    "        elif ('count' in feature_components[-1]):\n",
    "            counting_features.append(feature)\n",
    "        elif feature_components[-1] == 'series':\n",
    "            series_features.append(feature)\n",
    "        elif feature_components[0] in categorical_columns:\n",
    "            categorical_features.append(feature)\n",
    "        elif feature_components[0] == 'date':\n",
    "            if feature == 'date__first' or feature == 'date__last':\n",
    "                date_features.append(feature)\n",
    "            else:\n",
    "                positional_features.append(feature)\n",
    "        elif feature_components[0] in string_columns:\n",
    "            string_features.append(feature)\n",
    "        elif feature_components[0] == id_column:\n",
    "            id_features.append(feature)\n",
    "        else:\n",
    "            numeric_features.append(feature)\n",
    "    \n",
    "    numeric_features_tmp = []\n",
    "    categorical_features_tmp = []\n",
    "    positional_features_tmp = []\n",
    "    counting_features_tmp = []\n",
    "    #target_stock_features = ['target_stock']\n",
    "    \n",
    "    #for feature in df.columns:\n",
    "    #    if feature.startswith('target_stock__'):\n",
    "    #        df[feature] = df[feature]/30\n",
    "    #        target_stock_features.append(feature)\n",
    "    \n",
    "    for feature in categorical_features:\n",
    "        feature_components = feature.split('__')\n",
    "        if feature_components[0] not in categories_to_eliminate:\n",
    "            categorical_features_tmp.append(feature)\n",
    "            if one_hot_categorical:\n",
    "                pass #TODO implementar onehot\n",
    "            else:\n",
    "                df[feature] = df[feature].cat.codes\n",
    "                \n",
    "    for feature in counting_features:\n",
    "        feature_components = feature.split('__')\n",
    "        if feature_components[0] not in counting_to_eliminate:\n",
    "            if 'mode' in feature_components[-1]:\n",
    "                count_feature_base = df['count'] if feature_components[1] != 'by_item_domain_id' else df['count__by_item_domain_id']\n",
    "            else:\n",
    "                count_feature_base = \"__\".join(feature_components[:-1])\n",
    "                count_feature_base = df[count_feature_base+'__count_of_zero'] + df[count_feature_base+'__count_of_non_zero']\n",
    "            df[feature] = df[feature]/count_feature_base\n",
    "            df[feature] = df[feature].fillna(0)\n",
    "            counting_features_tmp.append(feature)\n",
    "    \n",
    "    for feature in positional_features:\n",
    "        if feature in positional_to_eliminate:\n",
    "            continue\n",
    "        feature_components = feature.split('__')\n",
    "        is_count_based = False\n",
    "        if 'dayoftheweek' in feature_components[-2] or 'dayofweek' in feature_components[-1]:\n",
    "            sub = 0\n",
    "            positional_base = 7\n",
    "        elif 'weekofthemonth' in feature_components[-2] or 'weekofmonth' in feature_components[-1]:\n",
    "            sub = 0\n",
    "            positional_base = 4\n",
    "        elif 'dayofthemonth' in feature_components[-2] or 'day' in feature_components[-1]:\n",
    "            sub = 1\n",
    "            positional_base = 31\n",
    "        else:\n",
    "            is_count_based = True\n",
    "            sub = 0\n",
    "            positional_base = df['count']\n",
    "            \n",
    "        if normalize_positional:\n",
    "            if one_hot_positional:\n",
    "                pass #TODO implementar onehot\n",
    "            else:\n",
    "                df[feature] = (df[feature] - sub)/positional_base\n",
    "                positional_features_tmp.append(feature)\n",
    "        else:\n",
    "            if is_count_based:\n",
    "                df[feature] = df[feature].apply(lambda x: x if x >= 0 else np.nan)\n",
    "                df[feature] = df[feature]-df['count']+29\n",
    "                df[feature] = df[feature].fillna(-31)\n",
    "            positional_features_tmp.append(feature)\n",
    "            \n",
    "    for feature in numeric_features:\n",
    "        feature_components = feature.split('__')\n",
    "        if 'linregress' in feature_components[-1] or 'energy_ratio' in feature_components[-1]:\n",
    "            numeric_features_tmp.append(feature)\n",
    "        elif 'variance_large_than_std' == feature_components[-1] or 'symmetry_looking' in feature_components[-1]:\n",
    "            df[feature] = df[feature].astype(int)\n",
    "            numeric_features_tmp.append(feature)\n",
    "        elif feature_components[-1] == 'sum' or feature_components[-1] == 'abs_energy':\n",
    "            #if 'by' not in feature_components[-2] and 'last' not in feature_components[-2]  and 'change' not in feature_components[-2]:\n",
    "            #    df[feature] = df[feature]*29/df['count']    \n",
    "            if 'change' in feature_components[-2]:\n",
    "                df[feature] = df[feature]*28/(df['count']-1)\n",
    "                df[feature] = df[feature].fillna(0)\n",
    "            elif 'last' in feature_components[-2]:\n",
    "                numeric_features_tmp.append(feature)\n",
    "        else:\n",
    "            numeric_features_tmp.append(feature)\n",
    "            \n",
    "    features = numeric_features_tmp + categorical_features_tmp + positional_features_tmp + counting_features_tmp #+ target_stock_features\n",
    "    return df[features]"
   ]
  },
  {
   "cell_type": "markdown",
   "id": "7900e62a-62ce-407f-b6ce-435aa7e373d9",
   "metadata": {},
   "source": [
    "28 - 29 + 29 =28\n",
    "0 - 1 + 29 = 28\n",
    "0 - 59 +29 = -30\n",
    "58 - 59 +29 = 28\n",
    "-1 -1 + 29 = 27\n",
    "-1 -29 +29 = -1\n",
    "-1 -59 +29 = -31\n"
   ]
  },
  {
   "cell_type": "markdown",
   "id": "c5bb7b2f-0b7a-4eec-9181-a6f60001c350",
   "metadata": {},
   "source": [
    "x_df_filtered_return_mean = select_features(x_df, pd.Series(return_mean, index=y_df.index), n_jobs=96)\n",
    "x_df_filtered_td = select_features(x_df, pd.Series(y_td, index=y_df.index), n_jobs=96)\n",
    "x_df_filtered_sum = select_features(x_df, y_df['sold_quantity_sum'], n_jobs=96)\n",
    "x_df_filtered_mean = select_features(x_df, y_df['sold_quantity_mean'], n_jobs=96)"
   ]
  },
  {
   "cell_type": "markdown",
   "id": "6e1849c6-ae71-4780-9d40-068a898a575a",
   "metadata": {},
   "source": [
    "filtered_dfs = {\n",
    "    'x_df_filtered_return_mean': x_df_filtered_return_mean,\n",
    "    'x_df_filtered_td': x_df_filtered_td,\n",
    "    'x_df_filtered_sum': x_df_filtered_sum,\n",
    "    'x_df_filtered_mean': x_df_filtered_mean\n",
    "}\n",
    "\n",
    "for name in filtered_dfs:\n",
    "    with open(os.path.join(dataset_current_path,name+'.txt'), 'w', encoding='utf8') as f:\n",
    "        for column in filtered_dfs[name].columns:\n",
    "            f.write(column+'/n')"
   ]
  },
  {
   "cell_type": "code",
   "execution_count": 22,
   "id": "8667a5cb-0466-4778-a199-8dcd7d62e8e4",
   "metadata": {},
   "outputs": [],
   "source": [
    "x_df_train = x_df[features].copy()\n",
    "#x_df_train['target_stock'] = y_ts\n",
    "#x_df_train = x_df_train[features]\n",
    "#target_stock_features(x_df_train)\n",
    "x_df_train = weak_normalize(x_df_train)\n",
    "X = x_df_train.values"
   ]
  },
  {
   "cell_type": "code",
   "execution_count": 23,
   "id": "58ba5b86-a131-4ddf-9a02-9b2095ab5171",
   "metadata": {
    "tags": []
   },
   "outputs": [],
   "source": [
    "#x_normalized = x_df_train.copy()\n",
    "#x_normalized = weak_normalize(x_normalized)"
   ]
  },
  {
   "cell_type": "code",
   "execution_count": 24,
   "id": "ae3b77b7-4f9e-4f62-b6ec-bb6b1584cba7",
   "metadata": {
    "tags": []
   },
   "outputs": [
    {
     "data": {
      "text/plain": [
       "39"
      ]
     },
     "execution_count": 24,
     "metadata": {},
     "output_type": "execute_result"
    }
   ],
   "source": [
    "removed_fetures = set(features) - set(x_df_train.columns)\n",
    "len(removed_fetures)"
   ]
  },
  {
   "cell_type": "code",
   "execution_count": 25,
   "id": "f617506c-f840-4546-bbfd-5e2aff191f3f",
   "metadata": {},
   "outputs": [],
   "source": [
    "x_test_df = df_test_fromtrain_x_featuresv2.set_index('sku').loc[df_test['sku']].copy()\n",
    "x_test_df = x_test_df[features]\n",
    "#x_test_df = x_test_df[features]\n",
    "x_test_df = weak_normalize(x_test_df)\n",
    "x_test_df['target_stock'] = df_test.set_index('sku')['target_stock']\n",
    "target_stock_features(x_test_df)\n",
    "X_test = x_test_df.values"
   ]
  },
  {
   "cell_type": "code",
   "execution_count": 26,
   "id": "2124612c-f814-4503-b4ed-7bbd5996ca45",
   "metadata": {},
   "outputs": [],
   "source": [
    "x_test_df_all = df_train_featuresv2.set_index('sku').loc[df_test['sku']][features].copy()\n",
    "#x_test_df_all = x_test_df_all[features]\n",
    "x_test_df_all = weak_normalize(x_test_df_all)\n",
    "x_test_df_all['target_stock'] = df_test.set_index('sku')['target_stock']\n",
    "target_stock_features(x_test_df_all)\n",
    "X_test_all = x_test_df_all.values"
   ]
  },
  {
   "cell_type": "code",
   "execution_count": 27,
   "id": "0ac05f76-e0fa-4f26-ba7b-4e9b012beae0",
   "metadata": {},
   "outputs": [],
   "source": [
    "import time\n",
    "from matplotlib import pyplot as plt\n",
    "def print_feature_importance(importance_array, feature_names, n=30):\n",
    "    fig, ax = plt.subplots(figsize=(20, 10))\n",
    "    sort = np.flip(np.argsort(importance_array))[0:n]\n",
    "    ax.barh(np.array(feature_names)[sort], importance_array[sort])\n",
    "    plt.show()"
   ]
  },
  {
   "cell_type": "code",
   "execution_count": 28,
   "id": "5fd0ef24-053a-4ad6-ab6a-21af48525131",
   "metadata": {},
   "outputs": [],
   "source": [
    "from xgboost import XGBClassifier"
   ]
  },
  {
   "cell_type": "code",
   "execution_count": 29,
   "id": "ef0009b7-423d-4aec-9cb5-415f090cb50f",
   "metadata": {},
   "outputs": [],
   "source": [
    "y_sold_quantity_series = np.array(list(y_df['sold_quantity_series'].apply(json.loads).values))\n",
    "y_cumsum = y_sold_quantity_series.cumsum(axis=1)"
   ]
  },
  {
   "cell_type": "code",
   "execution_count": 30,
   "id": "fa310cf9-e60b-4900-aa51-27495a636ef1",
   "metadata": {},
   "outputs": [],
   "source": [
    "SELECT_N = 31\n",
    "\n",
    "index_list = []\n",
    "y_ts = []\n",
    "y_td = []\n",
    "\n",
    "for i, t in zip(y_df.index, y_cumsum):\n",
    "    target_stocks, target_dates = np.unique(t, return_index=True)\n",
    "    if target_stocks[0] == 0:\n",
    "        target_stocks = target_stocks[1:]\n",
    "        target_dates = target_dates[1:]\n",
    "    size = len(target_stocks)\n",
    "    index = np.arange(size)\n",
    "    if size > SELECT_N:\n",
    "        np.random.shuffle(index)\n",
    "        index = index[:SELECT_N]\n",
    "\n",
    "    for target_stock, target_date in zip(target_stocks[index], target_dates[index]):\n",
    "        index_list.append(i)\n",
    "        y_ts.append(target_stock)\n",
    "        y_td.append(target_date)\n",
    "\n",
    "index_list = np.array(index_list)\n",
    "y_ts = np.array(y_ts)\n",
    "y_td = np.array(y_td)\n",
    "\n",
    "x_df_train_2 = x_df_train.loc[index_list].copy()\n",
    "x_df_train_2['target_stock'] = y_ts\n",
    "target_stock_features(x_df_train_2)\n",
    "X = x_df_train_2.values"
   ]
  },
  {
   "cell_type": "code",
   "execution_count": 31,
   "id": "756e0697-aa22-4dc5-bb7c-006f75d4f9a9",
   "metadata": {},
   "outputs": [],
   "source": [
    "y = y_td"
   ]
  },
  {
   "cell_type": "code",
   "execution_count": 32,
   "id": "f2419ec7-2058-42a0-b2fe-cff8bf02724c",
   "metadata": {},
   "outputs": [
    {
     "data": {
      "text/plain": [
       "(3953690,)"
      ]
     },
     "execution_count": 32,
     "metadata": {},
     "output_type": "execute_result"
    }
   ],
   "source": [
    "y.shape"
   ]
  },
  {
   "cell_type": "code",
   "execution_count": 33,
   "id": "5d4480c0-8aea-440f-b4cc-208194051c5b",
   "metadata": {},
   "outputs": [],
   "source": [
    "i = 29\n",
    "y_day = y.copy()\n",
    "index_y_day = (y_day == i).nonzero()[0]\n",
    "index_y_not_day = (y_day != i).nonzero()[0]\n",
    "np.random.shuffle(index_y_not_day)\n",
    "index_y_not_day = index_y_not_day[:index_y_day.shape[0]]"
   ]
  },
  {
   "cell_type": "code",
   "execution_count": 34,
   "id": "c3671543-5e60-4172-8379-5655b2f6c68d",
   "metadata": {},
   "outputs": [],
   "source": [
    "y_day = np.concatenate((np.ones(index_y_day.shape[0]), np.zeros(index_y_not_day.shape[0])))\n",
    "X_day = X[np.concatenate((index_y_day, index_y_not_day))].copy()"
   ]
  },
  {
   "cell_type": "code",
   "execution_count": 35,
   "id": "9097aa49-cc90-4b09-a856-33debcc3d374",
   "metadata": {},
   "outputs": [],
   "source": [
    "p = np.random.permutation(X_day.shape[0])"
   ]
  },
  {
   "cell_type": "code",
   "execution_count": 36,
   "id": "b6df9eb5-bed2-49d9-85a5-dd69edc4512d",
   "metadata": {},
   "outputs": [],
   "source": [
    "y_day = y_day[p]\n",
    "X_day = X_day[p]"
   ]
  },
  {
   "cell_type": "code",
   "execution_count": 37,
   "id": "896c5be4-2ef8-46f7-87a9-2a441ad464d8",
   "metadata": {},
   "outputs": [],
   "source": [
    "y_true_all = ground_truth.argmax(axis=1)\n",
    "y_true_on_day = (y_true_all == i).nonzero()[0]\n",
    "y_true_not_on_day = (y_true_all != i).nonzero()[0]\n",
    "y_true_not_on_day = y_true_not_on_day[:y_true_on_day.shape[0]]\n",
    "\n",
    "y_test_day = np.concatenate((np.ones(y_true_on_day.shape[0]), np.zeros(y_true_not_on_day.shape[0])))\n",
    "X_test_day = X_test_all[np.concatenate((y_true_on_day, y_true_not_on_day))].copy()"
   ]
  },
  {
   "cell_type": "code",
   "execution_count": 38,
   "id": "748aeb94-921d-4b49-8f8a-535d3d142706",
   "metadata": {},
   "outputs": [],
   "source": [
    "from sklearn.model_selection import train_test_split\n",
    "X_train, X_val, y_train, y_val = train_test_split(X_day, y_day, test_size=0.2, random_state=42)"
   ]
  },
  {
   "cell_type": "code",
   "execution_count": 39,
   "id": "22fe3dc1-bda8-4a1f-bea7-71eb179e820b",
   "metadata": {},
   "outputs": [
    {
     "name": "stdout",
     "output_type": "stream",
     "text": [
      "day_29 Starting model training on gpu 3\n",
      "[10:21:50] WARNING: /home/edugarcia/dependencies/xgboost/src/learner.cc:1115: Starting in XGBoost 1.3.0, the default evaluation metric used with the objective 'binary:logistic' was changed from 'error' to 'logloss'. Explicitly set eval_metric if you'd like to restore the old behavior.\n",
      "day_29 Model Training took: 7.941522121429443 seconds\n"
     ]
    }
   ],
   "source": [
    "model_name = f'day_{i}'\n",
    "gpu_id = 2#i%3 + 1\n",
    "print(model_name, \"Starting model training on gpu\", gpu_id)\n",
    "start_time = time.time()\n",
    "model = XGBClassifier(n_estimators=100, max_depth=10, learning_rate=0.2,\n",
    "                    random_state=0, tree_method='gpu_hist', objective='binary:logistic',\n",
    "                    gpu_id=gpu_id, use_label_encoder=False)\n",
    "model.fit(X_train, y_train)\n",
    "print(model_name, \"Model Training took:\", str(time.time() - start_time), \"seconds\")"
   ]
  },
  {
   "cell_type": "code",
   "execution_count": 40,
   "id": "5d0de563-99d8-44c7-a06b-09fc6513407a",
   "metadata": {},
   "outputs": [
    {
     "data": {
      "text/plain": [
       "0.6949182469894408"
      ]
     },
     "execution_count": 40,
     "metadata": {},
     "output_type": "execute_result"
    }
   ],
   "source": [
    "from sklearn.metrics import f1_score\n",
    "y_pred = model.predict(X_val)\n",
    "f1_score(y_val, y_pred)"
   ]
  },
  {
   "cell_type": "code",
   "execution_count": 42,
   "id": "526eb5d5-2a9c-4f6f-83d3-de9957cc4c86",
   "metadata": {},
   "outputs": [
    {
     "data": {
      "text/plain": [
       "0.6229972559086484"
      ]
     },
     "execution_count": 42,
     "metadata": {},
     "output_type": "execute_result"
    }
   ],
   "source": [
    "y_pred = model.predict(X_test_day)\n",
    "f1_score(y_test_day, y_pred)"
   ]
  },
  {
   "cell_type": "code",
   "execution_count": 45,
   "id": "937d9198-81c3-43f3-ae83-d96b02d08a59",
   "metadata": {
    "tags": []
   },
   "outputs": [
    {
     "data": {
      "text/plain": [
       "0.12946781700115892"
      ]
     },
     "execution_count": 45,
     "metadata": {},
     "output_type": "execute_result"
    }
   ],
   "source": [
    "y_pred_all = model.predict(X_test_all)\n",
    "f1_score((y_true_all == i).astype(int), y_pred_all)"
   ]
  },
  {
   "cell_type": "markdown",
   "id": "52534c02-1b43-4b78-a875-d61e34a7003b",
   "metadata": {},
   "source": [
    "# Train for each day"
   ]
  },
  {
   "cell_type": "code",
   "execution_count": 216,
   "id": "de17ea59-1d4e-4cb9-aad5-8e8131066e5f",
   "metadata": {},
   "outputs": [],
   "source": [
    "def train_model(day):\n",
    "    i = day\n",
    "\n",
    "    y_day = y.copy()\n",
    "    index_y_day = (y_day == i).nonzero()[0]\n",
    "    index_y_not_day = (y_day != i).nonzero()[0]\n",
    "    np.random.shuffle(index_y_not_day)\n",
    "    index_y_not_day = index_y_not_day[:index_y_day.shape[0]]\n",
    "    \n",
    "    y_day = np.concatenate((np.ones(index_y_day.shape[0]), np.zerps(index_y_not_day.shape[0])))\n",
    "    X_day = X[np.concatenate((index_y_day, index_y_not_day))].copy()\n",
    "    \n",
    "    p = np.random.permutation(X_day.shape[0])\n",
    "    \n",
    "    y_day = y_day[p]\n",
    "    X_day = X_day[p]\n",
    "    \n",
    "    model_name = f'day_{i}'\n",
    "    gpu_id = i%3 + 1\n",
    "    print(model_name, \"Starting model training on gpu\", gpu_id)\n",
    "    start_time = time.time()\n",
    "    model = XGBClassifier(n_estimators=100, max_depth=10, learning_rate=0.1,\n",
    "                        random_state=0, tree_method='gpu_hist', objective='binary:logistic',\n",
    "                        gpu_id=gpu_id, use_label_encoder=False)\n",
    "    model.fit(X_day, y_day)\n",
    "    print(model_name, \"Model Training took:\", str(time.time() - start_time), \"seconds\")\n",
    "\n",
    "    return {'day': i, 'model': model}"
   ]
  },
  {
   "cell_type": "code",
   "execution_count": 217,
   "id": "fb58f2c9-6b02-4bd3-82fd-3bbda770fb25",
   "metadata": {
    "collapsed": true,
    "jupyter": {
     "outputs_hidden": true
    },
    "tags": []
   },
   "outputs": [
    {
     "data": {
      "application/vnd.jupyter.widget-view+json": {
       "model_id": "c8d59d8cf297423b8dcb717b9d698797",
       "version_major": 2,
       "version_minor": 0
      },
      "text/plain": [
       "  0%|          | 0/30 [00:00<?, ?it/s]"
      ]
     },
     "metadata": {},
     "output_type": "display_data"
    },
    {
     "name": "stdout",
     "output_type": "stream",
     "text": [
      "day_2 Starting model training on gpu 3\n",
      "day_1 Starting model training on gpu 2\n",
      "day_0 Starting model training on gpu 1\n",
      "day_0 Model Training took: 30.04883885383606 seconds\n",
      "day_2 Model Training took: 31.280530214309692 seconds\n",
      "day_0 Model Training took: 13.989392042160034 seconds\n",
      "day_2 Model Training took: 14.985158205032349 seconds\n",
      "day_3 Starting model training on gpu 1\n",
      "day_4 Starting model training on gpu 2\n",
      "day_1 Model Training took: 32.12942099571228 seconds\n",
      "day_1 Model Training took: 22.626384973526 seconds\n",
      "day_3 Model Training took: 7.9581458568573 seconds\n",
      "day_5 Starting model training on gpu 3\n",
      "day_6 Starting model training on gpu 1\n",
      "day_4 Model Training took: 11.096652269363403 seconds\n",
      "day_7 Starting model training on gpu 2\n",
      "day_5 Model Training took: 8.067754983901978 seconds\n",
      "day_6 Model Training took: 7.705057144165039 seconds\n",
      "day_8 Starting model training on gpu 3\n",
      "day_9 Starting model training on gpu 1\n",
      "day_7 Model Training took: 7.866790771484375 seconds\n",
      "day_10 Starting model training on gpu 2\n",
      "day_8 Model Training took: 7.8632025718688965 seconds\n",
      "day_9 Model Training took: 7.855546474456787 seconds\n",
      "day_11 Starting model training on gpu 3\n",
      "day_10 Model Training took: 6.6908323764801025 seconds\n",
      "day_12 Starting model training on gpu 1\n",
      "day_13 Starting model training on gpu 2\n",
      "day_11 Model Training took: 6.901407718658447 seconds\n",
      "day_12 Model Training took: 6.9190452098846436 seconds\n",
      "day_14 Starting model training on gpu 3\n",
      "day_13 Model Training took: 6.718937158584595 seconds\n",
      "day_15 Starting model training on gpu 1\n",
      "day_16 Starting model training on gpu 2\n",
      "day_14 Model Training took: 7.479700088500977 seconds\n",
      "day_17 Starting model training on gpu 3\n",
      "day_15 Model Training took: 6.808786153793335 seconds\n",
      "day_16 Model Training took: 6.466840744018555 seconds\n",
      "day_18 Starting model training on gpu 1\n",
      "day_19 Starting model training on gpu 2\n",
      "day_17 Model Training took: 6.767346620559692 seconds\n",
      "day_20 Starting model training on gpu 3\n",
      "day_18 Model Training took: 6.733287334442139 seconds\n",
      "day_19 Model Training took: 6.477850437164307 seconds\n",
      "day_21 Starting model training on gpu 1\n",
      "day_22 Starting model training on gpu 2\n",
      "day_20 Model Training took: 7.0448901653289795 seconds\n",
      "day_23 Starting model training on gpu 3\n",
      "day_21 Model Training took: 7.474132299423218 seconds\n",
      "day_22 Model Training took: 7.501163005828857 seconds\n",
      "day_24 Starting model training on gpu 1\n",
      "day_25 Starting model training on gpu 2\n",
      "day_23 Model Training took: 7.598338603973389 seconds\n",
      "day_26 Starting model training on gpu 3\n",
      "day_24 Model Training took: 7.172044515609741 seconds\n",
      "day_25 Model Training took: 7.1869378089904785 seconds\n",
      "day_27 Starting model training on gpu 1\n",
      "day_28 Starting model training on gpu 2\n",
      "day_26 Model Training took: 7.37935209274292 seconds\n",
      "day_29 Starting model training on gpu 3\n",
      "day_27 Model Training took: 7.5257415771484375 seconds\n",
      "day_28 Model Training took: 7.715277194976807 seconds\n",
      "day_29 Model Training took: 7.355754137039185 seconds\n"
     ]
    }
   ],
   "source": [
    "from multiprocessing.dummy import Pool as ThreadPool\n",
    "\n",
    "result_data = []\n",
    "with ThreadPool(3) as p:\n",
    "    for data in tqdm(p.imap(train_model, range(30)), total=30):\n",
    "        result_data.append(data)"
   ]
  },
  {
   "cell_type": "code",
   "execution_count": 224,
   "id": "6fb22a4f-c1da-4150-bfa8-f39ccbe89ede",
   "metadata": {
    "tags": []
   },
   "outputs": [
    {
     "name": "stdout",
     "output_type": "stream",
     "text": [
      "0 0.7837751383827988\n",
      "1 0.6885343940363272\n",
      "2 0.6145447970849212\n",
      "3 0.5542961252816333\n",
      "4 0.515458540791633\n",
      "5 0.4975313621317905\n",
      "6 0.47240688715195683\n",
      "7 0.45634335623487526\n",
      "8 0.44684431587438456\n",
      "9 0.4542432755695252\n",
      "10 0.4464618508525493\n",
      "11 0.4447233734805708\n",
      "12 0.450856721648911\n",
      "13 0.4436107479625045\n",
      "14 0.43165697755278015\n",
      "15 0.4160106812049734\n",
      "16 0.42239437011487857\n",
      "17 0.4305860754916414\n",
      "18 0.46823454145920834\n",
      "19 0.522906177853189\n",
      "20 0.512704792634419\n",
      "21 0.5167728296848488\n",
      "22 0.5412714528107703\n",
      "23 0.5671330421963228\n",
      "24 0.5931615254095852\n",
      "25 0.6196141971016105\n",
      "26 0.6302189090706796\n",
      "27 0.6378403938694334\n",
      "28 0.6478053461656144\n",
      "29 0.6695502211343217\n"
     ]
    }
   ],
   "source": [
    "preds = np.zeros((X_test_all.shape[0], 30))\n",
    "for model_data in result_data:\n",
    "    model = model_data['model']\n",
    "    day = model_data['day']\n",
    "    pred_day = model.predict_proba(X_test_all)\n",
    "    argmax_day = pred_day.argmax(axis=1)\n",
    "    print(day, argmax_day.sum()/len(pred_day))\n",
    "    pred_day = pred_day[:, 1]\n",
    "    preds[:, day] = pred_day\n",
    "    #preds.append(preds)"
   ]
  },
  {
   "cell_type": "code",
   "execution_count": 225,
   "id": "38809d4e-4c76-435f-8e2b-11ab8a5d1806",
   "metadata": {},
   "outputs": [
    {
     "data": {
      "text/plain": [
       "3.997514963750313"
      ]
     },
     "execution_count": 225,
     "metadata": {},
     "output_type": "execute_result"
    }
   ],
   "source": [
    "preds_norm = (preds/preds.sum(axis=1)[:,None]).round(4)\n",
    "pred_rps = rps(preds_norm, ground_truth)\n",
    "pred_rps"
   ]
  },
  {
   "cell_type": "code",
   "execution_count": 226,
   "id": "2e1eacd6-45fb-4e3f-a122-3444d32253be",
   "metadata": {},
   "outputs": [
    {
     "data": {
      "text/plain": [
       "array([[0.0005, 0.002 , 0.0059, ..., 0.0445, 0.0492, 0.0497],\n",
       "       [0.0155, 0.0291, 0.0389, ..., 0.0346, 0.0212, 0.0164],\n",
       "       [0.0012, 0.0023, 0.006 , ..., 0.0439, 0.0359, 0.0305],\n",
       "       ...,\n",
       "       [0.0435, 0.0477, 0.0525, ..., 0.0095, 0.008 , 0.0115],\n",
       "       [0.011 , 0.0226, 0.0234, ..., 0.0327, 0.0277, 0.0278],\n",
       "       [0.063 , 0.0554, 0.0407, ..., 0.042 , 0.0347, 0.019 ]])"
      ]
     },
     "execution_count": 226,
     "metadata": {},
     "output_type": "execute_result"
    }
   ],
   "source": [
    "preds_norm"
   ]
  }
 ],
 "metadata": {
  "kernelspec": {
   "display_name": "torch",
   "language": "python",
   "name": "torch"
  },
  "language_info": {
   "codemirror_mode": {
    "name": "ipython",
    "version": 3
   },
   "file_extension": ".py",
   "mimetype": "text/x-python",
   "name": "python",
   "nbconvert_exporter": "python",
   "pygments_lexer": "ipython3",
   "version": "3.6.13"
  }
 },
 "nbformat": 4,
 "nbformat_minor": 5
}
