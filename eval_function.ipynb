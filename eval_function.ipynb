{
 "cells": [
  {
   "cell_type": "code",
   "execution_count": 13,
   "id": "b79c5981-2cc5-4e22-9c30-8738eb0a92db",
   "metadata": {},
   "outputs": [],
   "source": [
    "import numpy as np\n",
    "import pandas as pd\n",
    "import os"
   ]
  },
  {
   "cell_type": "code",
   "execution_count": 3,
   "id": "67d0b2b1-dbc1-43a1-bf3c-4b92c28fae60",
   "metadata": {},
   "outputs": [],
   "source": [
    "def rps(np_predicted, np_true):\n",
    "    return np.sum(np.square(np.cumsum(np_predicted, axis=1) - np.cumsum(np_true, axis=1)), axis=1).mean()"
   ]
  },
  {
   "cell_type": "code",
   "execution_count": 4,
   "id": "0dcad598-1809-4e03-82ae-3104e3961d0b",
   "metadata": {},
   "outputs": [],
   "source": [
    "predicted_path = 'predictions/uniform_after_random_specific_date.csv'\n",
    "true_path = 'predictions/spike_random_specific_date.csv'"
   ]
  },
  {
   "cell_type": "code",
   "execution_count": 5,
   "id": "f30f1219-67b4-49c6-98d3-434e12900d1c",
   "metadata": {
    "tags": []
   },
   "outputs": [
    {
     "data": {
      "text/plain": [
       "8.181913519515714"
      ]
     },
     "execution_count": 5,
     "metadata": {},
     "output_type": "execute_result"
    }
   ],
   "source": [
    "df_predicted = pd.read_csv(predicted_path, header=None)\n",
    "df_true = pd.read_csv(true_path, header=None)\n",
    "\n",
    "np_predicted = df_predicted.to_numpy()\n",
    "np_true = df_true.to_numpy()\n",
    "\n",
    "rps(np_predicted, np_true)"
   ]
  },
  {
   "cell_type": "code",
   "execution_count": 18,
   "id": "601513a4-a996-41ce-87a9-df171d788386",
   "metadata": {},
   "outputs": [],
   "source": [
    "def read_numpy(data):\n",
    "    if isinstance(data, np.ndarray):\n",
    "        return data\n",
    "    elif isinstance(data, list):\n",
    "        return np.array(data)\n",
    "    elif isinstance(data, pd.DataFrame):\n",
    "        return data.to_numpy()\n",
    "    elif isinstance(data, str):\n",
    "        extension = os.path.splitext(data)[-1]\n",
    "        if extension == '.csv':\n",
    "            return pd.read_csv(data, header=None).to_numpy()\n",
    "        elif extension == '.parquet':\n",
    "            return pd.read_parquet(data, engine='fastparquet', header=None).to_numpy()\n",
    "        elif extension == '.npy':\n",
    "            return np.load(data)\n",
    "    raise Exception('invalid data')\n",
    "        \n",
    "\n",
    "def evaluate_rps(predict, ground_truth):\n",
    "    np_predicted = read_numpy(predict)\n",
    "    np_true = read_numpy(ground_truth)\n",
    "    \n",
    "    return rps(np_predicted, np_true)"
   ]
  },
  {
   "cell_type": "code",
   "execution_count": 19,
   "id": "f5fa00f7-547c-4a7d-956c-d7e38d2ec29f",
   "metadata": {},
   "outputs": [
    {
     "data": {
      "text/plain": [
       "8.181913519515714"
      ]
     },
     "execution_count": 19,
     "metadata": {},
     "output_type": "execute_result"
    }
   ],
   "source": [
    "evaluate_rps(np_predicted, true_path)"
   ]
  }
 ],
 "metadata": {
  "kernelspec": {
   "display_name": "Python 3",
   "language": "python",
   "name": "python3"
  },
  "language_info": {
   "codemirror_mode": {
    "name": "ipython",
    "version": 3
   },
   "file_extension": ".py",
   "mimetype": "text/x-python",
   "name": "python",
   "nbconvert_exporter": "python",
   "pygments_lexer": "ipython3",
   "version": "3.6.13"
  }
 },
 "nbformat": 4,
 "nbformat_minor": 5
}
