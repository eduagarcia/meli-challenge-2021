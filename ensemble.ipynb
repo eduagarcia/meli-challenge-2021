{
 "cells": [
  {
   "cell_type": "code",
   "execution_count": 1,
   "id": "4ac2b0f2-fc99-4b00-9b04-9712a27c77d3",
   "metadata": {},
   "outputs": [],
   "source": [
    "import os\n",
    "import numpy as np\n",
    "import pandas as pd\n",
    "from utils import read_numpy"
   ]
  },
  {
   "cell_type": "code",
   "execution_count": 3,
   "id": "3a83e86b-4254-4be7-ae51-528dac8927b9",
   "metadata": {},
   "outputs": [],
   "source": [
    "model_names = ['normal', 'xgboost_v1', 'uniform']"
   ]
  },
  {
   "cell_type": "code",
   "execution_count": 4,
   "id": "ae4f98f8-862a-4271-8c00-3983d74c64dd",
   "metadata": {},
   "outputs": [],
   "source": [
    "data = []\n",
    "    \n",
    "for model_name in model_names:\n",
    "    data.append(read_numpy(os.path.join('./predictions', f'{model_name}.csv')))"
   ]
  },
  {
   "cell_type": "code",
   "execution_count": 26,
   "id": "a1ca2ad2-f082-4def-aea9-e2f69fdd7dda",
   "metadata": {},
   "outputs": [],
   "source": [
    "result = np.zeros(data[0].shape)\n",
    "for submission in data:\n",
    "    result += submission\n",
    "result = result/len(model_names)\n",
    "\n",
    "result = (result / result.sum(axis=1)[:,None]).round(4)"
   ]
  }
 ],
 "metadata": {
  "kernelspec": {
   "display_name": "torch",
   "language": "python",
   "name": "torch"
  },
  "language_info": {
   "codemirror_mode": {
    "name": "ipython",
    "version": 3
   },
   "file_extension": ".py",
   "mimetype": "text/x-python",
   "name": "python",
   "nbconvert_exporter": "python",
   "pygments_lexer": "ipython3",
   "version": "3.6.13"
  }
 },
 "nbformat": 4,
 "nbformat_minor": 5
}
