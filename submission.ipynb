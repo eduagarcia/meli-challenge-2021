{
 "cells": [
  {
   "cell_type": "code",
   "execution_count": 6,
   "id": "031519a0-69be-4898-9b93-13629ae1e399",
   "metadata": {},
   "outputs": [],
   "source": [
    "import requests\n",
    "import gzip\n",
    "import os\n",
    "import datetime\n",
    "import time\n",
    "import pandas as pd\n",
    "import hashlib"
   ]
  },
  {
   "cell_type": "code",
   "execution_count": 7,
   "id": "26da970d-8ca1-475d-9ee8-4ab44d4ae927",
   "metadata": {},
   "outputs": [],
   "source": [
    "MELI_CODE = 'O00056-09f917eE16-0703fa21'\n",
    "FILEPATH = 'predictions/xgboost_features_v3_2_tsfresh_plus_manual.csv'"
   ]
  },
  {
   "cell_type": "code",
   "execution_count": 3,
   "id": "dfc3a249-be70-47af-b584-e6fc9f17522e",
   "metadata": {},
   "outputs": [
    {
     "name": "stdout",
     "output_type": "stream",
     "text": [
      "Calculating hash of predictions/xgboost_features_v3_tsfresh.csv...\n",
      "Compressing predictions/xgboost_features_v3_tsfresh.csv to ./submissions/xgboost_features_v3_tsfresh-1629069540.csv.gz...\n",
      "Done\n"
     ]
    }
   ],
   "source": [
    "#Compress file and save to folder\n",
    "def generate_file_sha256(filepath, blocksize=2**20):\n",
    "    m = hashlib.sha256()\n",
    "    with open(filepath , \"rb\") as f:\n",
    "        while True:\n",
    "            buf = f.read(blocksize)\n",
    "            if not buf:\n",
    "                break\n",
    "            m.update(buf)\n",
    "    return m.hexdigest()\n",
    "\n",
    "if not os.path.exists('submissions'):\n",
    "    os.mkdir('submissions')\n",
    "    \n",
    "filename = os.path.splitext(os.path.basename(FILEPATH))[0]\n",
    "date = datetime.datetime.now()\n",
    "unix_time = int(time.mktime(date.timetuple()))\n",
    "gz_filepath = './submissions/'+filename+'-'+str(unix_time)+'.csv.gz'\n",
    "\n",
    "print(f'Calculating hash of {FILEPATH}...')\n",
    "filehash = generate_file_sha256(FILEPATH)\n",
    "\n",
    "data= {\n",
    "    'sha256': filehash,\n",
    "    'datetime': date,\n",
    "    'unix_time': unix_time,\n",
    "    'original_filepath': FILEPATH,\n",
    "    'original_filename': filename,\n",
    "    'saved_filepath': gz_filepath\n",
    "} \n",
    "\n",
    "print(f'Compressing {FILEPATH} to {gz_filepath}...')\n",
    "\n",
    "with open(FILEPATH, 'rb') as f_original:\n",
    "    with gzip.open(gz_filepath, 'wb') as f_gz:\n",
    "        f_gz.write(f_original.read())\n",
    "        \n",
    "print('Done')"
   ]
  },
  {
   "cell_type": "code",
   "execution_count": 8,
   "id": "600316e0-cddf-482c-b6b3-f3d3aa15fdd1",
   "metadata": {},
   "outputs": [
    {
     "name": "stdout",
     "output_type": "stream",
     "text": [
      "Calculating hash of predictions/xgboost_features_v3_2_tsfresh_plus_manual.csv...\n"
     ]
    }
   ],
   "source": [
    "def generate_file_sha256(filepath, blocksize=2**20):\n",
    "    m = hashlib.sha256()\n",
    "    with open(filepath , \"rb\") as f:\n",
    "        while True:\n",
    "            buf = f.read(blocksize)\n",
    "            if not buf:\n",
    "                break\n",
    "            m.update(buf)\n",
    "    return m.hexdigest()\n",
    "\n",
    "if not os.path.exists('submissions'):\n",
    "    os.mkdir('submissions')\n",
    "    \n",
    "filename = os.path.splitext(os.path.basename(FILEPATH))[0]\n",
    "date = datetime.datetime.now()\n",
    "unix_time = 1629070683\n",
    "gz_filepath = './submissions/'+filename+'-'+str(unix_time)+'.csv.gz'\n",
    "\n",
    "print(f'Calculating hash of {FILEPATH}...')\n",
    "filehash = generate_file_sha256(FILEPATH)\n",
    "\n",
    "data= {\n",
    "    'sha256': filehash,\n",
    "    'datetime': date,\n",
    "    'unix_time': unix_time,\n",
    "    'original_filepath': FILEPATH,\n",
    "    'original_filename': filename,\n",
    "    'saved_filepath': gz_filepath\n",
    "} "
   ]
  },
  {
   "cell_type": "code",
   "execution_count": 9,
   "id": "4dbbedb7-6834-4aad-8542-0cba21a056e7",
   "metadata": {},
   "outputs": [],
   "source": [
    "RESULT = 3.7635578038469295"
   ]
  },
  {
   "cell_type": "code",
   "execution_count": 10,
   "id": "bdd6d0a8-3f22-449d-9808-9c43471ae62a",
   "metadata": {},
   "outputs": [],
   "source": [
    "#ADD result to csv\n",
    "data['result'] = RESULT\n",
    "\n",
    "#df_temp = pd.DataFrame([data])\n",
    "#df_temp.to_csv('submissions.csv', index=False)\n",
    "\n",
    "df = pd.read_csv('submissions.csv')\n",
    "df = df.append(data, ignore_index=True)\n",
    "df.to_csv('submissions.csv', index=False)"
   ]
  }
 ],
 "metadata": {
  "kernelspec": {
   "display_name": "Python 3",
   "language": "python",
   "name": "python3"
  },
  "language_info": {
   "codemirror_mode": {
    "name": "ipython",
    "version": 3
   },
   "file_extension": ".py",
   "mimetype": "text/x-python",
   "name": "python",
   "nbconvert_exporter": "python",
   "pygments_lexer": "ipython3",
   "version": "3.6.13"
  }
 },
 "nbformat": 4,
 "nbformat_minor": 5
}
