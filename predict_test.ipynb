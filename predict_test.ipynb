{
 "cells": [
  {
   "cell_type": "code",
   "execution_count": 1,
   "id": "44f23597-5825-42bb-a659-276f75c81feb",
   "metadata": {},
   "outputs": [],
   "source": [
    "import os\n",
    "import sys\n",
    "import time\n",
    "import json\n",
    "from datetime import datetime\n",
    "\n",
    "import numpy as np\n",
    "import pandas as pd\n",
    "\n",
    "from models import models\n",
    "from utils import read_df, read_numpy, write_df\n",
    "import logging\n",
    "\n",
    "from evaluate import rps"
   ]
  },
  {
   "cell_type": "code",
   "execution_count": 2,
   "id": "567c0430-f42f-4172-aa1b-95b9844b4c54",
   "metadata": {},
   "outputs": [],
   "source": [
    "#Model imports\n",
    "import numpy as np\n",
    "import json\n",
    "\n",
    "from tqdm.auto import tqdm\n",
    "from multiprocessing import Pool\n",
    "from iteround import saferound\n",
    "\n",
    "from model import Model\n",
    "from utils import read_df"
   ]
  },
  {
   "cell_type": "code",
   "execution_count": 3,
   "id": "bf4f4aee-d9b6-41e0-aa6b-0f52fb5c7cbf",
   "metadata": {},
   "outputs": [],
   "source": [
    "DATASET_PATH = './dataset/processed/train_v1'\n",
    "TEST_DATA_FILENAME = 'test_data.csv'\n",
    "GROUND_TRUTH_FILENAME = 'test_ground_truth.npy'\n",
    "TRAIN_DATA_FILENAME = 'train_data.parquet'\n",
    "TRAIN_DATA_PROCESSED_FILENAME = 'train_sku_feature_data.parquet'"
   ]
  },
  {
   "cell_type": "code",
   "execution_count": 4,
   "id": "0096aa19-d5d3-44cf-a864-8bd155caa98b",
   "metadata": {},
   "outputs": [],
   "source": [
    "dateset_indexes = [0]\n",
    "model_name = 'simple_first_30_days_fixed_spike'"
   ]
  },
  {
   "cell_type": "code",
   "execution_count": 5,
   "id": "73c79cd0-b59f-4382-823b-22a1f40e1263",
   "metadata": {},
   "outputs": [],
   "source": [
    "dataset_index = dateset_indexes[0]\n",
    "dataset_current_path = os.path.join(DATASET_PATH, str(dataset_index))\n",
    "\n",
    "test_data_filepath = os.path.join(dataset_current_path, TEST_DATA_FILENAME)\n",
    "ground_truth_filepath = os.path.join(dataset_current_path, GROUND_TRUTH_FILENAME)\n",
    "train_data_filepath = os.path.join(dataset_current_path, TRAIN_DATA_FILENAME)\n",
    "train_data_processed_filepath = os.path.join(dataset_current_path, TRAIN_DATA_PROCESSED_FILENAME)"
   ]
  },
  {
   "cell_type": "code",
   "execution_count": 6,
   "id": "66396109-4efe-4427-9ec2-9fafa2af54cd",
   "metadata": {},
   "outputs": [],
   "source": [
    "df_test = read_df(test_data_filepath)\n",
    "ground_truth = read_numpy(ground_truth_filepath)\n",
    "df_train = read_df(train_data_filepath)\n",
    "df_train_processed = read_df(train_data_processed_filepath)"
   ]
  },
  {
   "cell_type": "code",
   "execution_count": 7,
   "id": "643fd9ff-389a-4741-830e-c58a1fda4520",
   "metadata": {},
   "outputs": [],
   "source": [
    "df_train_v1 = df_train_processed.set_index('sku')\n",
    "df_train_v1['sold_quantity_series'] = df_train_v1['sold_quantity_series'].apply(lambda x: np.array(json.loads(x)))\n",
    "training_data = df_train_v1[df_train_v1['sold_quantity_sum'] > 0]\n",
    "training_data = training_data[training_data['count'] >= 21]"
   ]
  },
  {
   "cell_type": "code",
   "execution_count": 8,
   "id": "9d18a19c-59d6-45c8-87b1-09785de26a12",
   "metadata": {},
   "outputs": [],
   "source": [
    "def rolling_window(a, window):\n",
    "    shape = a.shape[:-1] + (a.shape[-1] - window + 1, window)\n",
    "    strides = a.strides + (a.strides[-1],)\n",
    "    return np.lib.stride_tricks.as_strided(a, shape=shape, strides=strides)\n",
    "\n",
    "def build_training_data(sold_quantity_series):\n",
    "    windows = rolling_window(sold_quantity_series, 21)\n",
    "    X = windows[:, :-1]\n",
    "    y = windows[:, -1]\n",
    "    return X, y"
   ]
  },
  {
   "cell_type": "code",
   "execution_count": 9,
   "id": "ee29f452-56c8-462d-b1d6-212a20e12285",
   "metadata": {},
   "outputs": [
    {
     "data": {
      "application/vnd.jupyter.widget-view+json": {
       "model_id": "1e772ec39f8e46b68424149138e3beb0",
       "version_major": 2,
       "version_minor": 0
      },
      "text/plain": [
       "  0%|          | 0/608752 [00:00<?, ?it/s]"
      ]
     },
     "metadata": {},
     "output_type": "display_data"
    }
   ],
   "source": [
    "X = []\n",
    "y = []\n",
    "with Pool(100) as p:\n",
    "    for data in tqdm(p.imap(build_training_data, training_data['sold_quantity_series'].values), total=len(training_data['sold_quantity_series'])):\n",
    "        X.append(data[0])\n",
    "        y.append(data[1])"
   ]
  },
  {
   "cell_type": "code",
   "execution_count": 10,
   "id": "3d9de418-581d-48d7-b473-82763821c1a3",
   "metadata": {},
   "outputs": [],
   "source": [
    "X_train = np.concatenate(X)\n",
    "y_train = np.concatenate(y)"
   ]
  },
  {
   "cell_type": "code",
   "execution_count": 11,
   "id": "7928b791-3597-4d03-ae1a-97670aa54a0d",
   "metadata": {},
   "outputs": [
    {
     "data": {
      "text/plain": [
       "19499387"
      ]
     },
     "execution_count": 11,
     "metadata": {},
     "output_type": "execute_result"
    }
   ],
   "source": [
    "len(X_train)"
   ]
  },
  {
   "cell_type": "code",
   "execution_count": 12,
   "id": "af03f32d-72ae-4ef0-a02d-3088c2241ee0",
   "metadata": {},
   "outputs": [],
   "source": [
    "indexes = np.random.choice(np.arange(len(X_train)), 2000000)"
   ]
  },
  {
   "cell_type": "code",
   "execution_count": 13,
   "id": "10ede117-4011-4b87-bded-4a3cee9f8159",
   "metadata": {},
   "outputs": [
    {
     "data": {
      "text/plain": [
       "1113504"
      ]
     },
     "execution_count": 13,
     "metadata": {},
     "output_type": "execute_result"
    }
   ],
   "source": [
    "y_non_zeros = y_train[indexes] > 0\n",
    "index_non_zeros = indexes[y_non_zeros]\n",
    "\n",
    "y_zeros = y_train[indexes] == 0\n",
    "index_zeros = indexes[y_zeros]\n",
    "\n",
    "index_balanced = np.concatenate((index_non_zeros, index_zeros[:int(len(index_non_zeros))]))\n",
    "len(index_balanced)"
   ]
  },
  {
   "cell_type": "code",
   "execution_count": 14,
   "id": "0be5935c-2df7-453b-b828-0eac8d5f8684",
   "metadata": {},
   "outputs": [],
   "source": [
    "from sklearn import tree\n",
    "from sklearn.ensemble import RandomForestRegressor\n",
    "clf = RandomForestRegressor(max_depth=20, n_jobs=70)\n",
    "clf = clf.fit(X_train[index_balanced], y_train[index_balanced])"
   ]
  },
  {
   "cell_type": "code",
   "execution_count": 15,
   "id": "0709c062-7f7b-4105-a51c-1d36b89f9169",
   "metadata": {},
   "outputs": [
    {
     "data": {
      "text/plain": [
       "14.230686"
      ]
     },
     "execution_count": 15,
     "metadata": {},
     "output_type": "execute_result"
    }
   ],
   "source": [
    "import sklearn\n",
    "\n",
    "mask = np.ones(X_train.shape[0],dtype=bool)\n",
    "mask[index_balanced ] = False\n",
    "test_index = np.arange(len(X_train))[~mask]\n",
    "\n",
    "indexes_2 = np.random.choice(test_index, 1000000)\n",
    "y_pred = clf.predict(X_train[indexes_2])\n",
    "y_true = y_train[indexes_2]\n",
    "sklearn.metrics.mean_squared_error(y_true, y_pred.round())"
   ]
  },
  {
   "cell_type": "code",
   "execution_count": 16,
   "id": "4569accf-da35-4da8-b59c-31e5bad7f671",
   "metadata": {
    "tags": []
   },
   "outputs": [
    {
     "ename": "SyntaxError",
     "evalue": "EOF while scanning triple-quoted string literal (<ipython-input-16-9e240ea095d8>, line 41)",
     "output_type": "error",
     "traceback": [
      "\u001b[0;36m  File \u001b[0;32m\"<ipython-input-16-9e240ea095d8>\"\u001b[0;36m, line \u001b[0;32m41\u001b[0m\n\u001b[0;31m    print('pred', ground_truth[index])\u001b[0m\n\u001b[0m                                      \n^\u001b[0m\n\u001b[0;31mSyntaxError\u001b[0m\u001b[0;31m:\u001b[0m EOF while scanning triple-quoted string literal\n"
     ]
    }
   ],
   "source": [
    "def simple_random_forest_20dp(data):\n",
    "    i, row = data\n",
    "    sku = row['sku']\n",
    "    target_stock = row['target_stock']\n",
    "    train_row = df_train_v1.loc[sku]\n",
    "    sold_quantity_series = train_row['sold_quantity_series']\n",
    "    \n",
    "    original_len = len(sold_quantity_series)\n",
    "    len_to_pad = 20\n",
    "    \n",
    "    if original_len < len_to_pad:\n",
    "        sold_quantity_series = np.pad(sold_quantity_series, (len_to_pad-original_len, 0))\n",
    "    \n",
    "    X_init = sold_quantity_series[-20:]\n",
    "    predict_series = np.zeros(50)\n",
    "    predict_series[:20] = X_init\n",
    "    stock_count = 0\n",
    "    for i in range(30):\n",
    "        prediction = clf.predict([predict_series[i:20+i]]).round()[0]\n",
    "        predict_series[20+i] = prediction\n",
    "        stock_count += prediction\n",
    "        if stock_count >= target_stock:\n",
    "            break\n",
    "            \n",
    "    #print(X_init, predict_series[20:])  \n",
    "    return np.eye(30)[i]\n",
    "\n",
    "\"\"\"\n",
    "n = 5000\n",
    "n = min(n, len(df_test))\n",
    "skus = []\n",
    "predictions = []\n",
    "with Pool(100) as p:\n",
    "    for data in tqdm(p.imap(simple_random_forest_20dp, df_test[:n].iterrows()), total=n):\n",
    "        sku, probabilities = data\n",
    "        skus.append(sku)\n",
    "        predictions.append(probabilities)\n",
    "        \n",
    "index = 1\n",
    "print('pred', simple_random_forest_20dp((0, df_test.iloc[index])))\n",
    "print('pred', ground_truth[index])"
   ]
  },
  {
   "cell_type": "code",
   "execution_count": null,
   "id": "7b945bc5-4979-4e5e-a09d-6bc9cb105daf",
   "metadata": {},
   "outputs": [],
   "source": [
    "rps(predictions, ground_truth[:len(predictions)])"
   ]
  }
 ],
 "metadata": {
  "kernelspec": {
   "display_name": "Python 3",
   "language": "python",
   "name": "python3"
  },
  "language_info": {
   "codemirror_mode": {
    "name": "ipython",
    "version": 3
   },
   "file_extension": ".py",
   "mimetype": "text/x-python",
   "name": "python",
   "nbconvert_exporter": "python",
   "pygments_lexer": "ipython3",
   "version": "3.6.13"
  }
 },
 "nbformat": 4,
 "nbformat_minor": 5
}
