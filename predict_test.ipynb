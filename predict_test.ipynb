{
 "cells": [
  {
   "cell_type": "code",
   "execution_count": 1,
   "id": "44f23597-5825-42bb-a659-276f75c81feb",
   "metadata": {},
   "outputs": [],
   "source": [
    "import os\n",
    "import sys\n",
    "import time\n",
    "import json\n",
    "from datetime import datetime\n",
    "\n",
    "import numpy as np\n",
    "import pandas as pd\n",
    "\n",
    "from models import models\n",
    "from utils import read_df, read_numpy, write_df\n",
    "import logging\n",
    "\n",
    "from evaluate import rps"
   ]
  },
  {
   "cell_type": "code",
   "execution_count": 2,
   "id": "567c0430-f42f-4172-aa1b-95b9844b4c54",
   "metadata": {},
   "outputs": [
    {
     "name": "stdout",
     "output_type": "stream",
     "text": [
      "INFO: Pandarallel will run on 50 workers.\n",
      "INFO: Pandarallel will use Memory file system to transfer data between the main process and workers.\n"
     ]
    }
   ],
   "source": [
    "#Model imports\n",
    "import numpy as np\n",
    "import json\n",
    "import os\n",
    "import pandas as pd\n",
    "\n",
    "from tqdm.auto import tqdm\n",
    "from multiprocessing import Pool\n",
    "from iteround import saferound\n",
    "import scipy.stats as st\n",
    "import tweedie\n",
    "from category_encoders import OrdinalEncoder\n",
    "from pandarallel import pandarallel\n",
    "pandarallel.initialize(nb_workers=50)\n",
    "\n",
    "from xgboost import XGBRegressor\n",
    "from sklearn.multioutput import MultiOutputRegressor\n",
    "from sklearn.metrics import mean_squared_error\n",
    "\n",
    "from model import Model\n",
    "from utils import read_df"
   ]
  },
  {
   "cell_type": "code",
   "execution_count": 3,
   "id": "bf4f4aee-d9b6-41e0-aa6b-0f52fb5c7cbf",
   "metadata": {},
   "outputs": [],
   "source": [
    "DATASET_PATH = './dataset/processed/train_v1'\n",
    "TEST_DATA_FILENAME = 'test_data.csv'\n",
    "GROUND_TRUTH_FILENAME = 'test_ground_truth.npy'\n",
    "TRAIN_DATA_FILENAME = 'train_data.parquet'\n",
    "TRAIN_DATA_PROCESSED_FILENAME = 'train_data_features.parquet'\n",
    "ITEM_DATA_FILEPATH = './dataset/items_static_metadata_full.jl'\n",
    "\n",
    "TRAIN_DATA_X_FILENAME = 'train_data_x.parquet'\n",
    "TRAIN_DATA_Y_FILENAME = 'train_data_y.parquet'\n",
    "TRAIN_DATA_X_PROCESSED_FILENAME = 'train_data_x_features.parquet'\n",
    "TRAIN_DATA_Y_PROCESSED_FILENAME = 'train_data_y_features.parquet'\n",
    "\n",
    "TEST_FROMTRAIN_DATA_LAST29_FILENAME = 'test_fromtrain_data_last29.parquet'\n",
    "TEST_FROMTRAIN_DATA_LAST29_PROCESSED_FILENAME = 'test_fromtrain_data_last29_features.parquet'"
   ]
  },
  {
   "cell_type": "code",
   "execution_count": 4,
   "id": "0096aa19-d5d3-44cf-a864-8bd155caa98b",
   "metadata": {},
   "outputs": [],
   "source": [
    "dateset_indexes = [0]\n",
    "model_name = 'simple_first_30_days_fixed_spike'"
   ]
  },
  {
   "cell_type": "code",
   "execution_count": 5,
   "id": "73c79cd0-b59f-4382-823b-22a1f40e1263",
   "metadata": {},
   "outputs": [],
   "source": [
    "dataset_index = dateset_indexes[0]\n",
    "dataset_current_path = os.path.join(DATASET_PATH, str(dataset_index))\n",
    "\n",
    "test_data_filepath = os.path.join(dataset_current_path, TEST_DATA_FILENAME)\n",
    "ground_truth_filepath = os.path.join(dataset_current_path, GROUND_TRUTH_FILENAME)\n",
    "train_data_filepath = os.path.join(dataset_current_path, TRAIN_DATA_FILENAME)\n",
    "train_data_processed_filepath = os.path.join(dataset_current_path, TRAIN_DATA_PROCESSED_FILENAME)\n",
    "\n",
    "train_data_x_filepath = os.path.join(dataset_current_path, TRAIN_DATA_X_FILENAME)\n",
    "train_data_y_filepath = os.path.join(dataset_current_path, TRAIN_DATA_Y_FILENAME)\n",
    "train_data_x_processed_filepath = os.path.join(dataset_current_path, TRAIN_DATA_X_PROCESSED_FILENAME)\n",
    "train_data_y_processed_filepath = os.path.join(dataset_current_path, TRAIN_DATA_Y_PROCESSED_FILENAME)\n",
    "\n",
    "test_fromtrain_data_last29_filepath = os.path.join(dataset_current_path, TEST_FROMTRAIN_DATA_LAST29_FILENAME)\n",
    "test_fromtrain_data_last29_processed_filepath = os.path.join(dataset_current_path, TEST_FROMTRAIN_DATA_LAST29_PROCESSED_FILENAME)"
   ]
  },
  {
   "cell_type": "code",
   "execution_count": 6,
   "id": "ac3b6b21-3f10-4ead-81a1-5bdf1d9c91f8",
   "metadata": {},
   "outputs": [],
   "source": [
    "#model = models['xgboost_v1']('./dataset')\n",
    "#model.prepare_data()\n",
    "#model.train()\n",
    "#model.predict('./dataset/test_data.csv')"
   ]
  },
  {
   "cell_type": "code",
   "execution_count": 7,
   "id": "66396109-4efe-4427-9ec2-9fafa2af54cd",
   "metadata": {},
   "outputs": [],
   "source": [
    "df_train = read_df(train_data_filepath)\n",
    "df_item = read_df(ITEM_DATA_FILEPATH)"
   ]
  },
  {
   "cell_type": "code",
   "execution_count": 8,
   "id": "19110026-8ba0-481d-aada-b23beceada42",
   "metadata": {},
   "outputs": [],
   "source": [
    "df_test = read_df(test_data_filepath)\n",
    "ground_truth = read_numpy(ground_truth_filepath)\n",
    "\n",
    "df_train_processed = read_df(train_data_processed_filepath)"
   ]
  },
  {
   "cell_type": "code",
   "execution_count": 9,
   "id": "2b2ff6e8-c943-4e94-a6ff-dbe651a59674",
   "metadata": {},
   "outputs": [],
   "source": [
    "#df_train_x = read_df(train_data_x_filepath)\n",
    "#df_train_x = read_df(train_data_y_filepath)\n",
    "\n",
    "df_test_fromtrain_x_features = read_df(test_fromtrain_data_last29_processed_filepath)\n",
    "df_train_x_features = read_df(train_data_x_processed_filepath)\n",
    "df_train_y_features = read_df(train_data_y_processed_filepath)"
   ]
  },
  {
   "cell_type": "code",
   "execution_count": 10,
   "id": "55bcf01d-c7bf-486a-bf1d-5059e75d4195",
   "metadata": {},
   "outputs": [],
   "source": [
    "x_df = df_train_x_features.sample(frac=1, random_state=42).reset_index(drop=True).copy()"
   ]
  },
  {
   "cell_type": "code",
   "execution_count": 11,
   "id": "a779d07c-d01e-4a86-bcfa-66e80da7a4f7",
   "metadata": {},
   "outputs": [],
   "source": [
    "y_df = df_train_y_features.set_index('sku').loc[x_df['sku']].reset_index().copy()"
   ]
  },
  {
   "cell_type": "code",
   "execution_count": 12,
   "id": "c804b9c3-a750-429f-8ac3-0107f3dc1211",
   "metadata": {},
   "outputs": [],
   "source": [
    "all_columns = ['item_domain_id', 'item_id', 'item_title', 'site_id', 'sku',\n",
    "       'product_id', 'product_family_id', 'count', 'date_first', 'date_last',\n",
    "       'date_diff', 'date_first_day', 'date_first_month', 'date_last_day',\n",
    "       'date_last_month', 'sold_quantity_first', 'sold_quantity_last',\n",
    "       'sold_quantity_sum', 'sold_quantity_mean', 'sold_quantity_std',\n",
    "       'sold_quantity_min', 'sold_quantity_max', 'sold_quantity_mode',\n",
    "       'sold_quantity_mode_tx', 'current_price_first', 'current_price_last',\n",
    "       'current_price_sum', 'current_price_mean', 'current_price_std',\n",
    "       'current_price_min', 'current_price_max', 'current_price_mode',\n",
    "       'current_price_mode_tx', 'minutes_active_first', 'minutes_active_last',\n",
    "       'minutes_active_sum', 'minutes_active_mean', 'minutes_active_std',\n",
    "       'minutes_active_min', 'minutes_active_max', 'minutes_active_mode',\n",
    "       'minutes_active_mode_tx', 'currency_first', 'currency_last',\n",
    "       'currency_mode', 'currency_mode_tx', 'listing_type_first',\n",
    "       'listing_type_last', 'listing_type_mode', 'listing_type_mode_tx',\n",
    "       'shipping_logistic_type_first', 'shipping_logistic_type_last',\n",
    "       'shipping_logistic_type_mode', 'shipping_logistic_type_mode_tx',\n",
    "       'shipping_payment_first', 'shipping_payment_last',\n",
    "       'shipping_payment_mode', 'shipping_payment_mode_tx',\n",
    "       'minutes_active_series', 'current_price_series',\n",
    "       'sold_quantity_series']"
   ]
  },
  {
   "cell_type": "code",
   "execution_count": 13,
   "id": "e0345e90-a853-40cc-8445-735dafdf290c",
   "metadata": {},
   "outputs": [
    {
     "name": "stdout",
     "output_type": "stream",
     "text": [
      "Number of features: 140 Non-used features:  {'item_title', 'date_last', 'date_diff', 'date_first', 'sku'}\n"
     ]
    }
   ],
   "source": [
    "categorical_columns = ['site_id', 'item_id']\n",
    "categorical_columns_with_nan = ['item_domain_id', 'product_id', 'product_family_id']\n",
    "categorical_columns_composed = ['currency', 'listing_type', 'shipping_logistic_type', 'shipping_payment']\n",
    "categorical_composed_suffix = ['_first', '_last', '_mode']\n",
    "\n",
    "categorical_columns = categorical_columns + categorical_columns_with_nan\n",
    "for category_name in categorical_columns_composed:\n",
    "    for suffix in categorical_composed_suffix:\n",
    "        categorical_columns.append(category_name+suffix)\n",
    "\n",
    "numeric_columns = ['count', 'date_first_day', 'date_first_month', 'date_last_day', 'date_last_month']  \n",
    "numeric_columns_composed = ['sold_quantity', 'current_price', 'minutes_active']\n",
    "numeric_composed_suffix = ['_first', '_last', '_mode', '_mode_tx', '_sum', '_mean', '_std', '_min', '_max']\n",
    "\n",
    "for numeric_name in numeric_columns_composed:\n",
    "    for suffix in numeric_composed_suffix:\n",
    "        numeric_columns.append(numeric_name+suffix)\n",
    "\n",
    "categorical_to_numeric_composed_suffix = ['_mode_tx']\n",
    "        \n",
    "for category_name in categorical_columns_composed:\n",
    "    for suffix in categorical_to_numeric_composed_suffix:\n",
    "        numeric_columns.append(category_name+suffix)\n",
    "        \n",
    "series_columns = ['sold_quantity_series', 'current_price_series', 'minutes_active_series']\n",
    "series_columns_headers = {}\n",
    "\n",
    "series_columns_max = x_df['count'].max()\n",
    "for series_name in series_columns:\n",
    "    series_columns_headers[series_name] = [series_name+'_'+str(i) for i in range(series_columns_max)]\n",
    "    numeric_columns = numeric_columns + series_columns_headers[series_name]\n",
    "\n",
    "features = numeric_columns + categorical_columns\n",
    "\n",
    "print('Number of features:', len(features), 'Non-used features: ', set(all_columns) - set(features) - set(series_columns))"
   ]
  },
  {
   "cell_type": "code",
   "execution_count": 14,
   "id": "6818f3dd-9677-421e-aa93-ce2cede77828",
   "metadata": {},
   "outputs": [],
   "source": [
    "for column in numeric_columns_composed:\n",
    "    x_df[column+'_std'] = x_df[column+'_std'].fillna(0)\n",
    "    y_df[column+'_std'] = y_df[column+'_std'].fillna(0)"
   ]
  },
  {
   "cell_type": "code",
   "execution_count": 15,
   "id": "d7c2631b-cb8a-465b-bca9-8406472f7fc4",
   "metadata": {},
   "outputs": [],
   "source": [
    "for column in categorical_columns_with_nan:    \n",
    "    x_df[column] = x_df[column].astype(str).astype(\"category\")\n",
    "    y_df[column] = y_df[column].astype(str).astype(\"category\")"
   ]
  },
  {
   "cell_type": "code",
   "execution_count": 16,
   "id": "72ddc828-4376-439e-8666-db8c5f3c1d4e",
   "metadata": {},
   "outputs": [],
   "source": [
    "categorical_pandas_order = {}\n",
    "\n",
    "for column in categorical_columns:    \n",
    "    x_df[column] = x_df[column].astype(\"category\")\n",
    "    categorical_pandas_order[column] = x_df[column].cat.categories\n",
    "    y_df[column] = y_df[column].astype(\"category\")\n",
    "    y_df[column] = y_df[column].cat.set_categories(categorical_pandas_order[column], ordered=True)"
   ]
  },
  {
   "cell_type": "code",
   "execution_count": 17,
   "id": "5ec82c6d-2684-4056-b0ac-49a5b0e0a539",
   "metadata": {},
   "outputs": [],
   "source": [
    "for column in categorical_columns:\n",
    "    x_df[column] = x_df[column].cat.codes\n",
    "    y_df[column] = y_df[column].cat.codes"
   ]
  },
  {
   "cell_type": "code",
   "execution_count": 18,
   "id": "6efda710-4108-435b-8895-0de31d8fffa2",
   "metadata": {
    "tags": []
   },
   "outputs": [],
   "source": [
    "for column in  series_columns:\n",
    "    def series_to_df(data):\n",
    "        result = np.ones(series_columns_max)*-1\n",
    "        data = json.loads(data)\n",
    "        index_limit = len(data) if len(data) <= series_columns_max else series_columns_max\n",
    "        result[-index_limit:] = data[-index_limit:]\n",
    "        #return result\n",
    "        return pd.Series(result, index=series_columns_headers[column])\n",
    "\n",
    "    series_x_df = x_df[column].parallel_apply(series_to_df)\n",
    "    series_y_df = y_df[column].parallel_apply(series_to_df)\n",
    "\n",
    "    x_df = x_df.join(series_x_df)\n",
    "    y_df = y_df.join(series_y_df)"
   ]
  },
  {
   "cell_type": "code",
   "execution_count": 19,
   "id": "c9fafd68-eb2a-4a50-b9fc-bb2919a0fda7",
   "metadata": {},
   "outputs": [],
   "source": [
    "X = x_df[features].values"
   ]
  },
  {
   "cell_type": "code",
   "execution_count": 20,
   "id": "e73e3da9-5c86-4679-832f-cb675ef08b6c",
   "metadata": {},
   "outputs": [],
   "source": [
    "#y = y_df[['sold_quantity_mean', 'sold_quantity_std']].values"
   ]
  },
  {
   "cell_type": "code",
   "execution_count": 21,
   "id": "61b58e32-059b-4439-88e0-c0dd4e5840bb",
   "metadata": {},
   "outputs": [],
   "source": [
    "y = np.array(list(y_df['sold_quantity_series'].apply(json.loads).values))\n",
    "y = y.cumsum(axis=1)"
   ]
  },
  {
   "cell_type": "code",
   "execution_count": 22,
   "id": "58d8d499-ce04-48ec-8441-1318643815df",
   "metadata": {},
   "outputs": [],
   "source": [
    "y_ts = np.zeros(len(y))\n",
    "y_td = np.zeros(len(y))\n",
    "\n",
    "for i, t in enumerate(y):\n",
    "    where_non_zero = np.where(t > 0)[0]\n",
    "    if len(where_non_zero) == 0:\n",
    "        y_ts[i] = 0\n",
    "        y_td[i] = 0\n",
    "        continue\n",
    "    j = np.random.choice(where_non_zero)\n",
    "    y_ts[i] = t[j]\n",
    "    y_td[i] = np.where(t == t[j])[0][0]"
   ]
  },
  {
   "cell_type": "code",
   "execution_count": 23,
   "id": "8baa8f60-c6ff-4e31-b895-2fa4eb1be3d7",
   "metadata": {},
   "outputs": [],
   "source": [
    "X = np.concatenate((X, np.reshape(y_ts, (-1, 1))), axis=1)\n",
    "y = y_td"
   ]
  },
  {
   "cell_type": "code",
   "execution_count": 24,
   "id": "7fcee92c-fb54-4fe0-8cf9-4f4194c2b97b",
   "metadata": {},
   "outputs": [],
   "source": [
    "test_x_df = df_test_fromtrain_x_features.set_index('sku').loc[df_test['sku']].reset_index().copy()\n",
    "for column in numeric_columns_composed:\n",
    "    test_x_df[column+'_std'] = test_x_df[column+'_std'].fillna(0)\n",
    "for column in categorical_columns_with_nan:    \n",
    "    test_x_df[column] = test_x_df[column].astype(str).astype(\"category\")\n",
    "for column in categorical_columns:\n",
    "    test_x_df[column] = test_x_df[column].astype(\"category\")\n",
    "    categorical_order = list(categorical_pandas_order[column])\n",
    "    if len(test_x_df[column].cat.categories) != len(categorical_pandas_order[column]):\n",
    "        for cat in set(test_x_df[column].cat.categories) - set(categorical_order):\n",
    "                categorical_order.append(cat)\n",
    "    test_x_df[column] = test_x_df[column].cat.set_categories(categorical_order, ordered=True)\n",
    "    test_x_df[column] = test_x_df[column].cat.codes\n",
    "for column in  series_columns:\n",
    "    def series_to_df(data):\n",
    "        result = np.ones(series_columns_max)*-1\n",
    "        data = json.loads(data)\n",
    "        index_limit = len(data) if len(data) <= series_columns_max else series_columns_max\n",
    "        result[-index_limit:] = data[-index_limit:]\n",
    "        #return result\n",
    "        return pd.Series(result, index=series_columns_headers[column])\n",
    "\n",
    "    series_x_test_df = test_x_df[column].parallel_apply(series_to_df)\n",
    "\n",
    "    test_x_df = test_x_df.join(series_x_test_df)\n",
    "\n",
    "X_test = test_x_df[features].values"
   ]
  },
  {
   "cell_type": "code",
   "execution_count": 25,
   "id": "b797bfc7-1d2c-4ec2-b9f3-d13c6329dfe9",
   "metadata": {},
   "outputs": [],
   "source": [
    "X_test = np.concatenate((X_test, np.reshape(df_test['target_stock'].values, (-1, 1))), axis=1)"
   ]
  },
  {
   "cell_type": "code",
   "execution_count": 26,
   "id": "f6c832bb-ba9e-44d1-9ba4-75d11b366937",
   "metadata": {},
   "outputs": [],
   "source": [
    "from sklearn.model_selection import train_test_split\n",
    "X_train, X_val, y_train, y_val = train_test_split(X, y, test_size=0.3, random_state=42)"
   ]
  },
  {
   "cell_type": "code",
   "execution_count": 49,
   "id": "267f1c41-7bde-4324-8df5-5e0fafe0a395",
   "metadata": {
    "tags": []
   },
   "outputs": [
    {
     "data": {
      "text/plain": [
       "37.63803880629391"
      ]
     },
     "execution_count": 49,
     "metadata": {},
     "output_type": "execute_result"
    }
   ],
   "source": [
    "#model = MultiOutputRegressor(XGBRegressor(\n",
    "#                         n_estimators=800, max_depth=2, learning_rate=0.01,\n",
    "#                         random_state=0, tree_method='gpu_hist',\n",
    "#                         gpu_id=3), n_jobs=14)\n",
    "model = XGBRegressor(n_estimators=1000, max_depth=5, learning_rate=0.1,\n",
    "                    random_state=0, tree_method='gpu_hist',\n",
    "                    gpu_id=3)\n",
    "model.fit(X_train, y_train)\n",
    "y_pred = model.predict(X_val)\n",
    "mean_squared_error(y_val, y_pred)"
   ]
  },
  {
   "cell_type": "code",
   "execution_count": 28,
   "id": "6f4b5e68-2db7-49c5-af72-a6f21e767c68",
   "metadata": {},
   "outputs": [
    {
     "data": {
      "text/plain": [
       "3.956177469824876"
      ]
     },
     "execution_count": 28,
     "metadata": {},
     "output_type": "execute_result"
    }
   ],
   "source": [
    "np.abs(y_val - y_pred).std()"
   ]
  },
  {
   "cell_type": "markdown",
   "id": "0104dd6e-e475-416e-9e88-fc720771ef0c",
   "metadata": {},
   "source": [
    "n_estimators=1000, max_depth=2, learning_rate=0.08, 38.77598546656583\n",
    "model = XGBRegressor(n_estimators=1000, max_depth=2, learning_rate=0.2, 38.27539167059256\n",
    "n_estimators=1000, max_depth=4, learning_rate=0.1, 37.546678641103945\n",
    "n_estimators=1000, max_depth=6, learning_rate=0.1, 37.40878445231095"
   ]
  },
  {
   "cell_type": "code",
   "execution_count": 29,
   "id": "4086198b-7734-46c6-9a99-991e90460da0",
   "metadata": {
    "collapsed": true,
    "jupyter": {
     "outputs_hidden": true
    },
    "tags": []
   },
   "outputs": [
    {
     "name": "stdout",
     "output_type": "stream",
     "text": [
      "Iteration No: 1 started. Evaluating function at random point.\n",
      "params [90, 0.0031266912307463765, 8, 0.5871651421518383, 0.4512494775682321, 31]\n",
      "Iteration No: 1 ended. Evaluation done at random point.\n",
      "Time taken: 2.4427\n",
      "Function value obtained: 152.4192\n",
      "Current minimum: 152.4192\n",
      "Iteration No: 2 started. Evaluating function at random point.\n",
      "params [73, 0.007955537581329894, 2, 0.6357996256539676, 0.10077042112439025, 217]\n",
      "Iteration No: 2 ended. Evaluation done at random point.\n",
      "Time taken: 0.6437\n",
      "Function value obtained: 123.0748\n",
      "Current minimum: 123.0748\n",
      "Iteration No: 3 started. Evaluating function at random point.\n",
      "params [97, 0.0010048514548852772, 10, 0.6057333586649449, 0.6004878444394529, 3]\n",
      "Iteration No: 3 ended. Evaluation done at random point.\n",
      "Time taken: 6.2660\n",
      "Function value obtained: 190.3944\n",
      "Current minimum: 123.0748\n",
      "Iteration No: 4 started. Evaluating function at random point.\n",
      "params [51, 0.026082611167204887, 5, 0.09199909689225388, 0.9263799669573134, 71]\n",
      "Iteration No: 4 ended. Evaluation done at random point.\n",
      "Time taken: 0.7382\n",
      "Function value obtained: 54.6748\n",
      "Current minimum: 54.6748\n",
      "Iteration No: 5 started. Evaluating function at random point.\n",
      "params [55, 0.04666650648879715, 4, 0.9349077972261095, 0.47008660392318197, 258]\n",
      "Iteration No: 5 ended. Evaluation done at random point.\n",
      "Time taken: 0.6959\n",
      "Function value obtained: 50.3400\n",
      "Current minimum: 50.3400\n",
      "Iteration No: 6 started. Evaluating function at random point.\n",
      "params [84, 0.016439324494196626, 1, 0.8979815801163676, 0.5569593960609854, 116]\n",
      "Iteration No: 6 ended. Evaluation done at random point.\n",
      "Time taken: 0.6149\n",
      "Function value obtained: 73.9557\n",
      "Current minimum: 50.3400\n",
      "Iteration No: 7 started. Evaluating function at random point.\n",
      "params [51, 0.004199286536456316, 3, 0.6649371669429125, 0.598996992004359, 250]\n",
      "Iteration No: 7 ended. Evaluation done at random point.\n",
      "Time taken: 0.6073\n",
      "Function value obtained: 164.6501\n",
      "Current minimum: 50.3400\n",
      "Iteration No: 8 started. Evaluating function at random point.\n",
      "params [59, 0.011362158667616036, 3, 0.7298252692858874, 0.43264028704212026, 63]\n",
      "Iteration No: 8 ended. Evaluation done at random point.\n",
      "Time taken: 0.6459\n",
      "Function value obtained: 107.7382\n",
      "Current minimum: 50.3400\n",
      "Iteration No: 9 started. Evaluating function at random point.\n",
      "params [78, 0.0012148247660072498, 9, 0.45477872003278913, 0.405635212401633, 278]\n",
      "Iteration No: 9 ended. Evaluation done at random point.\n",
      "Time taken: 2.3942\n",
      "Function value obtained: 193.1987\n",
      "Current minimum: 50.3400\n",
      "Iteration No: 10 started. Evaluating function at random point.\n",
      "params [86, 0.007608932653734257, 6, 0.5187508340232414, 0.9150548219144143, 254]\n",
      "Iteration No: 10 ended. Evaluation done at random point.\n",
      "Time taken: 5.3373\n",
      "Function value obtained: 91.2986\n",
      "Current minimum: 50.3400\n",
      "Iteration No: 11 started. Searching for the next optimal point.\n",
      "params [100, 0.49999999999999994, 10, 0.05, 0.95, 300]\n"
     ]
    },
    {
     "name": "stderr",
     "output_type": "stream",
     "text": [
      "ERROR:root:Internal Python error in the inspect module.\n",
      "Below is the traceback from this internal error.\n",
      "\n"
     ]
    },
    {
     "name": "stdout",
     "output_type": "stream",
     "text": [
      "Traceback (most recent call last):\n",
      "  File \"/opt/conda/envs/torch/lib/python3.6/site-packages/IPython/core/interactiveshell.py\", line 3343, in run_code\n",
      "    exec(code_obj, self.user_global_ns, self.user_ns)\n",
      "  File \"<ipython-input-29-f379f5c12938>\", line 22, in <module>\n",
      "    res = gp_minimize(tune, space, random_state=42, verbose=1, acq_optimizer=\"lbfgs\", n_jobs=10)\n",
      "  File \"/opt/conda/envs/torch/lib/python3.6/site-packages/skopt/optimizer/gp.py\", line 268, in gp_minimize\n",
      "    callback=callback, n_jobs=n_jobs, model_queue_size=model_queue_size)\n",
      "  File \"/opt/conda/envs/torch/lib/python3.6/site-packages/skopt/optimizer/base.py\", line 301, in base_minimize\n",
      "    next_y = func(next_x)\n",
      "  File \"<ipython-input-29-f379f5c12938>\", line 12, in tune\n",
      "    model.fit(X_train, y_train)\n",
      "  File \"/home/edugarcia/dependencies/xgboost/python-package/xgboost/core.py\", line 498, in inner_f\n",
      "    return f(**kwargs)\n",
      "  File \"/home/edugarcia/dependencies/xgboost/python-package/xgboost/sklearn.py\", line 790, in fit\n",
      "    callbacks=callbacks,\n",
      "  File \"/home/edugarcia/dependencies/xgboost/python-package/xgboost/training.py\", line 196, in train\n",
      "    early_stopping_rounds=early_stopping_rounds)\n",
      "  File \"/home/edugarcia/dependencies/xgboost/python-package/xgboost/training.py\", line 81, in _train_internal\n",
      "    bst.update(dtrain, i, obj)\n",
      "  File \"/home/edugarcia/dependencies/xgboost/python-package/xgboost/core.py\", line 1669, in update\n",
      "    dtrain.handle))\n",
      "KeyboardInterrupt\n",
      "\n",
      "During handling of the above exception, another exception occurred:\n",
      "\n",
      "Traceback (most recent call last):\n",
      "  File \"/opt/conda/envs/torch/lib/python3.6/site-packages/IPython/core/interactiveshell.py\", line 2044, in showtraceback\n",
      "    stb = value._render_traceback_()\n",
      "AttributeError: 'KeyboardInterrupt' object has no attribute '_render_traceback_'\n",
      "\n",
      "During handling of the above exception, another exception occurred:\n",
      "\n",
      "Traceback (most recent call last):\n",
      "  File \"/opt/conda/envs/torch/lib/python3.6/site-packages/IPython/core/ultratb.py\", line 1169, in get_records\n",
      "    return _fixed_getinnerframes(etb, number_of_lines_of_context, tb_offset)\n",
      "  File \"/opt/conda/envs/torch/lib/python3.6/site-packages/IPython/core/ultratb.py\", line 316, in wrapped\n",
      "    return f(*args, **kwargs)\n",
      "  File \"/opt/conda/envs/torch/lib/python3.6/site-packages/IPython/core/ultratb.py\", line 350, in _fixed_getinnerframes\n",
      "    records = fix_frame_records_filenames(inspect.getinnerframes(etb, context))\n",
      "  File \"/opt/conda/envs/torch/lib/python3.6/inspect.py\", line 1490, in getinnerframes\n",
      "    frameinfo = (tb.tb_frame,) + getframeinfo(tb, context)\n",
      "  File \"/opt/conda/envs/torch/lib/python3.6/inspect.py\", line 1448, in getframeinfo\n",
      "    filename = getsourcefile(frame) or getfile(frame)\n",
      "  File \"/opt/conda/envs/torch/lib/python3.6/inspect.py\", line 696, in getsourcefile\n",
      "    if getattr(getmodule(object, filename), '__loader__', None) is not None:\n",
      "  File \"/opt/conda/envs/torch/lib/python3.6/inspect.py\", line 742, in getmodule\n",
      "    os.path.realpath(f)] = module.__name__\n",
      "  File \"/opt/conda/envs/torch/lib/python3.6/posixpath.py\", line 395, in realpath\n",
      "    path, ok = _joinrealpath(filename[:0], filename, {})\n",
      "  File \"/opt/conda/envs/torch/lib/python3.6/posixpath.py\", line 429, in _joinrealpath\n",
      "    if not islink(newpath):\n",
      "  File \"/opt/conda/envs/torch/lib/python3.6/posixpath.py\", line 171, in islink\n",
      "    st = os.lstat(path)\n",
      "KeyboardInterrupt\n"
     ]
    },
    {
     "ename": "TypeError",
     "evalue": "object of type 'NoneType' has no len()",
     "output_type": "error",
     "traceback": [
      "\u001b[0;31m---------------------------------------------------------------------------\u001b[0m",
      "\u001b[0;31mKeyboardInterrupt\u001b[0m                         Traceback (most recent call last)",
      "    \u001b[0;31m[... skipping hidden 1 frame]\u001b[0m\n",
      "\u001b[0;32m<ipython-input-29-f379f5c12938>\u001b[0m in \u001b[0;36m<module>\u001b[0;34m\u001b[0m\n\u001b[1;32m     21\u001b[0m          (1,300)]\n\u001b[0;32m---> 22\u001b[0;31m \u001b[0mres\u001b[0m \u001b[0;34m=\u001b[0m \u001b[0mgp_minimize\u001b[0m\u001b[0;34m(\u001b[0m\u001b[0mtune\u001b[0m\u001b[0;34m,\u001b[0m \u001b[0mspace\u001b[0m\u001b[0;34m,\u001b[0m \u001b[0mrandom_state\u001b[0m\u001b[0;34m=\u001b[0m\u001b[0;36m42\u001b[0m\u001b[0;34m,\u001b[0m \u001b[0mverbose\u001b[0m\u001b[0;34m=\u001b[0m\u001b[0;36m1\u001b[0m\u001b[0;34m,\u001b[0m \u001b[0macq_optimizer\u001b[0m\u001b[0;34m=\u001b[0m\u001b[0;34m\"lbfgs\"\u001b[0m\u001b[0;34m,\u001b[0m \u001b[0mn_jobs\u001b[0m\u001b[0;34m=\u001b[0m\u001b[0;36m10\u001b[0m\u001b[0;34m)\u001b[0m\u001b[0;34m\u001b[0m\u001b[0;34m\u001b[0m\u001b[0m\n\u001b[0m",
      "\u001b[0;32m/opt/conda/envs/torch/lib/python3.6/site-packages/skopt/optimizer/gp.py\u001b[0m in \u001b[0;36mgp_minimize\u001b[0;34m(func, dimensions, base_estimator, n_calls, n_random_starts, n_initial_points, initial_point_generator, acq_func, acq_optimizer, x0, y0, random_state, verbose, callback, n_points, n_restarts_optimizer, xi, kappa, noise, n_jobs, model_queue_size)\u001b[0m\n\u001b[1;32m    267\u001b[0m         \u001b[0mx0\u001b[0m\u001b[0;34m=\u001b[0m\u001b[0mx0\u001b[0m\u001b[0;34m,\u001b[0m \u001b[0my0\u001b[0m\u001b[0;34m=\u001b[0m\u001b[0my0\u001b[0m\u001b[0;34m,\u001b[0m \u001b[0mrandom_state\u001b[0m\u001b[0;34m=\u001b[0m\u001b[0mrng\u001b[0m\u001b[0;34m,\u001b[0m \u001b[0mverbose\u001b[0m\u001b[0;34m=\u001b[0m\u001b[0mverbose\u001b[0m\u001b[0;34m,\u001b[0m\u001b[0;34m\u001b[0m\u001b[0;34m\u001b[0m\u001b[0m\n\u001b[0;32m--> 268\u001b[0;31m         callback=callback, n_jobs=n_jobs, model_queue_size=model_queue_size)\n\u001b[0m",
      "\u001b[0;32m/opt/conda/envs/torch/lib/python3.6/site-packages/skopt/optimizer/base.py\u001b[0m in \u001b[0;36mbase_minimize\u001b[0;34m(func, dimensions, base_estimator, n_calls, n_random_starts, n_initial_points, initial_point_generator, acq_func, acq_optimizer, x0, y0, random_state, verbose, callback, n_points, n_restarts_optimizer, xi, kappa, n_jobs, model_queue_size)\u001b[0m\n\u001b[1;32m    300\u001b[0m         \u001b[0mnext_x\u001b[0m \u001b[0;34m=\u001b[0m \u001b[0moptimizer\u001b[0m\u001b[0;34m.\u001b[0m\u001b[0mask\u001b[0m\u001b[0;34m(\u001b[0m\u001b[0;34m)\u001b[0m\u001b[0;34m\u001b[0m\u001b[0;34m\u001b[0m\u001b[0m\n\u001b[0;32m--> 301\u001b[0;31m         \u001b[0mnext_y\u001b[0m \u001b[0;34m=\u001b[0m \u001b[0mfunc\u001b[0m\u001b[0;34m(\u001b[0m\u001b[0mnext_x\u001b[0m\u001b[0;34m)\u001b[0m\u001b[0;34m\u001b[0m\u001b[0;34m\u001b[0m\u001b[0m\n\u001b[0m\u001b[1;32m    302\u001b[0m         \u001b[0mresult\u001b[0m \u001b[0;34m=\u001b[0m \u001b[0moptimizer\u001b[0m\u001b[0;34m.\u001b[0m\u001b[0mtell\u001b[0m\u001b[0;34m(\u001b[0m\u001b[0mnext_x\u001b[0m\u001b[0;34m,\u001b[0m \u001b[0mnext_y\u001b[0m\u001b[0;34m)\u001b[0m\u001b[0;34m\u001b[0m\u001b[0;34m\u001b[0m\u001b[0m\n",
      "\u001b[0;32m<ipython-input-29-f379f5c12938>\u001b[0m in \u001b[0;36mtune\u001b[0;34m(params)\u001b[0m\n\u001b[1;32m     11\u001b[0m                        tree_method='gpu_hist', gpu_id=3)\n\u001b[0;32m---> 12\u001b[0;31m     \u001b[0mmodel\u001b[0m\u001b[0;34m.\u001b[0m\u001b[0mfit\u001b[0m\u001b[0;34m(\u001b[0m\u001b[0mX_train\u001b[0m\u001b[0;34m,\u001b[0m \u001b[0my_train\u001b[0m\u001b[0;34m)\u001b[0m\u001b[0;34m\u001b[0m\u001b[0;34m\u001b[0m\u001b[0m\n\u001b[0m\u001b[1;32m     13\u001b[0m     \u001b[0my_pred\u001b[0m \u001b[0;34m=\u001b[0m \u001b[0mmodel\u001b[0m\u001b[0;34m.\u001b[0m\u001b[0mpredict\u001b[0m\u001b[0;34m(\u001b[0m\u001b[0mX_val\u001b[0m\u001b[0;34m)\u001b[0m\u001b[0;34m\u001b[0m\u001b[0;34m\u001b[0m\u001b[0m\n",
      "\u001b[0;32m~/dependencies/xgboost/python-package/xgboost/core.py\u001b[0m in \u001b[0;36minner_f\u001b[0;34m(*args, **kwargs)\u001b[0m\n\u001b[1;32m    497\u001b[0m             \u001b[0mkwargs\u001b[0m\u001b[0;34m[\u001b[0m\u001b[0mk\u001b[0m\u001b[0;34m]\u001b[0m \u001b[0;34m=\u001b[0m \u001b[0marg\u001b[0m\u001b[0;34m\u001b[0m\u001b[0;34m\u001b[0m\u001b[0m\n\u001b[0;32m--> 498\u001b[0;31m         \u001b[0;32mreturn\u001b[0m \u001b[0mf\u001b[0m\u001b[0;34m(\u001b[0m\u001b[0;34m**\u001b[0m\u001b[0mkwargs\u001b[0m\u001b[0;34m)\u001b[0m\u001b[0;34m\u001b[0m\u001b[0;34m\u001b[0m\u001b[0m\n\u001b[0m\u001b[1;32m    499\u001b[0m \u001b[0;34m\u001b[0m\u001b[0m\n",
      "\u001b[0;32m~/dependencies/xgboost/python-package/xgboost/sklearn.py\u001b[0m in \u001b[0;36mfit\u001b[0;34m(self, X, y, sample_weight, base_margin, eval_set, eval_metric, early_stopping_rounds, verbose, xgb_model, sample_weight_eval_set, base_margin_eval_set, feature_weights, callbacks)\u001b[0m\n\u001b[1;32m    789\u001b[0m             \u001b[0mxgb_model\u001b[0m\u001b[0;34m=\u001b[0m\u001b[0mmodel\u001b[0m\u001b[0;34m,\u001b[0m\u001b[0;34m\u001b[0m\u001b[0;34m\u001b[0m\u001b[0m\n\u001b[0;32m--> 790\u001b[0;31m             \u001b[0mcallbacks\u001b[0m\u001b[0;34m=\u001b[0m\u001b[0mcallbacks\u001b[0m\u001b[0;34m,\u001b[0m\u001b[0;34m\u001b[0m\u001b[0;34m\u001b[0m\u001b[0m\n\u001b[0m\u001b[1;32m    791\u001b[0m         )\n",
      "\u001b[0;32m~/dependencies/xgboost/python-package/xgboost/training.py\u001b[0m in \u001b[0;36mtrain\u001b[0;34m(params, dtrain, num_boost_round, evals, obj, feval, maximize, early_stopping_rounds, evals_result, verbose_eval, xgb_model, callbacks)\u001b[0m\n\u001b[1;32m    195\u001b[0m                           \u001b[0mmaximize\u001b[0m\u001b[0;34m=\u001b[0m\u001b[0mmaximize\u001b[0m\u001b[0;34m,\u001b[0m\u001b[0;34m\u001b[0m\u001b[0;34m\u001b[0m\u001b[0m\n\u001b[0;32m--> 196\u001b[0;31m                           early_stopping_rounds=early_stopping_rounds)\n\u001b[0m\u001b[1;32m    197\u001b[0m     \u001b[0;32mreturn\u001b[0m \u001b[0mbst\u001b[0m\u001b[0;34m\u001b[0m\u001b[0;34m\u001b[0m\u001b[0m\n",
      "\u001b[0;32m~/dependencies/xgboost/python-package/xgboost/training.py\u001b[0m in \u001b[0;36m_train_internal\u001b[0;34m(params, dtrain, num_boost_round, evals, obj, feval, xgb_model, callbacks, evals_result, maximize, verbose_eval, early_stopping_rounds)\u001b[0m\n\u001b[1;32m     80\u001b[0m             \u001b[0;32mbreak\u001b[0m\u001b[0;34m\u001b[0m\u001b[0;34m\u001b[0m\u001b[0m\n\u001b[0;32m---> 81\u001b[0;31m         \u001b[0mbst\u001b[0m\u001b[0;34m.\u001b[0m\u001b[0mupdate\u001b[0m\u001b[0;34m(\u001b[0m\u001b[0mdtrain\u001b[0m\u001b[0;34m,\u001b[0m \u001b[0mi\u001b[0m\u001b[0;34m,\u001b[0m \u001b[0mobj\u001b[0m\u001b[0;34m)\u001b[0m\u001b[0;34m\u001b[0m\u001b[0;34m\u001b[0m\u001b[0m\n\u001b[0m\u001b[1;32m     82\u001b[0m         \u001b[0;32mif\u001b[0m \u001b[0mcallbacks\u001b[0m\u001b[0;34m.\u001b[0m\u001b[0mafter_iteration\u001b[0m\u001b[0;34m(\u001b[0m\u001b[0mbst\u001b[0m\u001b[0;34m,\u001b[0m \u001b[0mi\u001b[0m\u001b[0;34m,\u001b[0m \u001b[0mdtrain\u001b[0m\u001b[0;34m,\u001b[0m \u001b[0mevals\u001b[0m\u001b[0;34m)\u001b[0m\u001b[0;34m:\u001b[0m\u001b[0;34m\u001b[0m\u001b[0;34m\u001b[0m\u001b[0m\n",
      "\u001b[0;32m~/dependencies/xgboost/python-package/xgboost/core.py\u001b[0m in \u001b[0;36mupdate\u001b[0;34m(self, dtrain, iteration, fobj)\u001b[0m\n\u001b[1;32m   1668\u001b[0m                                                     \u001b[0mctypes\u001b[0m\u001b[0;34m.\u001b[0m\u001b[0mc_int\u001b[0m\u001b[0;34m(\u001b[0m\u001b[0miteration\u001b[0m\u001b[0;34m)\u001b[0m\u001b[0;34m,\u001b[0m\u001b[0;34m\u001b[0m\u001b[0;34m\u001b[0m\u001b[0m\n\u001b[0;32m-> 1669\u001b[0;31m                                                     dtrain.handle))\n\u001b[0m\u001b[1;32m   1670\u001b[0m         \u001b[0;32melse\u001b[0m\u001b[0;34m:\u001b[0m\u001b[0;34m\u001b[0m\u001b[0;34m\u001b[0m\u001b[0m\n",
      "\u001b[0;31mKeyboardInterrupt\u001b[0m: ",
      "\nDuring handling of the above exception, another exception occurred:\n",
      "\u001b[0;31mAttributeError\u001b[0m                            Traceback (most recent call last)",
      "\u001b[0;32m/opt/conda/envs/torch/lib/python3.6/site-packages/IPython/core/interactiveshell.py\u001b[0m in \u001b[0;36mshowtraceback\u001b[0;34m(self, exc_tuple, filename, tb_offset, exception_only, running_compiled_code)\u001b[0m\n\u001b[1;32m   2043\u001b[0m                         \u001b[0;31m# in the engines. This should return a list of strings.\u001b[0m\u001b[0;34m\u001b[0m\u001b[0;34m\u001b[0m\u001b[0;34m\u001b[0m\u001b[0m\n\u001b[0;32m-> 2044\u001b[0;31m                         \u001b[0mstb\u001b[0m \u001b[0;34m=\u001b[0m \u001b[0mvalue\u001b[0m\u001b[0;34m.\u001b[0m\u001b[0m_render_traceback_\u001b[0m\u001b[0;34m(\u001b[0m\u001b[0;34m)\u001b[0m\u001b[0;34m\u001b[0m\u001b[0;34m\u001b[0m\u001b[0m\n\u001b[0m\u001b[1;32m   2045\u001b[0m                     \u001b[0;32mexcept\u001b[0m \u001b[0mException\u001b[0m\u001b[0;34m:\u001b[0m\u001b[0;34m\u001b[0m\u001b[0;34m\u001b[0m\u001b[0m\n",
      "\u001b[0;31mAttributeError\u001b[0m: 'KeyboardInterrupt' object has no attribute '_render_traceback_'",
      "\nDuring handling of the above exception, another exception occurred:\n",
      "\u001b[0;31mTypeError\u001b[0m                                 Traceback (most recent call last)",
      "    \u001b[0;31m[... skipping hidden 1 frame]\u001b[0m\n",
      "\u001b[0;32m/opt/conda/envs/torch/lib/python3.6/site-packages/IPython/core/interactiveshell.py\u001b[0m in \u001b[0;36mshowtraceback\u001b[0;34m(self, exc_tuple, filename, tb_offset, exception_only, running_compiled_code)\u001b[0m\n\u001b[1;32m   2045\u001b[0m                     \u001b[0;32mexcept\u001b[0m \u001b[0mException\u001b[0m\u001b[0;34m:\u001b[0m\u001b[0;34m\u001b[0m\u001b[0;34m\u001b[0m\u001b[0m\n\u001b[1;32m   2046\u001b[0m                         stb = self.InteractiveTB.structured_traceback(etype,\n\u001b[0;32m-> 2047\u001b[0;31m                                             value, tb, tb_offset=tb_offset)\n\u001b[0m\u001b[1;32m   2048\u001b[0m \u001b[0;34m\u001b[0m\u001b[0m\n\u001b[1;32m   2049\u001b[0m                     \u001b[0mself\u001b[0m\u001b[0;34m.\u001b[0m\u001b[0m_showtraceback\u001b[0m\u001b[0;34m(\u001b[0m\u001b[0metype\u001b[0m\u001b[0;34m,\u001b[0m \u001b[0mvalue\u001b[0m\u001b[0;34m,\u001b[0m \u001b[0mstb\u001b[0m\u001b[0;34m)\u001b[0m\u001b[0;34m\u001b[0m\u001b[0;34m\u001b[0m\u001b[0m\n",
      "\u001b[0;32m/opt/conda/envs/torch/lib/python3.6/site-packages/IPython/core/ultratb.py\u001b[0m in \u001b[0;36mstructured_traceback\u001b[0;34m(self, etype, value, tb, tb_offset, number_of_lines_of_context)\u001b[0m\n\u001b[1;32m   1434\u001b[0m             \u001b[0mself\u001b[0m\u001b[0;34m.\u001b[0m\u001b[0mtb\u001b[0m \u001b[0;34m=\u001b[0m \u001b[0mtb\u001b[0m\u001b[0;34m\u001b[0m\u001b[0;34m\u001b[0m\u001b[0m\n\u001b[1;32m   1435\u001b[0m         return FormattedTB.structured_traceback(\n\u001b[0;32m-> 1436\u001b[0;31m             self, etype, value, tb, tb_offset, number_of_lines_of_context)\n\u001b[0m\u001b[1;32m   1437\u001b[0m \u001b[0;34m\u001b[0m\u001b[0m\n\u001b[1;32m   1438\u001b[0m \u001b[0;34m\u001b[0m\u001b[0m\n",
      "\u001b[0;32m/opt/conda/envs/torch/lib/python3.6/site-packages/IPython/core/ultratb.py\u001b[0m in \u001b[0;36mstructured_traceback\u001b[0;34m(self, etype, value, tb, tb_offset, number_of_lines_of_context)\u001b[0m\n\u001b[1;32m   1334\u001b[0m             \u001b[0;31m# Verbose modes need a full traceback\u001b[0m\u001b[0;34m\u001b[0m\u001b[0;34m\u001b[0m\u001b[0;34m\u001b[0m\u001b[0m\n\u001b[1;32m   1335\u001b[0m             return VerboseTB.structured_traceback(\n\u001b[0;32m-> 1336\u001b[0;31m                 \u001b[0mself\u001b[0m\u001b[0;34m,\u001b[0m \u001b[0metype\u001b[0m\u001b[0;34m,\u001b[0m \u001b[0mvalue\u001b[0m\u001b[0;34m,\u001b[0m \u001b[0mtb\u001b[0m\u001b[0;34m,\u001b[0m \u001b[0mtb_offset\u001b[0m\u001b[0;34m,\u001b[0m \u001b[0mnumber_of_lines_of_context\u001b[0m\u001b[0;34m\u001b[0m\u001b[0;34m\u001b[0m\u001b[0m\n\u001b[0m\u001b[1;32m   1337\u001b[0m             )\n\u001b[1;32m   1338\u001b[0m         \u001b[0;32melif\u001b[0m \u001b[0mmode\u001b[0m \u001b[0;34m==\u001b[0m \u001b[0;34m'Minimal'\u001b[0m\u001b[0;34m:\u001b[0m\u001b[0;34m\u001b[0m\u001b[0;34m\u001b[0m\u001b[0m\n",
      "\u001b[0;32m/opt/conda/envs/torch/lib/python3.6/site-packages/IPython/core/ultratb.py\u001b[0m in \u001b[0;36mstructured_traceback\u001b[0;34m(self, etype, evalue, etb, tb_offset, number_of_lines_of_context)\u001b[0m\n\u001b[1;32m   1191\u001b[0m \u001b[0;34m\u001b[0m\u001b[0m\n\u001b[1;32m   1192\u001b[0m         formatted_exception = self.format_exception_as_a_whole(etype, evalue, etb, number_of_lines_of_context,\n\u001b[0;32m-> 1193\u001b[0;31m                                                                tb_offset)\n\u001b[0m\u001b[1;32m   1194\u001b[0m \u001b[0;34m\u001b[0m\u001b[0m\n\u001b[1;32m   1195\u001b[0m         \u001b[0mcolors\u001b[0m \u001b[0;34m=\u001b[0m \u001b[0mself\u001b[0m\u001b[0;34m.\u001b[0m\u001b[0mColors\u001b[0m  \u001b[0;31m# just a shorthand + quicker name lookup\u001b[0m\u001b[0;34m\u001b[0m\u001b[0;34m\u001b[0m\u001b[0m\n",
      "\u001b[0;32m/opt/conda/envs/torch/lib/python3.6/site-packages/IPython/core/ultratb.py\u001b[0m in \u001b[0;36mformat_exception_as_a_whole\u001b[0;34m(self, etype, evalue, etb, number_of_lines_of_context, tb_offset)\u001b[0m\n\u001b[1;32m   1148\u001b[0m \u001b[0;34m\u001b[0m\u001b[0m\n\u001b[1;32m   1149\u001b[0m \u001b[0;34m\u001b[0m\u001b[0m\n\u001b[0;32m-> 1150\u001b[0;31m         \u001b[0mlast_unique\u001b[0m\u001b[0;34m,\u001b[0m \u001b[0mrecursion_repeat\u001b[0m \u001b[0;34m=\u001b[0m \u001b[0mfind_recursion\u001b[0m\u001b[0;34m(\u001b[0m\u001b[0morig_etype\u001b[0m\u001b[0;34m,\u001b[0m \u001b[0mevalue\u001b[0m\u001b[0;34m,\u001b[0m \u001b[0mrecords\u001b[0m\u001b[0;34m)\u001b[0m\u001b[0;34m\u001b[0m\u001b[0;34m\u001b[0m\u001b[0m\n\u001b[0m\u001b[1;32m   1151\u001b[0m \u001b[0;34m\u001b[0m\u001b[0m\n\u001b[1;32m   1152\u001b[0m         \u001b[0mframes\u001b[0m \u001b[0;34m=\u001b[0m \u001b[0mself\u001b[0m\u001b[0;34m.\u001b[0m\u001b[0mformat_records\u001b[0m\u001b[0;34m(\u001b[0m\u001b[0mrecords\u001b[0m\u001b[0;34m,\u001b[0m \u001b[0mlast_unique\u001b[0m\u001b[0;34m,\u001b[0m \u001b[0mrecursion_repeat\u001b[0m\u001b[0;34m)\u001b[0m\u001b[0;34m\u001b[0m\u001b[0;34m\u001b[0m\u001b[0m\n",
      "\u001b[0;32m/opt/conda/envs/torch/lib/python3.6/site-packages/IPython/core/ultratb.py\u001b[0m in \u001b[0;36mfind_recursion\u001b[0;34m(etype, value, records)\u001b[0m\n\u001b[1;32m    449\u001b[0m     \u001b[0;31m# first frame (from in to out) that looks different.\u001b[0m\u001b[0;34m\u001b[0m\u001b[0;34m\u001b[0m\u001b[0;34m\u001b[0m\u001b[0m\n\u001b[1;32m    450\u001b[0m     \u001b[0;32mif\u001b[0m \u001b[0;32mnot\u001b[0m \u001b[0mis_recursion_error\u001b[0m\u001b[0;34m(\u001b[0m\u001b[0metype\u001b[0m\u001b[0;34m,\u001b[0m \u001b[0mvalue\u001b[0m\u001b[0;34m,\u001b[0m \u001b[0mrecords\u001b[0m\u001b[0;34m)\u001b[0m\u001b[0;34m:\u001b[0m\u001b[0;34m\u001b[0m\u001b[0;34m\u001b[0m\u001b[0m\n\u001b[0;32m--> 451\u001b[0;31m         \u001b[0;32mreturn\u001b[0m \u001b[0mlen\u001b[0m\u001b[0;34m(\u001b[0m\u001b[0mrecords\u001b[0m\u001b[0;34m)\u001b[0m\u001b[0;34m,\u001b[0m \u001b[0;36m0\u001b[0m\u001b[0;34m\u001b[0m\u001b[0;34m\u001b[0m\u001b[0m\n\u001b[0m\u001b[1;32m    452\u001b[0m \u001b[0;34m\u001b[0m\u001b[0m\n\u001b[1;32m    453\u001b[0m     \u001b[0;31m# Select filename, lineno, func_name to track frames with\u001b[0m\u001b[0;34m\u001b[0m\u001b[0;34m\u001b[0m\u001b[0;34m\u001b[0m\u001b[0m\n",
      "\u001b[0;31mTypeError\u001b[0m: object of type 'NoneType' has no len()"
     ]
    }
   ],
   "source": [
    "from skopt import gp_minimize\n",
    "\n",
    "def tune(params):\n",
    "    print('params', params)\n",
    "    model = XGBRegressor(n_estimators=params[0], learning_rate=params[1],\n",
    "                       max_depth=params[2],\n",
    "                       subsample=params[3],\n",
    "                       colsample_bytree=params[4],\n",
    "                       min_child_weight=params[5],\n",
    "                       random_state=42,\n",
    "                       tree_method='gpu_hist', gpu_id=3)\n",
    "    model.fit(X_train, y_train)\n",
    "    y_pred = model.predict(X_val)\n",
    "    return mean_squared_error(y_val, y_pred)\n",
    "\n",
    "space = [(50, 100),\n",
    "         (1e-3, 5e-1, 'log-uniform'),\n",
    "         (1, 10),\n",
    "         (0.05, 0.95),\n",
    "         (0.05, 0.95),\n",
    "         (1,300)]\n",
    "res = gp_minimize(tune, space, random_state=42, verbose=1, acq_optimizer=\"lbfgs\", n_jobs=10)"
   ]
  },
  {
   "cell_type": "code",
   "execution_count": 52,
   "id": "02e79527-93d6-407c-9f61-4b148e0359fa",
   "metadata": {},
   "outputs": [
    {
     "data": {
      "image/png": "[encoded data removed]",
      "text/plain": [
       "<Figure size 1440x720 with 1 Axes>"
      ]
     },
     "metadata": {
      "needs_background": "light"
     },
     "output_type": "display_data"
    }
   ],
   "source": [
    "from matplotlib import pyplot as plt\n",
    "fig, ax = plt.subplots(figsize=(20, 10))\n",
    "#features_importances = model.estimators_[-1].feature_importances_\n",
    "features_importances = model.feature_importances_\n",
    "sort = np.flip(np.argsort(features_importances))[0:30]\n",
    "ax.barh(np.array(features + ['target_stock'])[sort], features_importances[sort])\n",
    "plt.show()"
   ]
  },
  {
   "cell_type": "code",
   "execution_count": 47,
   "id": "d7410cec-ce87-4567-85f4-da3d3997d00e",
   "metadata": {},
   "outputs": [
    {
     "data": {
      "text/plain": [
       "37.92603607312228"
      ]
     },
     "execution_count": 47,
     "metadata": {},
     "output_type": "execute_result"
    }
   ],
   "source": [
    "variables_to_train = np.flip(np.argsort(features_importances))[0:30]\n",
    "model = XGBRegressor(n_estimators=1000, max_depth=6, learning_rate=0.1,\n",
    "                    random_state=0, tree_method='gpu_hist',\n",
    "                    gpu_id=3)\n",
    "model.fit(X_train[:, variables_to_train], y_train)\n",
    "y_pred = model.predict(X_val[:, variables_to_train])\n",
    "mean_squared_error(y_val, y_pred)"
   ]
  },
  {
   "cell_type": "code",
   "execution_count": 51,
   "id": "141529d6-9373-405e-8d02-7a8b6635f09c",
   "metadata": {},
   "outputs": [],
   "source": [
    "model = XGBRegressor(n_estimators=1000, max_depth=6, learning_rate=0.1,\n",
    "                    random_state=0, tree_method='gpu_hist',\n",
    "                    gpu_id=3)\n",
    "model.fit(X, y)\n",
    "preds = model.predict(X_test)"
   ]
  },
  {
   "cell_type": "code",
   "execution_count": 44,
   "id": "fcc0b36e-a2b9-4de7-88eb-2219c8b1ddcd",
   "metadata": {},
   "outputs": [
    {
     "data": {
      "application/vnd.jupyter.widget-view+json": {
       "model_id": "e50d47755c924d248f94713180c1826b",
       "version_major": 2,
       "version_minor": 0
      },
      "text/plain": [
       "  0%|          | 0/143804 [00:00<?, ?it/s]"
      ]
     },
     "metadata": {},
     "output_type": "display_data"
    },
    {
     "data": {
      "text/plain": [
       "4.174173325008344"
      ]
     },
     "execution_count": 44,
     "metadata": {},
     "output_type": "execute_result"
    }
   ],
   "source": [
    "from scipy.stats import norm\n",
    "\n",
    "def normal_probs(data):\n",
    "    row, pred = data\n",
    "    sku = row['sku']\n",
    "    target_stock = row['target_stock']\n",
    "    \n",
    "    #sold_mean, sold_std = pred\n",
    "    \n",
    "    \n",
    "    days_stockout = pred+1\n",
    "    std_days = 7\n",
    "\n",
    "    dist_model = norm(days_stockout,std_days)\n",
    "\n",
    "    probalities = np.zeros(30)\n",
    "    for i in range(1, 31):\n",
    "        probalities[i-1] = (dist_model.cdf(i+1) - dist_model.cdf(i))\n",
    "\n",
    "    if probalities.sum() == 0:\n",
    "        probalities = np.ones(30) / 30\n",
    "\n",
    "    probalities = (probalities/probalities.sum()).round(4)\n",
    "    #probalities = saferound(probalities, places=4)\n",
    "    return (sku, probalities)\n",
    "\n",
    "predictions = np.zeros((len(df_test), 30))\n",
    "i = 0\n",
    "with Pool(100) as p:\n",
    "    for data in tqdm(p.imap(normal_probs, zip(df_test.to_dict(orient='records'), preds)), total=len(df_test)):\n",
    "        sku, probabilities = data\n",
    "        predictions[i] = probabilities\n",
    "        i += 1\n",
    "        \n",
    "from evaluate import rps\n",
    "rps(predictions, ground_truth)"
   ]
  },
  {
   "cell_type": "markdown",
   "id": "9876218e-a1a5-4727-9e01-2aac7259e335",
   "metadata": {},
   "source": [
    "stds\n",
    "5 - 4.262929225335388\n",
    "7 - 4.198544959223248\n",
    "10 - 4.3...\n",
    "8 - 4.22\n",
    "6 - 4.204762802167254"
   ]
  },
  {
   "cell_type": "code",
   "execution_count": null,
   "id": "77db7399-04ff-438b-a321-dd7d4e46ef58",
   "metadata": {},
   "outputs": [],
   "source": [
    "from evaluate import rps\n",
    "rps(predictions, ground_truth)"
   ]
  },
  {
   "cell_type": "code",
   "execution_count": null,
   "id": "7d42d08c-857e-4fc3-9188-cdb7fedc84c5",
   "metadata": {},
   "outputs": [],
   "source": [
    "from scipy.stats import norm\n",
    "\n",
    "def normal_probs(data):\n",
    "    row, preds = data\n",
    "    sku = row['sku']\n",
    "    target_stock = row['target_stock']\n",
    "    \n",
    "    sold_mean = preds.mean()\n",
    "    sold_std = preds.std()\n",
    "    \n",
    "    c = preds.cumsum()  \n",
    "    days_stockout = np.where(c>target_stock)[0]\n",
    "    days_stockout = 30 if len(days_stockout) == 0 else days_stockout[0]+1\n",
    "    \n",
    "    std_days = (sold_std / sold_mean) * days_stockout\n",
    "\n",
    "    dist_model = norm(days_stockout,std_days)\n",
    "\n",
    "    probalities = np.zeros(30)\n",
    "    for i in range(1, 31):\n",
    "        probalities[i-1] = (dist_model.cdf(i+1) - dist_model.cdf(i))\n",
    "\n",
    "    if probalities.sum() == 0:\n",
    "        probalities = np.ones(30) / 30\n",
    "\n",
    "    probalities = (probalities/probalities.sum()).round(4)\n",
    "    #probalities = saferound(probalities, places=4)\n",
    "    return (sku, probalities)\n",
    "\n",
    "predictions = np.zeros((len(df_test), 30))\n",
    "i = 0\n",
    "with Pool(50) as p:\n",
    "    for data in tqdm(p.imap(normal_probs, zip(df_test.to_dict(orient='records'), y_pred)), total=len(df_test)):\n",
    "        sku, probabilities = data\n",
    "        predictions[i] = probabilities\n",
    "        i += 1"
   ]
  }
 ],
 "metadata": {
  "kernelspec": {
   "display_name": "torch",
   "language": "python",
   "name": "torch"
  },
  "language_info": {
   "codemirror_mode": {
    "name": "ipython",
    "version": 3
   },
   "file_extension": ".py",
   "mimetype": "text/x-python",
   "name": "python",
   "nbconvert_exporter": "python",
   "pygments_lexer": "ipython3",
   "version": "3.6.13"
  }
 },
 "nbformat": 4,
 "nbformat_minor": 5
}
