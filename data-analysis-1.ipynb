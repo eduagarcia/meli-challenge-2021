{
 "cells": [
  {
   "cell_type": "code",
   "execution_count": 1,
   "id": "b40f3a75-a819-4a08-b5ed-b6e7447cb576",
   "metadata": {},
   "outputs": [],
   "source": [
    "import json\n",
    "import os\n",
    "import pandas as pd\n",
    "import datetime"
   ]
  },
  {
   "cell_type": "code",
   "execution_count": 2,
   "id": "290a7621-2a2f-4607-b38d-b501eec4a10d",
   "metadata": {},
   "outputs": [],
   "source": [
    "DATASET_FOLDER = \"./dataset\"\n",
    "train_data = os.path.join(DATASET_FOLDER, 'train_data.parquet')\n",
    "item_data = os.path.join(DATASET_FOLDER, 'items_static_metadata_full.jl')\n",
    "test_data = os.path.join(DATASET_FOLDER, 'test_data.csv')"
   ]
  },
  {
   "cell_type": "markdown",
   "id": "8434c287-0017-4bc7-a57b-3a741092ef4e",
   "metadata": {},
   "source": [
    "# Train Data"
   ]
  },
  {
   "cell_type": "code",
   "execution_count": 3,
   "id": "699de5f8-fe26-4ed8-b255-a1bec2dd3ec3",
   "metadata": {},
   "outputs": [],
   "source": [
    "df_train = pd.read_parquet(train_data, engine='fastparquet')"
   ]
  },
  {
   "cell_type": "code",
   "execution_count": 4,
   "id": "5bfca75c-0e58-40bf-b0ab-101640681463",
   "metadata": {},
   "outputs": [
    {
     "data": {
      "text/html": [
       "<div>\n",
       "<style scoped>\n",
       "    .dataframe tbody tr th:only-of-type {\n",
       "        vertical-align: middle;\n",
       "    }\n",
       "\n",
       "    .dataframe tbody tr th {\n",
       "        vertical-align: top;\n",
       "    }\n",
       "\n",
       "    .dataframe thead th {\n",
       "        text-align: right;\n",
       "    }\n",
       "</style>\n",
       "<table border=\"1\" class=\"dataframe\">\n",
       "  <thead>\n",
       "    <tr style=\"text-align: right;\">\n",
       "      <th></th>\n",
       "      <th>sku</th>\n",
       "      <th>date</th>\n",
       "      <th>sold_quantity</th>\n",
       "      <th>current_price</th>\n",
       "      <th>currency</th>\n",
       "      <th>listing_type</th>\n",
       "      <th>shipping_logistic_type</th>\n",
       "      <th>shipping_payment</th>\n",
       "      <th>minutes_active</th>\n",
       "    </tr>\n",
       "  </thead>\n",
       "  <tbody>\n",
       "    <tr>\n",
       "      <th>0</th>\n",
       "      <td>464801</td>\n",
       "      <td>2021-02-01</td>\n",
       "      <td>0</td>\n",
       "      <td>156.78</td>\n",
       "      <td>REA</td>\n",
       "      <td>classic</td>\n",
       "      <td>fulfillment</td>\n",
       "      <td>free_shipping</td>\n",
       "      <td>1440.000000</td>\n",
       "    </tr>\n",
       "    <tr>\n",
       "      <th>1</th>\n",
       "      <td>464801</td>\n",
       "      <td>2021-02-02</td>\n",
       "      <td>0</td>\n",
       "      <td>156.78</td>\n",
       "      <td>REA</td>\n",
       "      <td>classic</td>\n",
       "      <td>fulfillment</td>\n",
       "      <td>free_shipping</td>\n",
       "      <td>1440.000000</td>\n",
       "    </tr>\n",
       "    <tr>\n",
       "      <th>2</th>\n",
       "      <td>464801</td>\n",
       "      <td>2021-02-03</td>\n",
       "      <td>0</td>\n",
       "      <td>156.78</td>\n",
       "      <td>REA</td>\n",
       "      <td>classic</td>\n",
       "      <td>fulfillment</td>\n",
       "      <td>free_shipping</td>\n",
       "      <td>1440.000000</td>\n",
       "    </tr>\n",
       "    <tr>\n",
       "      <th>3</th>\n",
       "      <td>464801</td>\n",
       "      <td>2021-02-04</td>\n",
       "      <td>0</td>\n",
       "      <td>156.78</td>\n",
       "      <td>REA</td>\n",
       "      <td>classic</td>\n",
       "      <td>fulfillment</td>\n",
       "      <td>free_shipping</td>\n",
       "      <td>1440.000000</td>\n",
       "    </tr>\n",
       "    <tr>\n",
       "      <th>4</th>\n",
       "      <td>464801</td>\n",
       "      <td>2021-02-05</td>\n",
       "      <td>1</td>\n",
       "      <td>156.78</td>\n",
       "      <td>REA</td>\n",
       "      <td>classic</td>\n",
       "      <td>fulfillment</td>\n",
       "      <td>free_shipping</td>\n",
       "      <td>1440.000000</td>\n",
       "    </tr>\n",
       "    <tr>\n",
       "      <th>...</th>\n",
       "      <td>...</td>\n",
       "      <td>...</td>\n",
       "      <td>...</td>\n",
       "      <td>...</td>\n",
       "      <td>...</td>\n",
       "      <td>...</td>\n",
       "      <td>...</td>\n",
       "      <td>...</td>\n",
       "      <td>...</td>\n",
       "    </tr>\n",
       "    <tr>\n",
       "      <th>37660274</th>\n",
       "      <td>129187</td>\n",
       "      <td>2021-03-31</td>\n",
       "      <td>0</td>\n",
       "      <td>22057.00</td>\n",
       "      <td>ARG</td>\n",
       "      <td>classic</td>\n",
       "      <td>drop_off</td>\n",
       "      <td>free_shipping</td>\n",
       "      <td>267.710767</td>\n",
       "    </tr>\n",
       "    <tr>\n",
       "      <th>37660275</th>\n",
       "      <td>6707</td>\n",
       "      <td>2021-03-31</td>\n",
       "      <td>0</td>\n",
       "      <td>26999.00</td>\n",
       "      <td>ARG</td>\n",
       "      <td>classic</td>\n",
       "      <td>cross_docking</td>\n",
       "      <td>free_shipping</td>\n",
       "      <td>266.083333</td>\n",
       "    </tr>\n",
       "    <tr>\n",
       "      <th>37660276</th>\n",
       "      <td>170355</td>\n",
       "      <td>2021-03-31</td>\n",
       "      <td>0</td>\n",
       "      <td>3400.00</td>\n",
       "      <td>ARG</td>\n",
       "      <td>classic</td>\n",
       "      <td>drop_off</td>\n",
       "      <td>paid_shipping</td>\n",
       "      <td>0.252633</td>\n",
       "    </tr>\n",
       "    <tr>\n",
       "      <th>37660277</th>\n",
       "      <td>246568</td>\n",
       "      <td>2021-03-31</td>\n",
       "      <td>0</td>\n",
       "      <td>6289.00</td>\n",
       "      <td>ARG</td>\n",
       "      <td>classic</td>\n",
       "      <td>fulfillment</td>\n",
       "      <td>free_shipping</td>\n",
       "      <td>135.416667</td>\n",
       "    </tr>\n",
       "    <tr>\n",
       "      <th>37660278</th>\n",
       "      <td>49718</td>\n",
       "      <td>2021-03-31</td>\n",
       "      <td>0</td>\n",
       "      <td>1990.00</td>\n",
       "      <td>ARG</td>\n",
       "      <td>classic</td>\n",
       "      <td>drop_off</td>\n",
       "      <td>paid_shipping</td>\n",
       "      <td>88.033333</td>\n",
       "    </tr>\n",
       "  </tbody>\n",
       "</table>\n",
       "<p>37660279 rows × 9 columns</p>\n",
       "</div>"
      ],
      "text/plain": [
       "             sku        date  sold_quantity  current_price currency  \\\n",
       "0         464801  2021-02-01              0         156.78      REA   \n",
       "1         464801  2021-02-02              0         156.78      REA   \n",
       "2         464801  2021-02-03              0         156.78      REA   \n",
       "3         464801  2021-02-04              0         156.78      REA   \n",
       "4         464801  2021-02-05              1         156.78      REA   \n",
       "...          ...         ...            ...            ...      ...   \n",
       "37660274  129187  2021-03-31              0       22057.00      ARG   \n",
       "37660275    6707  2021-03-31              0       26999.00      ARG   \n",
       "37660276  170355  2021-03-31              0        3400.00      ARG   \n",
       "37660277  246568  2021-03-31              0        6289.00      ARG   \n",
       "37660278   49718  2021-03-31              0        1990.00      ARG   \n",
       "\n",
       "         listing_type shipping_logistic_type shipping_payment  minutes_active  \n",
       "0             classic            fulfillment    free_shipping     1440.000000  \n",
       "1             classic            fulfillment    free_shipping     1440.000000  \n",
       "2             classic            fulfillment    free_shipping     1440.000000  \n",
       "3             classic            fulfillment    free_shipping     1440.000000  \n",
       "4             classic            fulfillment    free_shipping     1440.000000  \n",
       "...               ...                    ...              ...             ...  \n",
       "37660274      classic               drop_off    free_shipping      267.710767  \n",
       "37660275      classic          cross_docking    free_shipping      266.083333  \n",
       "37660276      classic               drop_off    paid_shipping        0.252633  \n",
       "37660277      classic            fulfillment    free_shipping      135.416667  \n",
       "37660278      classic               drop_off    paid_shipping       88.033333  \n",
       "\n",
       "[37660279 rows x 9 columns]"
      ]
     },
     "execution_count": 4,
     "metadata": {},
     "output_type": "execute_result"
    }
   ],
   "source": [
    "df_train"
   ]
  },
  {
   "cell_type": "code",
   "execution_count": 6,
   "id": "276f0033-4157-408b-94f8-24f20bde0d19",
   "metadata": {},
   "outputs": [
    {
     "data": {
      "text/html": [
       "<div>\n",
       "<style scoped>\n",
       "    .dataframe tbody tr th:only-of-type {\n",
       "        vertical-align: middle;\n",
       "    }\n",
       "\n",
       "    .dataframe tbody tr th {\n",
       "        vertical-align: top;\n",
       "    }\n",
       "\n",
       "    .dataframe thead th {\n",
       "        text-align: right;\n",
       "    }\n",
       "</style>\n",
       "<table border=\"1\" class=\"dataframe\">\n",
       "  <thead>\n",
       "    <tr style=\"text-align: right;\">\n",
       "      <th></th>\n",
       "      <th>count</th>\n",
       "      <th>unique</th>\n",
       "      <th>top</th>\n",
       "      <th>freq</th>\n",
       "      <th>mean</th>\n",
       "      <th>std</th>\n",
       "      <th>min</th>\n",
       "      <th>25%</th>\n",
       "      <th>50%</th>\n",
       "      <th>75%</th>\n",
       "      <th>max</th>\n",
       "    </tr>\n",
       "  </thead>\n",
       "  <tbody>\n",
       "    <tr>\n",
       "      <th>sku</th>\n",
       "      <td>3.76603e+07</td>\n",
       "      <td>NaN</td>\n",
       "      <td>NaN</td>\n",
       "      <td>NaN</td>\n",
       "      <td>330374</td>\n",
       "      <td>190792</td>\n",
       "      <td>0</td>\n",
       "      <td>165125</td>\n",
       "      <td>330380</td>\n",
       "      <td>495596</td>\n",
       "      <td>660915</td>\n",
       "    </tr>\n",
       "    <tr>\n",
       "      <th>date</th>\n",
       "      <td>37660279</td>\n",
       "      <td>59</td>\n",
       "      <td>2021-03-31</td>\n",
       "      <td>660916</td>\n",
       "      <td>NaN</td>\n",
       "      <td>NaN</td>\n",
       "      <td>NaN</td>\n",
       "      <td>NaN</td>\n",
       "      <td>NaN</td>\n",
       "      <td>NaN</td>\n",
       "      <td>NaN</td>\n",
       "    </tr>\n",
       "    <tr>\n",
       "      <th>sold_quantity</th>\n",
       "      <td>3.76603e+07</td>\n",
       "      <td>NaN</td>\n",
       "      <td>NaN</td>\n",
       "      <td>NaN</td>\n",
       "      <td>0.990093</td>\n",
       "      <td>9.98954</td>\n",
       "      <td>0</td>\n",
       "      <td>0</td>\n",
       "      <td>0</td>\n",
       "      <td>1</td>\n",
       "      <td>6951</td>\n",
       "    </tr>\n",
       "    <tr>\n",
       "      <th>current_price</th>\n",
       "      <td>3.76603e+07</td>\n",
       "      <td>NaN</td>\n",
       "      <td>NaN</td>\n",
       "      <td>NaN</td>\n",
       "      <td>2357.78</td>\n",
       "      <td>1.26391e+06</td>\n",
       "      <td>0.87</td>\n",
       "      <td>48.7</td>\n",
       "      <td>119</td>\n",
       "      <td>298.59</td>\n",
       "      <td>1e+09</td>\n",
       "    </tr>\n",
       "    <tr>\n",
       "      <th>currency</th>\n",
       "      <td>37660279</td>\n",
       "      <td>4</td>\n",
       "      <td>REA</td>\n",
       "      <td>19229164</td>\n",
       "      <td>NaN</td>\n",
       "      <td>NaN</td>\n",
       "      <td>NaN</td>\n",
       "      <td>NaN</td>\n",
       "      <td>NaN</td>\n",
       "      <td>NaN</td>\n",
       "      <td>NaN</td>\n",
       "    </tr>\n",
       "    <tr>\n",
       "      <th>listing_type</th>\n",
       "      <td>37660279</td>\n",
       "      <td>2</td>\n",
       "      <td>classic</td>\n",
       "      <td>18860849</td>\n",
       "      <td>NaN</td>\n",
       "      <td>NaN</td>\n",
       "      <td>NaN</td>\n",
       "      <td>NaN</td>\n",
       "      <td>NaN</td>\n",
       "      <td>NaN</td>\n",
       "      <td>NaN</td>\n",
       "    </tr>\n",
       "    <tr>\n",
       "      <th>shipping_logistic_type</th>\n",
       "      <td>37660279</td>\n",
       "      <td>3</td>\n",
       "      <td>fulfillment</td>\n",
       "      <td>32390495</td>\n",
       "      <td>NaN</td>\n",
       "      <td>NaN</td>\n",
       "      <td>NaN</td>\n",
       "      <td>NaN</td>\n",
       "      <td>NaN</td>\n",
       "      <td>NaN</td>\n",
       "      <td>NaN</td>\n",
       "    </tr>\n",
       "    <tr>\n",
       "      <th>shipping_payment</th>\n",
       "      <td>37660279</td>\n",
       "      <td>2</td>\n",
       "      <td>paid_shipping</td>\n",
       "      <td>24947755</td>\n",
       "      <td>NaN</td>\n",
       "      <td>NaN</td>\n",
       "      <td>NaN</td>\n",
       "      <td>NaN</td>\n",
       "      <td>NaN</td>\n",
       "      <td>NaN</td>\n",
       "      <td>NaN</td>\n",
       "    </tr>\n",
       "    <tr>\n",
       "      <th>minutes_active</th>\n",
       "      <td>3.76603e+07</td>\n",
       "      <td>NaN</td>\n",
       "      <td>NaN</td>\n",
       "      <td>NaN</td>\n",
       "      <td>1043.41</td>\n",
       "      <td>630.245</td>\n",
       "      <td>0</td>\n",
       "      <td>0</td>\n",
       "      <td>1440</td>\n",
       "      <td>1440</td>\n",
       "      <td>1440</td>\n",
       "    </tr>\n",
       "  </tbody>\n",
       "</table>\n",
       "</div>"
      ],
      "text/plain": [
       "                              count unique            top      freq      mean  \\\n",
       "sku                     3.76603e+07    NaN            NaN       NaN    330374   \n",
       "date                       37660279     59     2021-03-31    660916       NaN   \n",
       "sold_quantity           3.76603e+07    NaN            NaN       NaN  0.990093   \n",
       "current_price           3.76603e+07    NaN            NaN       NaN   2357.78   \n",
       "currency                   37660279      4            REA  19229164       NaN   \n",
       "listing_type               37660279      2        classic  18860849       NaN   \n",
       "shipping_logistic_type     37660279      3    fulfillment  32390495       NaN   \n",
       "shipping_payment           37660279      2  paid_shipping  24947755       NaN   \n",
       "minutes_active          3.76603e+07    NaN            NaN       NaN   1043.41   \n",
       "\n",
       "                                std   min     25%     50%     75%     max  \n",
       "sku                          190792     0  165125  330380  495596  660915  \n",
       "date                            NaN   NaN     NaN     NaN     NaN     NaN  \n",
       "sold_quantity               9.98954     0       0       0       1    6951  \n",
       "current_price           1.26391e+06  0.87    48.7     119  298.59   1e+09  \n",
       "currency                        NaN   NaN     NaN     NaN     NaN     NaN  \n",
       "listing_type                    NaN   NaN     NaN     NaN     NaN     NaN  \n",
       "shipping_logistic_type          NaN   NaN     NaN     NaN     NaN     NaN  \n",
       "shipping_payment                NaN   NaN     NaN     NaN     NaN     NaN  \n",
       "minutes_active              630.245     0       0    1440    1440    1440  "
      ]
     },
     "execution_count": 6,
     "metadata": {},
     "output_type": "execute_result"
    }
   ],
   "source": [
    "df_train.describe(include='all').transpose()"
   ]
  },
  {
   "cell_type": "code",
   "execution_count": 11,
   "id": "e14252c4-e2b2-4c3b-a976-7bd149ac8aee",
   "metadata": {},
   "outputs": [
    {
     "data": {
      "text/plain": [
       "sku                       0\n",
       "date                      0\n",
       "sold_quantity             0\n",
       "current_price             0\n",
       "currency                  0\n",
       "listing_type              0\n",
       "shipping_logistic_type    0\n",
       "shipping_payment          0\n",
       "minutes_active            0\n",
       "dtype: int64"
      ]
     },
     "execution_count": 11,
     "metadata": {},
     "output_type": "execute_result"
    }
   ],
   "source": [
    "df_train.isna().sum()"
   ]
  },
  {
   "cell_type": "code",
   "execution_count": 15,
   "id": "18337f43-9a98-4c77-8127-dbe9eb3c8b11",
   "metadata": {},
   "outputs": [
    {
     "data": {
      "text/plain": [
       "32752     59\n",
       "371537    59\n",
       "76737     59\n",
       "175025    59\n",
       "142241    59\n",
       "          ..\n",
       "658025     1\n",
       "108140     1\n",
       "297905     1\n",
       "351752     1\n",
       "504759     1\n",
       "Name: sku, Length: 660916, dtype: int64"
      ]
     },
     "execution_count": 15,
     "metadata": {},
     "output_type": "execute_result"
    }
   ],
   "source": [
    "df_train['sku'].value_counts()"
   ]
  },
  {
   "cell_type": "code",
   "execution_count": 41,
   "id": "00edaf01-0a18-4081-a116-7b0d7e0ead45",
   "metadata": {},
   "outputs": [
    {
     "name": "stdout",
     "output_type": "stream",
     "text": [
      "df_train['date'].max() 2021-03-31\n",
      "df_train['date'].min() 2021-02-01\n"
     ]
    },
    {
     "data": {
      "text/plain": [
       "datetime.timedelta(58)"
      ]
     },
     "execution_count": 41,
     "metadata": {},
     "output_type": "execute_result"
    }
   ],
   "source": [
    "print(\"df_train['date'].max()\", df_train['date'].max())\n",
    "print(\"df_train['date'].min()\", df_train['date'].min())\n",
    "datetime.date(*[int(i) for i in df_train['date'].max().split('-')]) - datetime.date(*[int(i) for i in df_train['date'].min().split('-')])"
   ]
  },
  {
   "cell_type": "code",
   "execution_count": 47,
   "id": "942fe110-9bfb-40e7-b216-290dcb866e9a",
   "metadata": {},
   "outputs": [
    {
     "data": {
      "text/plain": [
       "0       73.16%\n",
       "1        13.2%\n",
       "2        5.36%\n",
       "3        2.58%\n",
       "4        1.49%\n",
       "         ...  \n",
       "1105      0.0%\n",
       "1102      0.0%\n",
       "1101      0.0%\n",
       "1097      0.0%\n",
       "6951      0.0%\n",
       "Name: sold_quantity, Length: 1396, dtype: object"
      ]
     },
     "execution_count": 47,
     "metadata": {},
     "output_type": "execute_result"
    }
   ],
   "source": [
    "df_train['sold_quantity'].value_counts(normalize=True).mul(100).round(2).astype(str) + '%'"
   ]
  },
  {
   "cell_type": "code",
   "execution_count": 48,
   "id": "5ad2ed4c-74a8-4703-8e0d-cadbbbc9ec68",
   "metadata": {},
   "outputs": [
    {
     "data": {
      "text/plain": [
       "199.00     1.06%\n",
       "99.00       1.0%\n",
       "29.90      0.75%\n",
       "39.90      0.74%\n",
       "298.00     0.71%\n",
       "           ...  \n",
       "3160.50     0.0%\n",
       "2087.58     0.0%\n",
       "2072.17     0.0%\n",
       "2089.58     0.0%\n",
       "3025.36     0.0%\n",
       "Name: current_price, Length: 140924, dtype: object"
      ]
     },
     "execution_count": 48,
     "metadata": {},
     "output_type": "execute_result"
    }
   ],
   "source": [
    "df_train['current_price'].value_counts(normalize=True).mul(100).round(2).astype(str) + '%'"
   ]
  },
  {
   "cell_type": "code",
   "execution_count": 51,
   "id": "6591ffb6-65c8-41a4-9c2a-3df954bab381",
   "metadata": {},
   "outputs": [
    {
     "data": {
      "text/plain": [
       "REA    51.06%\n",
       "MEX    40.25%\n",
       "ARG     8.69%\n",
       "DOL      0.0%\n",
       "Name: currency, dtype: object"
      ]
     },
     "execution_count": 51,
     "metadata": {},
     "output_type": "execute_result"
    }
   ],
   "source": [
    "df_train['currency'].value_counts(normalize=True).mul(100).round(2).astype(str) + '%'"
   ]
  },
  {
   "cell_type": "code",
   "execution_count": 52,
   "id": "5e090f8e-1e79-4ada-ac0b-6bee2a0df7ef",
   "metadata": {},
   "outputs": [
    {
     "data": {
      "text/plain": [
       "classic    50.08%\n",
       "premium    49.92%\n",
       "Name: listing_type, dtype: object"
      ]
     },
     "execution_count": 52,
     "metadata": {},
     "output_type": "execute_result"
    }
   ],
   "source": [
    "df_train['listing_type'].value_counts(normalize=True).mul(100).round(2).astype(str) + '%'"
   ]
  },
  {
   "cell_type": "code",
   "execution_count": 53,
   "id": "8cb23071-bedb-4ceb-98eb-65d7536155ac",
   "metadata": {},
   "outputs": [
    {
     "data": {
      "text/plain": [
       "fulfillment      86.01%\n",
       "drop_off          7.34%\n",
       "cross_docking     6.65%\n",
       "Name: shipping_logistic_type, dtype: object"
      ]
     },
     "execution_count": 53,
     "metadata": {},
     "output_type": "execute_result"
    }
   ],
   "source": [
    "df_train['shipping_logistic_type'].value_counts(normalize=True).mul(100).round(2).astype(str) + '%'"
   ]
  },
  {
   "cell_type": "code",
   "execution_count": 54,
   "id": "6c4ef454-3c82-4bb5-87dd-79ce1fc9bef7",
   "metadata": {},
   "outputs": [
    {
     "data": {
      "text/plain": [
       "paid_shipping    66.24%\n",
       "free_shipping    33.76%\n",
       "Name: shipping_payment, dtype: object"
      ]
     },
     "execution_count": 54,
     "metadata": {},
     "output_type": "execute_result"
    }
   ],
   "source": [
    "df_train['shipping_payment'].value_counts(normalize=True).mul(100).round(2).astype(str) + '%'"
   ]
  },
  {
   "cell_type": "code",
   "execution_count": 55,
   "id": "1dda3911-1f07-426d-a1d7-626e108f132c",
   "metadata": {},
   "outputs": [
    {
     "data": {
      "text/plain": [
       "1440.000000    69.9%\n",
       "0.000000       25.4%\n",
       "858.066667      0.0%\n",
       "570.200000      0.0%\n",
       "1437.233650     0.0%\n",
       "               ...  \n",
       "553.654750      0.0%\n",
       "1325.248250     0.0%\n",
       "819.589417      0.0%\n",
       "435.938633      0.0%\n",
       "1077.916667     0.0%\n",
       "Name: minutes_active, Length: 1009253, dtype: object"
      ]
     },
     "execution_count": 55,
     "metadata": {},
     "output_type": "execute_result"
    }
   ],
   "source": [
    "df_train['minutes_active'].value_counts(normalize=True).mul(100).round(2).astype(str) + '%'"
   ]
  },
  {
   "cell_type": "code",
   "execution_count": 71,
   "id": "00b4985c-5061-437a-8ef2-a2eee5c47e6f",
   "metadata": {},
   "outputs": [
    {
     "data": {
      "text/plain": [
       "count    660916.000000\n",
       "mean         56.981945\n",
       "std           8.094631\n",
       "min           1.000000\n",
       "25%          59.000000\n",
       "50%          59.000000\n",
       "75%          59.000000\n",
       "max          59.000000\n",
       "Name: sku, dtype: float64"
      ]
     },
     "execution_count": 71,
     "metadata": {},
     "output_type": "execute_result"
    }
   ],
   "source": [
    "df_train['sku'].value_counts().describe()"
   ]
  },
  {
   "cell_type": "code",
   "execution_count": 72,
   "id": "c8573797-0298-47dd-b7f4-13cbacb2e93d",
   "metadata": {},
   "outputs": [
    {
     "data": {
      "text/plain": [
       "59    91.42%\n",
       "56     0.37%\n",
       "58     0.33%\n",
       "57     0.29%\n",
       "55     0.26%\n",
       "49     0.26%\n",
       "50     0.25%\n",
       "48     0.24%\n",
       "52     0.23%\n",
       "51     0.23%\n",
       "36     0.23%\n",
       "43     0.22%\n",
       "27     0.22%\n",
       "35     0.22%\n",
       "42     0.21%\n",
       "37      0.2%\n",
       "38      0.2%\n",
       "29      0.2%\n",
       "28     0.19%\n",
       "44     0.19%\n",
       "41     0.18%\n",
       "30     0.18%\n",
       "45     0.18%\n",
       "34     0.18%\n",
       "31     0.18%\n",
       "21     0.16%\n",
       "22     0.16%\n",
       "24     0.15%\n",
       "54     0.14%\n",
       "23     0.14%\n",
       "20     0.13%\n",
       "14     0.13%\n",
       "10     0.12%\n",
       "16     0.12%\n",
       "15     0.12%\n",
       "9      0.11%\n",
       "17     0.11%\n",
       "13      0.1%\n",
       "8       0.1%\n",
       "47      0.1%\n",
       "7      0.09%\n",
       "6      0.09%\n",
       "2      0.08%\n",
       "1      0.08%\n",
       "3      0.08%\n",
       "53     0.08%\n",
       "40     0.08%\n",
       "33     0.08%\n",
       "26     0.07%\n",
       "19     0.06%\n",
       "39     0.06%\n",
       "32     0.06%\n",
       "25     0.05%\n",
       "46     0.05%\n",
       "12     0.05%\n",
       "18     0.04%\n",
       "5      0.03%\n",
       "11     0.03%\n",
       "4      0.02%\n",
       "Name: sku, dtype: object"
      ]
     },
     "execution_count": 72,
     "metadata": {},
     "output_type": "execute_result"
    }
   ],
   "source": [
    "df_train['sku'].value_counts().value_counts(normalize=True).mul(100).round(2).astype(str) + '%'"
   ]
  },
  {
   "cell_type": "markdown",
   "id": "f7f75bf4-43f4-43e9-9396-19c058f04e12",
   "metadata": {},
   "source": [
    "# Item data"
   ]
  },
  {
   "cell_type": "code",
   "execution_count": 75,
   "id": "bf13fde9-62ba-42ad-8e54-d3476199ef98",
   "metadata": {},
   "outputs": [
    {
     "name": "stdout",
     "output_type": "stream",
     "text": [
      "{'item_domain_id': 'MLB-SNEAKERS', 'item_id': 492155, 'item_title': 'Tênis Masculino Olympikus Cyber Barato Promoçao', 'site_id': 'MLB', 'sku': 0, 'product_id': None, 'product_family_id': 'MLB15832732'}\n",
      "{'item_domain_id': 'MLB-SURFBOARD_RACKS', 'item_id': 300279, 'item_title': 'Suporte Rack Prancha Parede C/ Regulagem Horizontal Vertical', 'site_id': 'MLB', 'sku': 1, 'product_id': None, 'product_family_id': None}\n",
      "{'item_domain_id': 'MLM-NECKLACES', 'item_id': 69847, 'item_title': '5 Collares Plateados Dama Gargantilla Choker - Onda Shop', 'site_id': 'MLM', 'sku': 2, 'product_id': None, 'product_family_id': None}\n",
      "{'item_domain_id': 'MLM-RINGS', 'item_id': 298603, 'item_title': 'Lindo Anillo De Bella Crepusculo Twilight Promesa Amor Novia', 'site_id': 'MLM', 'sku': 3, 'product_id': None, 'product_family_id': None}\n",
      "{'item_domain_id': 'MLB-WEBCAMS', 'item_id': 345949, 'item_title': 'Webcam Com Microfone Hd 720p Knup Youtube Pc Video Conf Live', 'site_id': 'MLB', 'sku': 4, 'product_id': None, 'product_family_id': None}\n"
     ]
    }
   ],
   "source": [
    "with open(item_data, 'r') as f:\n",
    "    i = 0\n",
    "    for line in f:\n",
    "        print(json.loads(line))\n",
    "        i += 1\n",
    "        if i == 5:\n",
    "            break"
   ]
  },
  {
   "cell_type": "code",
   "execution_count": 6,
   "id": "4f65af2d-4d08-4ea3-a358-4263e291ed12",
   "metadata": {},
   "outputs": [],
   "source": [
    "df_item = pd.read_json(item_data, lines=True)"
   ]
  },
  {
   "cell_type": "code",
   "execution_count": 78,
   "id": "2d562b19-c3e5-4ab7-b080-7f3082c8ace7",
   "metadata": {},
   "outputs": [
    {
     "data": {
      "text/html": [
       "<div>\n",
       "<style scoped>\n",
       "    .dataframe tbody tr th:only-of-type {\n",
       "        vertical-align: middle;\n",
       "    }\n",
       "\n",
       "    .dataframe tbody tr th {\n",
       "        vertical-align: top;\n",
       "    }\n",
       "\n",
       "    .dataframe thead th {\n",
       "        text-align: right;\n",
       "    }\n",
       "</style>\n",
       "<table border=\"1\" class=\"dataframe\">\n",
       "  <thead>\n",
       "    <tr style=\"text-align: right;\">\n",
       "      <th></th>\n",
       "      <th>item_domain_id</th>\n",
       "      <th>item_id</th>\n",
       "      <th>item_title</th>\n",
       "      <th>site_id</th>\n",
       "      <th>sku</th>\n",
       "      <th>product_id</th>\n",
       "      <th>product_family_id</th>\n",
       "    </tr>\n",
       "  </thead>\n",
       "  <tbody>\n",
       "    <tr>\n",
       "      <th>0</th>\n",
       "      <td>MLB-SNEAKERS</td>\n",
       "      <td>492155</td>\n",
       "      <td>Tênis Masculino Olympikus Cyber Barato Promoçao</td>\n",
       "      <td>MLB</td>\n",
       "      <td>0</td>\n",
       "      <td>None</td>\n",
       "      <td>MLB15832732</td>\n",
       "    </tr>\n",
       "    <tr>\n",
       "      <th>1</th>\n",
       "      <td>MLB-SURFBOARD_RACKS</td>\n",
       "      <td>300279</td>\n",
       "      <td>Suporte Rack Prancha Parede C/ Regulagem Horiz...</td>\n",
       "      <td>MLB</td>\n",
       "      <td>1</td>\n",
       "      <td>None</td>\n",
       "      <td>None</td>\n",
       "    </tr>\n",
       "    <tr>\n",
       "      <th>2</th>\n",
       "      <td>MLM-NECKLACES</td>\n",
       "      <td>69847</td>\n",
       "      <td>5 Collares Plateados Dama Gargantilla Choker -...</td>\n",
       "      <td>MLM</td>\n",
       "      <td>2</td>\n",
       "      <td>None</td>\n",
       "      <td>None</td>\n",
       "    </tr>\n",
       "    <tr>\n",
       "      <th>3</th>\n",
       "      <td>MLM-RINGS</td>\n",
       "      <td>298603</td>\n",
       "      <td>Lindo Anillo De Bella Crepusculo Twilight Prom...</td>\n",
       "      <td>MLM</td>\n",
       "      <td>3</td>\n",
       "      <td>None</td>\n",
       "      <td>None</td>\n",
       "    </tr>\n",
       "    <tr>\n",
       "      <th>4</th>\n",
       "      <td>MLB-WEBCAMS</td>\n",
       "      <td>345949</td>\n",
       "      <td>Webcam Com Microfone Hd 720p Knup Youtube Pc V...</td>\n",
       "      <td>MLB</td>\n",
       "      <td>4</td>\n",
       "      <td>None</td>\n",
       "      <td>None</td>\n",
       "    </tr>\n",
       "    <tr>\n",
       "      <th>...</th>\n",
       "      <td>...</td>\n",
       "      <td>...</td>\n",
       "      <td>...</td>\n",
       "      <td>...</td>\n",
       "      <td>...</td>\n",
       "      <td>...</td>\n",
       "      <td>...</td>\n",
       "    </tr>\n",
       "    <tr>\n",
       "      <th>660911</th>\n",
       "      <td>MLB-CELLPHONE_PARTS</td>\n",
       "      <td>320792</td>\n",
       "      <td>2 Parafuso Pentalobe Torx iPhone 5 5c 5s 6 6s ...</td>\n",
       "      <td>MLB</td>\n",
       "      <td>660911</td>\n",
       "      <td>None</td>\n",
       "      <td>None</td>\n",
       "    </tr>\n",
       "    <tr>\n",
       "      <th>660912</th>\n",
       "      <td>MLM-AUTOMOTIVE_EMBLEMS</td>\n",
       "      <td>90441</td>\n",
       "      <td>Emblema Circular Wolfsburg Edition 5cm</td>\n",
       "      <td>MLM</td>\n",
       "      <td>660912</td>\n",
       "      <td>None</td>\n",
       "      <td>None</td>\n",
       "    </tr>\n",
       "    <tr>\n",
       "      <th>660913</th>\n",
       "      <td>MLB-SOFA_AND_FUTON_COVERS</td>\n",
       "      <td>202580</td>\n",
       "      <td>Kit Capa De Sofá Coladinha Jogo 2e3 Lugares Ma...</td>\n",
       "      <td>MLB</td>\n",
       "      <td>660913</td>\n",
       "      <td>None</td>\n",
       "      <td>None</td>\n",
       "    </tr>\n",
       "    <tr>\n",
       "      <th>660914</th>\n",
       "      <td>MLB-SNEAKERS</td>\n",
       "      <td>490874</td>\n",
       "      <td>Calçado Sapatênis Clássico Baltic 234 Ollie</td>\n",
       "      <td>MLB</td>\n",
       "      <td>660914</td>\n",
       "      <td>None</td>\n",
       "      <td>None</td>\n",
       "    </tr>\n",
       "    <tr>\n",
       "      <th>660915</th>\n",
       "      <td>MLM-SURGICAL_MASKS</td>\n",
       "      <td>423179</td>\n",
       "      <td>Cubrebocas Kn95 20 Piezas Pack Válvula Geométr...</td>\n",
       "      <td>MLM</td>\n",
       "      <td>660915</td>\n",
       "      <td>None</td>\n",
       "      <td>None</td>\n",
       "    </tr>\n",
       "  </tbody>\n",
       "</table>\n",
       "<p>660916 rows × 7 columns</p>\n",
       "</div>"
      ],
      "text/plain": [
       "                   item_domain_id  item_id  \\\n",
       "0                    MLB-SNEAKERS   492155   \n",
       "1             MLB-SURFBOARD_RACKS   300279   \n",
       "2                   MLM-NECKLACES    69847   \n",
       "3                       MLM-RINGS   298603   \n",
       "4                     MLB-WEBCAMS   345949   \n",
       "...                           ...      ...   \n",
       "660911        MLB-CELLPHONE_PARTS   320792   \n",
       "660912     MLM-AUTOMOTIVE_EMBLEMS    90441   \n",
       "660913  MLB-SOFA_AND_FUTON_COVERS   202580   \n",
       "660914               MLB-SNEAKERS   490874   \n",
       "660915         MLM-SURGICAL_MASKS   423179   \n",
       "\n",
       "                                               item_title site_id     sku  \\\n",
       "0         Tênis Masculino Olympikus Cyber Barato Promoçao     MLB       0   \n",
       "1       Suporte Rack Prancha Parede C/ Regulagem Horiz...     MLB       1   \n",
       "2       5 Collares Plateados Dama Gargantilla Choker -...     MLM       2   \n",
       "3       Lindo Anillo De Bella Crepusculo Twilight Prom...     MLM       3   \n",
       "4       Webcam Com Microfone Hd 720p Knup Youtube Pc V...     MLB       4   \n",
       "...                                                   ...     ...     ...   \n",
       "660911  2 Parafuso Pentalobe Torx iPhone 5 5c 5s 6 6s ...     MLB  660911   \n",
       "660912             Emblema Circular Wolfsburg Edition 5cm     MLM  660912   \n",
       "660913  Kit Capa De Sofá Coladinha Jogo 2e3 Lugares Ma...     MLB  660913   \n",
       "660914        Calçado Sapatênis Clássico Baltic 234 Ollie     MLB  660914   \n",
       "660915  Cubrebocas Kn95 20 Piezas Pack Válvula Geométr...     MLM  660915   \n",
       "\n",
       "       product_id product_family_id  \n",
       "0            None       MLB15832732  \n",
       "1            None              None  \n",
       "2            None              None  \n",
       "3            None              None  \n",
       "4            None              None  \n",
       "...           ...               ...  \n",
       "660911       None              None  \n",
       "660912       None              None  \n",
       "660913       None              None  \n",
       "660914       None              None  \n",
       "660915       None              None  \n",
       "\n",
       "[660916 rows x 7 columns]"
      ]
     },
     "execution_count": 78,
     "metadata": {},
     "output_type": "execute_result"
    }
   ],
   "source": [
    "df_item"
   ]
  },
  {
   "cell_type": "code",
   "execution_count": 76,
   "id": "bbafa9de-6558-4e25-b5d7-dfd548335158",
   "metadata": {},
   "outputs": [
    {
     "data": {
      "text/html": [
       "<div>\n",
       "<style scoped>\n",
       "    .dataframe tbody tr th:only-of-type {\n",
       "        vertical-align: middle;\n",
       "    }\n",
       "\n",
       "    .dataframe tbody tr th {\n",
       "        vertical-align: top;\n",
       "    }\n",
       "\n",
       "    .dataframe thead th {\n",
       "        text-align: right;\n",
       "    }\n",
       "</style>\n",
       "<table border=\"1\" class=\"dataframe\">\n",
       "  <thead>\n",
       "    <tr style=\"text-align: right;\">\n",
       "      <th></th>\n",
       "      <th>count</th>\n",
       "      <th>unique</th>\n",
       "      <th>top</th>\n",
       "      <th>freq</th>\n",
       "      <th>mean</th>\n",
       "      <th>std</th>\n",
       "      <th>min</th>\n",
       "      <th>25%</th>\n",
       "      <th>50%</th>\n",
       "      <th>75%</th>\n",
       "      <th>max</th>\n",
       "    </tr>\n",
       "  </thead>\n",
       "  <tbody>\n",
       "    <tr>\n",
       "      <th>item_domain_id</th>\n",
       "      <td>660913</td>\n",
       "      <td>8408</td>\n",
       "      <td>MLB-SUPPLEMENTS</td>\n",
       "      <td>13638</td>\n",
       "      <td>NaN</td>\n",
       "      <td>NaN</td>\n",
       "      <td>NaN</td>\n",
       "      <td>NaN</td>\n",
       "      <td>NaN</td>\n",
       "      <td>NaN</td>\n",
       "      <td>NaN</td>\n",
       "    </tr>\n",
       "    <tr>\n",
       "      <th>item_id</th>\n",
       "      <td>660916</td>\n",
       "      <td>NaN</td>\n",
       "      <td>NaN</td>\n",
       "      <td>NaN</td>\n",
       "      <td>259141</td>\n",
       "      <td>149446</td>\n",
       "      <td>0</td>\n",
       "      <td>129868</td>\n",
       "      <td>259206</td>\n",
       "      <td>388517</td>\n",
       "      <td>517895</td>\n",
       "    </tr>\n",
       "    <tr>\n",
       "      <th>item_title</th>\n",
       "      <td>660916</td>\n",
       "      <td>478175</td>\n",
       "      <td>Case Acrigel iPhone Galaxy Huawei Xiaomi Moto ...</td>\n",
       "      <td>167</td>\n",
       "      <td>NaN</td>\n",
       "      <td>NaN</td>\n",
       "      <td>NaN</td>\n",
       "      <td>NaN</td>\n",
       "      <td>NaN</td>\n",
       "      <td>NaN</td>\n",
       "      <td>NaN</td>\n",
       "    </tr>\n",
       "    <tr>\n",
       "      <th>site_id</th>\n",
       "      <td>660916</td>\n",
       "      <td>3</td>\n",
       "      <td>MLB</td>\n",
       "      <td>336334</td>\n",
       "      <td>NaN</td>\n",
       "      <td>NaN</td>\n",
       "      <td>NaN</td>\n",
       "      <td>NaN</td>\n",
       "      <td>NaN</td>\n",
       "      <td>NaN</td>\n",
       "      <td>NaN</td>\n",
       "    </tr>\n",
       "    <tr>\n",
       "      <th>sku</th>\n",
       "      <td>660916</td>\n",
       "      <td>NaN</td>\n",
       "      <td>NaN</td>\n",
       "      <td>NaN</td>\n",
       "      <td>330458</td>\n",
       "      <td>190790</td>\n",
       "      <td>0</td>\n",
       "      <td>165229</td>\n",
       "      <td>330458</td>\n",
       "      <td>495686</td>\n",
       "      <td>660915</td>\n",
       "    </tr>\n",
       "    <tr>\n",
       "      <th>product_id</th>\n",
       "      <td>29668</td>\n",
       "      <td>15863</td>\n",
       "      <td>MLB6125887</td>\n",
       "      <td>36</td>\n",
       "      <td>NaN</td>\n",
       "      <td>NaN</td>\n",
       "      <td>NaN</td>\n",
       "      <td>NaN</td>\n",
       "      <td>NaN</td>\n",
       "      <td>NaN</td>\n",
       "      <td>NaN</td>\n",
       "    </tr>\n",
       "    <tr>\n",
       "      <th>product_family_id</th>\n",
       "      <td>83184</td>\n",
       "      <td>29600</td>\n",
       "      <td>MLB12287867</td>\n",
       "      <td>262</td>\n",
       "      <td>NaN</td>\n",
       "      <td>NaN</td>\n",
       "      <td>NaN</td>\n",
       "      <td>NaN</td>\n",
       "      <td>NaN</td>\n",
       "      <td>NaN</td>\n",
       "      <td>NaN</td>\n",
       "    </tr>\n",
       "  </tbody>\n",
       "</table>\n",
       "</div>"
      ],
      "text/plain": [
       "                    count  unique  \\\n",
       "item_domain_id     660913    8408   \n",
       "item_id            660916     NaN   \n",
       "item_title         660916  478175   \n",
       "site_id            660916       3   \n",
       "sku                660916     NaN   \n",
       "product_id          29668   15863   \n",
       "product_family_id   83184   29600   \n",
       "\n",
       "                                                                 top    freq  \\\n",
       "item_domain_id                                       MLB-SUPPLEMENTS   13638   \n",
       "item_id                                                          NaN     NaN   \n",
       "item_title         Case Acrigel iPhone Galaxy Huawei Xiaomi Moto ...     167   \n",
       "site_id                                                          MLB  336334   \n",
       "sku                                                              NaN     NaN   \n",
       "product_id                                                MLB6125887      36   \n",
       "product_family_id                                        MLB12287867     262   \n",
       "\n",
       "                     mean     std  min     25%     50%     75%     max  \n",
       "item_domain_id        NaN     NaN  NaN     NaN     NaN     NaN     NaN  \n",
       "item_id            259141  149446    0  129868  259206  388517  517895  \n",
       "item_title            NaN     NaN  NaN     NaN     NaN     NaN     NaN  \n",
       "site_id               NaN     NaN  NaN     NaN     NaN     NaN     NaN  \n",
       "sku                330458  190790    0  165229  330458  495686  660915  \n",
       "product_id            NaN     NaN  NaN     NaN     NaN     NaN     NaN  \n",
       "product_family_id     NaN     NaN  NaN     NaN     NaN     NaN     NaN  "
      ]
     },
     "execution_count": 76,
     "metadata": {},
     "output_type": "execute_result"
    }
   ],
   "source": [
    "df_item.describe(include='all').transpose()"
   ]
  },
  {
   "cell_type": "code",
   "execution_count": 98,
   "id": "05372c80-4c0a-483b-8e36-2bb80fcc134c",
   "metadata": {},
   "outputs": [
    {
     "data": {
      "text/plain": [
       "item_domain_id            3\n",
       "item_id                   0\n",
       "item_title                0\n",
       "site_id                   0\n",
       "sku                       0\n",
       "product_id           631248\n",
       "product_family_id    577732\n",
       "dtype: int64"
      ]
     },
     "execution_count": 98,
     "metadata": {},
     "output_type": "execute_result"
    }
   ],
   "source": [
    "df_item.isna().sum()"
   ]
  },
  {
   "cell_type": "code",
   "execution_count": 7,
   "id": "8b308df2-824b-4ebf-b05f-3efdeab8b337",
   "metadata": {},
   "outputs": [
    {
     "data": {
      "text/plain": [
       "MLB-SUPPLEMENTS                 13638\n",
       "MLM-CELLPHONE_COVERS            10333\n",
       "MLB-HAIR_TREATMENTS              4655\n",
       "MLM-T_SHIRTS                     4526\n",
       "MLM-HEADPHONES                   4462\n",
       "                                ...  \n",
       "MLM-INVISIBLE_PET_FENCES            1\n",
       "MLA-ESTHETIC_ELECTROPORATORS        1\n",
       "MLM-ANTI_STATIC_KITS                1\n",
       "MLA-DUSTPANS                        1\n",
       "MLB-BICYCLE_SPOKES                  1\n",
       "Name: item_domain_id, Length: 8408, dtype: int64"
      ]
     },
     "execution_count": 7,
     "metadata": {},
     "output_type": "execute_result"
    }
   ],
   "source": [
    "df_item['item_domain_id'].value_counts()"
   ]
  },
  {
   "cell_type": "code",
   "execution_count": 80,
   "id": "6dedcb35-9245-4e11-b4fd-47fb9d118fe0",
   "metadata": {},
   "outputs": [
    {
     "data": {
      "text/plain": [
       "MLB-SUPPLEMENTS                          2.06%\n",
       "MLM-CELLPHONE_COVERS                     1.56%\n",
       "MLB-HAIR_TREATMENTS                       0.7%\n",
       "MLM-T_SHIRTS                             0.68%\n",
       "MLM-HEADPHONES                           0.68%\n",
       "                                         ...  \n",
       "MLM-PISCOS                                0.0%\n",
       "MLA-CHALKBOARD_AND_WHITEBOARD_ERASERS     0.0%\n",
       "MLA-DREAMCATCHERS                         0.0%\n",
       "MLA-ESTHETIC_ELECTROPORATORS              0.0%\n",
       "MLA-KITCHEN_FUNNELS                       0.0%\n",
       "Name: item_domain_id, Length: 8408, dtype: object"
      ]
     },
     "execution_count": 80,
     "metadata": {},
     "output_type": "execute_result"
    }
   ],
   "source": [
    "df_item['item_domain_id'].value_counts(normalize=True).mul(100).round(2).astype(str) + '%'"
   ]
  },
  {
   "cell_type": "code",
   "execution_count": 82,
   "id": "984264aa-4b4f-41a2-b20d-f2467e588fbc",
   "metadata": {},
   "outputs": [
    {
     "data": {
      "text/plain": [
       "MLB    50.89%\n",
       "MLM    40.23%\n",
       "MLA     8.88%\n",
       "Name: site_id, dtype: object"
      ]
     },
     "execution_count": 82,
     "metadata": {},
     "output_type": "execute_result"
    }
   ],
   "source": [
    "df_item['site_id'].value_counts(normalize=True).mul(100).round(2).astype(str) + '%'"
   ]
  },
  {
   "cell_type": "code",
   "execution_count": 85,
   "id": "741a3260-1140-4781-9fd6-23e20541096f",
   "metadata": {},
   "outputs": [
    {
     "data": {
      "text/plain": [
       "184358    167\n",
       "150336    128\n",
       "288936    125\n",
       "502053    113\n",
       "200460    106\n",
       "         ... \n",
       "15179       1\n",
       "844         1\n",
       "2893        1\n",
       "4942        1\n",
       "0           1\n",
       "Name: item_id, Length: 517896, dtype: int64"
      ]
     },
     "execution_count": 85,
     "metadata": {},
     "output_type": "execute_result"
    }
   ],
   "source": [
    "df_item['item_id'].value_counts()"
   ]
  },
  {
   "cell_type": "code",
   "execution_count": 97,
   "id": "5f5eefae-6053-4960-b74d-a03e6c91e83e",
   "metadata": {},
   "outputs": [
    {
     "data": {
      "text/plain": [
       "NaN            95.51%\n",
       "MLB6125887      0.01%\n",
       "MLM10448369      0.0%\n",
       "MLM15283838      0.0%\n",
       "MLM15289414      0.0%\n",
       "                ...  \n",
       "MLA16069915      0.0%\n",
       "MLB13187255      0.0%\n",
       "MLM17411322      0.0%\n",
       "MLB16103225      0.0%\n",
       "MLM15448636      0.0%\n",
       "Name: product_id, Length: 15864, dtype: object"
      ]
     },
     "execution_count": 97,
     "metadata": {},
     "output_type": "execute_result"
    }
   ],
   "source": [
    "(df_item['product_id'].value_counts(dropna=False)/len(df_item)).mul(100).round(2).astype(str) + '%'"
   ]
  },
  {
   "cell_type": "code",
   "execution_count": 96,
   "id": "3a236ac7-c0b7-4b26-8c75-6fa1c3fdb048",
   "metadata": {},
   "outputs": [
    {
     "data": {
      "text/plain": [
       "NaN            87.41%\n",
       "MLB12287867     0.04%\n",
       "MLB12565471     0.02%\n",
       "MLB15982834     0.02%\n",
       "MLA14293885     0.02%\n",
       "                ...  \n",
       "MLB16856499      0.0%\n",
       "MLB13248906      0.0%\n",
       "MLB12396611      0.0%\n",
       "MLA9210968       0.0%\n",
       "MLA8752531       0.0%\n",
       "Name: product_family_id, Length: 29601, dtype: object"
      ]
     },
     "execution_count": 96,
     "metadata": {},
     "output_type": "execute_result"
    }
   ],
   "source": [
    "(df_item['product_family_id'].value_counts(dropna=False)/len(df_item)).mul(100).round(2).astype(str) + '%'"
   ]
  },
  {
   "cell_type": "code",
   "execution_count": 99,
   "id": "707d602e-ee19-4363-80b0-85f3f938dd55",
   "metadata": {},
   "outputs": [
    {
     "data": {
      "text/plain": [
       "Case Acrigel iPhone Galaxy Huawei Xiaomi Moto LG Airbag Gruesa Anticaida Uso Rudo Resistente Dama Hombre Caballero Funda    167\n",
       "Tênis Masculino Feminino Roud Casual Esportivo Caminhada Off                                                                143\n",
       "Blister Pestañas Nagaraku Aplicacion Mink 1x1 1pz Una Medida                                                                140\n",
       "Correa Para Apple Watch  Silicon Lisa Colores Serie 5 4 3 2                                                                 125\n",
       "Extensible Silicón Correa Lisa Para Apple Watch Serie 1 2 3 4                                                               113\n",
       "                                                                                                                           ... \n",
       "Harina Masa Para Pizza Fácil Crust Instantánea Betty Crocker                                                                  1\n",
       "Kit Embrague P/ Renault Express Clio R19 1.9 Diesel                                                                           1\n",
       "Soporte Hidraulico Civic 1.8 2006 2007 2008 2009 2010 2011                                                                    1\n",
       "Nutrifeet Creme Nutritivo Para Pés Rachadura Pharma 100g                                                                      1\n",
       "Tarjeta Madre Biostar H410mh Lga 1200 Chipset H410 Ddr4                                                                       1\n",
       "Name: item_title, Length: 478175, dtype: int64"
      ]
     },
     "execution_count": 99,
     "metadata": {},
     "output_type": "execute_result"
    }
   ],
   "source": [
    "df_item['item_title'].value_counts()"
   ]
  },
  {
   "cell_type": "markdown",
   "id": "9eba0dc1-6a99-4bd0-b7bd-d374a2bf250d",
   "metadata": {},
   "source": [
    "# Test Data"
   ]
  },
  {
   "cell_type": "code",
   "execution_count": 4,
   "id": "a6e67584-0eeb-4abe-bf7c-d272c5eae43f",
   "metadata": {},
   "outputs": [],
   "source": [
    "df_test = pd.read_csv(test_data)"
   ]
  },
  {
   "cell_type": "code",
   "execution_count": 5,
   "id": "9348dd06-5dce-4f9f-a544-635a546b14c5",
   "metadata": {},
   "outputs": [],
   "source": [
    "df_test['sku'] = df_test['sku'].astype(str)"
   ]
  },
  {
   "cell_type": "code",
   "execution_count": 6,
   "id": "188bc2eb-f665-4dec-a632-4b223aabe0c4",
   "metadata": {},
   "outputs": [
    {
     "data": {
      "text/html": [
       "<div>\n",
       "<style scoped>\n",
       "    .dataframe tbody tr th:only-of-type {\n",
       "        vertical-align: middle;\n",
       "    }\n",
       "\n",
       "    .dataframe tbody tr th {\n",
       "        vertical-align: top;\n",
       "    }\n",
       "\n",
       "    .dataframe thead th {\n",
       "        text-align: right;\n",
       "    }\n",
       "</style>\n",
       "<table border=\"1\" class=\"dataframe\">\n",
       "  <thead>\n",
       "    <tr style=\"text-align: right;\">\n",
       "      <th></th>\n",
       "      <th>sku</th>\n",
       "      <th>target_stock</th>\n",
       "    </tr>\n",
       "  </thead>\n",
       "  <tbody>\n",
       "    <tr>\n",
       "      <th>0</th>\n",
       "      <td>464801</td>\n",
       "      <td>3</td>\n",
       "    </tr>\n",
       "    <tr>\n",
       "      <th>1</th>\n",
       "      <td>645793</td>\n",
       "      <td>4</td>\n",
       "    </tr>\n",
       "    <tr>\n",
       "      <th>2</th>\n",
       "      <td>99516</td>\n",
       "      <td>8</td>\n",
       "    </tr>\n",
       "    <tr>\n",
       "      <th>3</th>\n",
       "      <td>538100</td>\n",
       "      <td>8</td>\n",
       "    </tr>\n",
       "    <tr>\n",
       "      <th>4</th>\n",
       "      <td>557191</td>\n",
       "      <td>10</td>\n",
       "    </tr>\n",
       "    <tr>\n",
       "      <th>...</th>\n",
       "      <td>...</td>\n",
       "      <td>...</td>\n",
       "    </tr>\n",
       "    <tr>\n",
       "      <th>551467</th>\n",
       "      <td>129187</td>\n",
       "      <td>8</td>\n",
       "    </tr>\n",
       "    <tr>\n",
       "      <th>551468</th>\n",
       "      <td>6707</td>\n",
       "      <td>30</td>\n",
       "    </tr>\n",
       "    <tr>\n",
       "      <th>551469</th>\n",
       "      <td>170355</td>\n",
       "      <td>3</td>\n",
       "    </tr>\n",
       "    <tr>\n",
       "      <th>551470</th>\n",
       "      <td>246568</td>\n",
       "      <td>2</td>\n",
       "    </tr>\n",
       "    <tr>\n",
       "      <th>551471</th>\n",
       "      <td>49718</td>\n",
       "      <td>20</td>\n",
       "    </tr>\n",
       "  </tbody>\n",
       "</table>\n",
       "<p>551472 rows × 2 columns</p>\n",
       "</div>"
      ],
      "text/plain": [
       "           sku  target_stock\n",
       "0       464801             3\n",
       "1       645793             4\n",
       "2        99516             8\n",
       "3       538100             8\n",
       "4       557191            10\n",
       "...        ...           ...\n",
       "551467  129187             8\n",
       "551468    6707            30\n",
       "551469  170355             3\n",
       "551470  246568             2\n",
       "551471   49718            20\n",
       "\n",
       "[551472 rows x 2 columns]"
      ]
     },
     "execution_count": 6,
     "metadata": {},
     "output_type": "execute_result"
    }
   ],
   "source": [
    "df_test"
   ]
  },
  {
   "cell_type": "code",
   "execution_count": 7,
   "id": "a9d506a4-c62e-4ce2-ac19-499453eac541",
   "metadata": {},
   "outputs": [
    {
     "data": {
      "text/html": [
       "<div>\n",
       "<style scoped>\n",
       "    .dataframe tbody tr th:only-of-type {\n",
       "        vertical-align: middle;\n",
       "    }\n",
       "\n",
       "    .dataframe tbody tr th {\n",
       "        vertical-align: top;\n",
       "    }\n",
       "\n",
       "    .dataframe thead th {\n",
       "        text-align: right;\n",
       "    }\n",
       "</style>\n",
       "<table border=\"1\" class=\"dataframe\">\n",
       "  <thead>\n",
       "    <tr style=\"text-align: right;\">\n",
       "      <th></th>\n",
       "      <th>count</th>\n",
       "      <th>unique</th>\n",
       "      <th>top</th>\n",
       "      <th>freq</th>\n",
       "      <th>mean</th>\n",
       "      <th>std</th>\n",
       "      <th>min</th>\n",
       "      <th>25%</th>\n",
       "      <th>50%</th>\n",
       "      <th>75%</th>\n",
       "      <th>max</th>\n",
       "    </tr>\n",
       "  </thead>\n",
       "  <tbody>\n",
       "    <tr>\n",
       "      <th>sku</th>\n",
       "      <td>551472</td>\n",
       "      <td>551472</td>\n",
       "      <td>633645</td>\n",
       "      <td>1</td>\n",
       "      <td>NaN</td>\n",
       "      <td>NaN</td>\n",
       "      <td>NaN</td>\n",
       "      <td>NaN</td>\n",
       "      <td>NaN</td>\n",
       "      <td>NaN</td>\n",
       "      <td>NaN</td>\n",
       "    </tr>\n",
       "    <tr>\n",
       "      <th>target_stock</th>\n",
       "      <td>551472</td>\n",
       "      <td>NaN</td>\n",
       "      <td>NaN</td>\n",
       "      <td>NaN</td>\n",
       "      <td>18.0695</td>\n",
       "      <td>122.711</td>\n",
       "      <td>1</td>\n",
       "      <td>3</td>\n",
       "      <td>6</td>\n",
       "      <td>13</td>\n",
       "      <td>32710</td>\n",
       "    </tr>\n",
       "  </tbody>\n",
       "</table>\n",
       "</div>"
      ],
      "text/plain": [
       "               count  unique     top freq     mean      std  min  25%  50%  \\\n",
       "sku           551472  551472  633645    1      NaN      NaN  NaN  NaN  NaN   \n",
       "target_stock  551472     NaN     NaN  NaN  18.0695  122.711    1    3    6   \n",
       "\n",
       "              75%    max  \n",
       "sku           NaN    NaN  \n",
       "target_stock   13  32710  "
      ]
     },
     "execution_count": 7,
     "metadata": {},
     "output_type": "execute_result"
    }
   ],
   "source": [
    "df_test.describe(include='all').transpose()"
   ]
  },
  {
   "cell_type": "code",
   "execution_count": 8,
   "id": "259feb7c-e0cb-4956-b4bf-b759c799eb3c",
   "metadata": {},
   "outputs": [
    {
     "data": {
      "text/plain": [
       "1       13.29%\n",
       "2       10.73%\n",
       "3         9.0%\n",
       "4        7.79%\n",
       "5        6.62%\n",
       "         ...  \n",
       "2201      0.0%\n",
       "3408      0.0%\n",
       "848       0.0%\n",
       "1177      0.0%\n",
       "2047      0.0%\n",
       "Name: target_stock, Length: 1295, dtype: object"
      ]
     },
     "execution_count": 8,
     "metadata": {},
     "output_type": "execute_result"
    }
   ],
   "source": [
    "df_test['target_stock'].value_counts(normalize=True).mul(100).round(2).astype(str) + '%'"
   ]
  },
  {
   "cell_type": "code",
   "execution_count": null,
   "id": "84d324e2-e68f-442f-aa6a-5b5b2cf6a965",
   "metadata": {},
   "outputs": [],
   "source": [
    "eduardo augsuto santos garcia"
   ]
  }
 ],
 "metadata": {
  "kernelspec": {
   "display_name": "torch",
   "language": "python",
   "name": "torch"
  },
  "language_info": {
   "codemirror_mode": {
    "name": "ipython",
    "version": 3
   },
   "file_extension": ".py",
   "mimetype": "text/x-python",
   "name": "python",
   "nbconvert_exporter": "python",
   "pygments_lexer": "ipython3",
   "version": "3.6.13"
  }
 },
 "nbformat": 4,
 "nbformat_minor": 5
}
